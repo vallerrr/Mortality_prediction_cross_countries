{
 "cells": [
  {
   "cell_type": "code",
   "execution_count": 88,
   "id": "2a8098f7",
   "metadata": {},
   "outputs": [],
   "source": [
    "from lifelines import CoxPHFitter\n",
    "import seaborn as sns\n",
    "import matplotlib.pyplot as plt\n",
    "\n",
    "from src import params\n",
    "import pandas as pd\n",
    "from src import Models\n",
    "from pathlib import Path\n",
    "from src.Evaluate import metric,print_model_fits,sl_eva,evaluate_cox_pred\n",
    "from src import Shap\n",
    "from src import SuperLearner\n",
    "\n",
    "# platform = \"jupyter\"\n",
    "# params.confirm_cwd(platform)\n",
    "model_params = params.model_params\n",
    "colors = {'blue':'#62a0cb','orange':'#ff7f0e','green':'#2ca02c'}\n"
   ]
  },
  {
   "cell_type": "code",
   "execution_count": 11,
   "id": "3bafeffa",
   "metadata": {},
   "outputs": [],
   "source": [
    "df_eval = pd.DataFrame(columns = ['dataset','model','efron_r2','Concordance_Index','brier'])"
   ]
  },
  {
   "cell_type": "markdown",
   "id": "9739b8a4",
   "metadata": {},
   "source": [
    "# HRS"
   ]
  },
  {
   "cell_type": "code",
   "execution_count": 89,
   "id": "b147e7c6",
   "metadata": {},
   "outputs": [],
   "source": [
    "dataset = 'HRS'\n",
    "df = params.data_reader(dataset=dataset,source='us',bio=False)\n",
    "\n",
    "df['duration']=[x-y if not pd.isnull(x) else 2019-y for x,y in zip(df['deathYR'],df['interview_year'])]\n",
    "predictors = model_params['domain_dict']['all']\n",
    "data = df[predictors+['duration','death']]\n",
    "eval_dict = {'dataset':dataset, 'model':'coxph'}"
   ]
  },
  {
   "cell_type": "code",
   "execution_count": null,
   "id": "8b8f18ed",
   "metadata": {},
   "outputs": [],
   "source": [
    "\n",
    "correlation_matrix = data[predictors].corr()\n",
    "#plt.figure(figsize=(12, 8))\n",
    "#sns.heatmap(correlation_matrix, annot=False, cmap=\"coolwarm\", vmin=-1, vmax=1)\n",
    "#plt.show()\n",
    "\n",
    "cols_dict = {}\n",
    "for col in predictors:\n",
    "    if True in list(correlation_matrix[col]>=0.8):\n",
    "        matches = list(correlation_matrix.loc[correlation_matrix[col]>=0.8].index)\n",
    "        values = list(correlation_matrix.loc[correlation_matrix[col]>=0.8,col].values)\n",
    "        matches.remove(col)\n",
    "        values.remove(1)\n",
    "        if len(matches)>0:\n",
    "            cols_dict[f'{col}_{matches[0]}']=values[0]\n",
    "            print(f'{col}, {matches[0]},{values[0]}')\n",
    "\n",
    "        \n",
    "predictors.remove('fatherunemp')\n",
    "predictors.remove('modactivityYN')\n",
    "predictors.remove('Zpurpose')\n",
    "predictors.remove('Zposaffect')"
   ]
  },
  {
   "cell_type": "code",
   "execution_count": 92,
   "id": "19bdf051",
   "metadata": {},
   "outputs": [],
   "source": [
    "# split the dataset \n",
    "from sklearn.model_selection import train_test_split\n",
    "X_train, X_test, y_train, y_test = train_test_split(data[predictors],data[['duration','death']],test_size=0.4,\n",
    "                                                                                random_state=model_params['random_state'])"
   ]
  },
  {
   "cell_type": "code",
   "execution_count": 111,
   "id": "a2b5cf3a",
   "metadata": {},
   "outputs": [],
   "source": [
    "X_test['interview_year']=df.loc[X_test.index,'interview_year']"
   ]
  },
  {
   "cell_type": "code",
   "execution_count": 112,
   "id": "ad477617",
   "metadata": {},
   "outputs": [],
   "source": [
    "data = pd.concat([X_train,y_train], axis=1)\n",
    "cph = CoxPHFitter()\n",
    "cph.fit(data, duration_col='duration', event_col='death')\n",
    "# producing predictions \n",
    "survival_probabilities_06 = cph.predict_survival_function(X_test, times=2019-2006)\n",
    "survival_probabilities_08 = cph.predict_survival_function(X_test, times=2019-2008)\n"
   ]
  },
  {
   "cell_type": "code",
   "execution_count": null,
   "id": "5e46fb90",
   "metadata": {},
   "outputs": [],
   "source": []
  },
  {
   "cell_type": "code",
   "execution_count": 122,
   "id": "e31c0bd5",
   "metadata": {},
   "outputs": [],
   "source": [
    "survival_probabilities = [x if y==2006 else z for x,y,z in zip(np.array(survival_probabilities_08),X_test['interview_year'],np.array(survival_probabilities_08))]\n"
   ]
  },
  {
   "cell_type": "code",
   "execution_count": 134,
   "id": "9702bcd5",
   "metadata": {},
   "outputs": [],
   "source": [
    "eval_dict = {**eval_dict, **evaluate_cox_pred(np.array(y_test['death']), np.array(survival_probabilities))}\n",
    "eval_dict['Concordance_Index']=cph.concordance_index_\n",
    "df_eval = pd.concat([df_eval, pd.DataFrame(eval_dict,index=[0])],axis=0)"
   ]
  },
  {
   "cell_type": "code",
   "execution_count": 136,
   "id": "9d108a22",
   "metadata": {},
   "outputs": [],
   "source": []
  },
  {
   "cell_type": "code",
   "execution_count": 93,
   "id": "2cba714d",
   "metadata": {},
   "outputs": [],
   "source": [
    "import numpy as np\n",
    "import pandas as pd\n",
    "from sksurv.ensemble import RandomSurvivalForest\n",
    "from sksurv.metrics import concordance_index_censored\n",
    "\n",
    "train_y =np.array([(row['death'], row['duration']) for index, row in data.iterrows()], dtype=[('event', '?'), ('time', '<f8')])  \n",
    "train_x = data[predictors]\n",
    "\n",
    "# Initialize RSF model\n",
    "rsf = RandomSurvivalForest(n_estimators=100, min_samples_split=10, min_samples_leaf=15, max_features=\"sqrt\", n_jobs=-1, random_state=model_params['random_state'])\n"
   ]
  },
  {
   "cell_type": "code",
   "execution_count": 94,
   "id": "c3214ea5",
   "metadata": {},
   "outputs": [
    {
     "data": {
      "text/html": [
       "<style>#sk-container-id-5 {color: black;}#sk-container-id-5 pre{padding: 0;}#sk-container-id-5 div.sk-toggleable {background-color: white;}#sk-container-id-5 label.sk-toggleable__label {cursor: pointer;display: block;width: 100%;margin-bottom: 0;padding: 0.3em;box-sizing: border-box;text-align: center;}#sk-container-id-5 label.sk-toggleable__label-arrow:before {content: \"▸\";float: left;margin-right: 0.25em;color: #696969;}#sk-container-id-5 label.sk-toggleable__label-arrow:hover:before {color: black;}#sk-container-id-5 div.sk-estimator:hover label.sk-toggleable__label-arrow:before {color: black;}#sk-container-id-5 div.sk-toggleable__content {max-height: 0;max-width: 0;overflow: hidden;text-align: left;background-color: #f0f8ff;}#sk-container-id-5 div.sk-toggleable__content pre {margin: 0.2em;color: black;border-radius: 0.25em;background-color: #f0f8ff;}#sk-container-id-5 input.sk-toggleable__control:checked~div.sk-toggleable__content {max-height: 200px;max-width: 100%;overflow: auto;}#sk-container-id-5 input.sk-toggleable__control:checked~label.sk-toggleable__label-arrow:before {content: \"▾\";}#sk-container-id-5 div.sk-estimator input.sk-toggleable__control:checked~label.sk-toggleable__label {background-color: #d4ebff;}#sk-container-id-5 div.sk-label input.sk-toggleable__control:checked~label.sk-toggleable__label {background-color: #d4ebff;}#sk-container-id-5 input.sk-hidden--visually {border: 0;clip: rect(1px 1px 1px 1px);clip: rect(1px, 1px, 1px, 1px);height: 1px;margin: -1px;overflow: hidden;padding: 0;position: absolute;width: 1px;}#sk-container-id-5 div.sk-estimator {font-family: monospace;background-color: #f0f8ff;border: 1px dotted black;border-radius: 0.25em;box-sizing: border-box;margin-bottom: 0.5em;}#sk-container-id-5 div.sk-estimator:hover {background-color: #d4ebff;}#sk-container-id-5 div.sk-parallel-item::after {content: \"\";width: 100%;border-bottom: 1px solid gray;flex-grow: 1;}#sk-container-id-5 div.sk-label:hover label.sk-toggleable__label {background-color: #d4ebff;}#sk-container-id-5 div.sk-serial::before {content: \"\";position: absolute;border-left: 1px solid gray;box-sizing: border-box;top: 0;bottom: 0;left: 50%;z-index: 0;}#sk-container-id-5 div.sk-serial {display: flex;flex-direction: column;align-items: center;background-color: white;padding-right: 0.2em;padding-left: 0.2em;position: relative;}#sk-container-id-5 div.sk-item {position: relative;z-index: 1;}#sk-container-id-5 div.sk-parallel {display: flex;align-items: stretch;justify-content: center;background-color: white;position: relative;}#sk-container-id-5 div.sk-item::before, #sk-container-id-5 div.sk-parallel-item::before {content: \"\";position: absolute;border-left: 1px solid gray;box-sizing: border-box;top: 0;bottom: 0;left: 50%;z-index: -1;}#sk-container-id-5 div.sk-parallel-item {display: flex;flex-direction: column;z-index: 1;position: relative;background-color: white;}#sk-container-id-5 div.sk-parallel-item:first-child::after {align-self: flex-end;width: 50%;}#sk-container-id-5 div.sk-parallel-item:last-child::after {align-self: flex-start;width: 50%;}#sk-container-id-5 div.sk-parallel-item:only-child::after {width: 0;}#sk-container-id-5 div.sk-dashed-wrapped {border: 1px dashed gray;margin: 0 0.4em 0.5em 0.4em;box-sizing: border-box;padding-bottom: 0.4em;background-color: white;}#sk-container-id-5 div.sk-label label {font-family: monospace;font-weight: bold;display: inline-block;line-height: 1.2em;}#sk-container-id-5 div.sk-label-container {text-align: center;}#sk-container-id-5 div.sk-container {/* jupyter's `normalize.less` sets `[hidden] { display: none; }` but bootstrap.min.css set `[hidden] { display: none !important; }` so we also need the `!important` here to be able to override the default hidden behavior on the sphinx rendered scikit-learn.org. See: https://github.com/scikit-learn/scikit-learn/issues/21755 */display: inline-block !important;position: relative;}#sk-container-id-5 div.sk-text-repr-fallback {display: none;}</style><div id=\"sk-container-id-5\" class=\"sk-top-container\"><div class=\"sk-text-repr-fallback\"><pre>RandomSurvivalForest(min_samples_leaf=15, min_samples_split=10, n_jobs=-1,\n",
       "                     random_state=87785)</pre><b>In a Jupyter environment, please rerun this cell to show the HTML representation or trust the notebook. <br />On GitHub, the HTML representation is unable to render, please try loading this page with nbviewer.org.</b></div><div class=\"sk-container\" hidden><div class=\"sk-item\"><div class=\"sk-estimator sk-toggleable\"><input class=\"sk-toggleable__control sk-hidden--visually\" id=\"sk-estimator-id-5\" type=\"checkbox\" checked><label for=\"sk-estimator-id-5\" class=\"sk-toggleable__label sk-toggleable__label-arrow\">RandomSurvivalForest</label><div class=\"sk-toggleable__content\"><pre>RandomSurvivalForest(min_samples_leaf=15, min_samples_split=10, n_jobs=-1,\n",
       "                     random_state=87785)</pre></div></div></div></div></div>"
      ],
      "text/plain": [
       "RandomSurvivalForest(min_samples_leaf=15, min_samples_split=10, n_jobs=-1,\n",
       "                     random_state=87785)"
      ]
     },
     "execution_count": 94,
     "metadata": {},
     "output_type": "execute_result"
    }
   ],
   "source": [
    "# Train the model\n",
    "rsf.fit(train_x, train_y)"
   ]
  },
  {
   "cell_type": "code",
   "execution_count": 142,
   "id": "4eac96ef",
   "metadata": {},
   "outputs": [
    {
     "name": "stdout",
     "output_type": "stream",
     "text": [
      "Concordance Index: 0.8608929759205741\n"
     ]
    }
   ],
   "source": [
    "prediction = rsf.predict(X_test.drop(columns=['interview_year']))\n",
    "event_indicator = [True if x ==1 else False for x in y_test['death']]\n",
    "event_time = y_test['duration']\n",
    "\n",
    "c_index = concordance_index_censored(event_indicator, event_time, prediction)\n",
    "print(\"Concordance Index:\", c_index[0])\n",
    "\n",
    "\n",
    "survival_probabilities = rsf.predict_survival_function(X_test.drop(columns=['interview_year']))\n",
    "probabilities_at_timepoint = [fn(2019-2006) if x == 2006 else fn(2019-2008) for fn,x in zip(survival_probabilities,X_test['interview_year'])]\n",
    "\n",
    "\n",
    "eval_dict = {'dataset':dataset,'model':'random survival forest','Concordance_Index':c_index[0]}\n",
    "eval_dict = {**eval_dict, **evaluate_cox_pred(np.array(y_test['death']), probabilities_at_timepoint)}\n"
   ]
  },
  {
   "cell_type": "code",
   "execution_count": 143,
   "id": "91471eee",
   "metadata": {},
   "outputs": [
    {
     "data": {
      "text/plain": [
       "{'dataset': 'HRS',\n",
       " 'model': 'random survival forest',\n",
       " 'Concordance_Index': 0.8608929759205741,\n",
       " 'efron_r2': -1.4817293715630258,\n",
       " 'brier': 0.5283411432225518}"
      ]
     },
     "execution_count": 143,
     "metadata": {},
     "output_type": "execute_result"
    }
   ],
   "source": [
    "eval_dict"
   ]
  },
  {
   "cell_type": "code",
   "execution_count": 144,
   "id": "96742bb7",
   "metadata": {},
   "outputs": [
    {
     "data": {
      "text/html": [
       "<div>\n",
       "<style scoped>\n",
       "    .dataframe tbody tr th:only-of-type {\n",
       "        vertical-align: middle;\n",
       "    }\n",
       "\n",
       "    .dataframe tbody tr th {\n",
       "        vertical-align: top;\n",
       "    }\n",
       "\n",
       "    .dataframe thead th {\n",
       "        text-align: right;\n",
       "    }\n",
       "</style>\n",
       "<table border=\"1\" class=\"dataframe\">\n",
       "  <thead>\n",
       "    <tr style=\"text-align: right;\">\n",
       "      <th></th>\n",
       "      <th>dataset</th>\n",
       "      <th>model</th>\n",
       "      <th>efron_r2</th>\n",
       "      <th>Concordance_Index</th>\n",
       "      <th>brier</th>\n",
       "    </tr>\n",
       "  </thead>\n",
       "  <tbody>\n",
       "    <tr>\n",
       "      <th>0</th>\n",
       "      <td>SHARE</td>\n",
       "      <td>random survival forest</td>\n",
       "      <td>-3.087881</td>\n",
       "      <td>0.865517</td>\n",
       "      <td>0.636617</td>\n",
       "    </tr>\n",
       "    <tr>\n",
       "      <th>1</th>\n",
       "      <td>SHARE</td>\n",
       "      <td>coxph</td>\n",
       "      <td>-3.060498</td>\n",
       "      <td>0.783441</td>\n",
       "      <td>0.632352</td>\n",
       "    </tr>\n",
       "    <tr>\n",
       "      <th>2</th>\n",
       "      <td>ELSA</td>\n",
       "      <td>coxph</td>\n",
       "      <td>-15.983848</td>\n",
       "      <td>0.805159</td>\n",
       "      <td>0.858478</td>\n",
       "    </tr>\n",
       "    <tr>\n",
       "      <th>3</th>\n",
       "      <td>ELSA</td>\n",
       "      <td>random survival forest</td>\n",
       "      <td>-16.068137</td>\n",
       "      <td>0.865035</td>\n",
       "      <td>0.862738</td>\n",
       "    </tr>\n",
       "    <tr>\n",
       "      <th>0</th>\n",
       "      <td>HRS</td>\n",
       "      <td>coxph</td>\n",
       "      <td>-1.593842</td>\n",
       "      <td>0.771599</td>\n",
       "      <td>0.552209</td>\n",
       "    </tr>\n",
       "    <tr>\n",
       "      <th>0</th>\n",
       "      <td>HRS</td>\n",
       "      <td>random survival forest</td>\n",
       "      <td>-1.481729</td>\n",
       "      <td>0.860893</td>\n",
       "      <td>0.528341</td>\n",
       "    </tr>\n",
       "  </tbody>\n",
       "</table>\n",
       "</div>"
      ],
      "text/plain": [
       "  dataset                   model   efron_r2  Concordance_Index     brier\n",
       "0   SHARE  random survival forest  -3.087881           0.865517  0.636617\n",
       "1   SHARE                   coxph  -3.060498           0.783441  0.632352\n",
       "2    ELSA                   coxph -15.983848           0.805159  0.858478\n",
       "3    ELSA  random survival forest -16.068137           0.865035  0.862738\n",
       "0     HRS                   coxph  -1.593842           0.771599  0.552209\n",
       "0     HRS  random survival forest  -1.481729           0.860893  0.528341"
      ]
     },
     "execution_count": 144,
     "metadata": {},
     "output_type": "execute_result"
    }
   ],
   "source": [
    "df_eval = pd.concat([df_eval, pd.DataFrame(eval_dict,index=[0])],axis=0)\n",
    "df_eval"
   ]
  },
  {
   "cell_type": "markdown",
   "id": "ae3adf2c",
   "metadata": {},
   "source": [
    "# SHARE"
   ]
  },
  {
   "cell_type": "code",
   "execution_count": 42,
   "id": "25813996",
   "metadata": {},
   "outputs": [],
   "source": [
    "dataset='SHARE'\n",
    "df = params.data_reader(dataset='SHARE',source='us',bio=False)\n",
    "df = df.loc[(df['deathY']>2005)|( df['death']==0),]\n",
    "\n",
    "domain_name = 'share_all'\n",
    "model_params['domain_dict'][domain_name]= list(set(model_params['domain_dict']['all']).intersection(set(df.columns)))\n",
    "\n",
    "\n",
    "df['duration']=[x-2006 if not pd.isnull(x) else 2021-2006 for x in df['deathY']]\n",
    "predictors = model_params['domain_dict'][domain_name]\n",
    "data = df[predictors+['duration','death']]\n",
    "\n",
    "\n",
    "\n",
    "correlation_matrix = data[predictors].corr()\n",
    "#plt.figure(figsize=(12, 8))\n",
    "#sns.heatmap(correlation_matrix, annot=False, cmap=\"coolwarm\", vmin=-1, vmax=1)\n",
    "#plt.show()\n",
    "\n",
    "# split the dataset \n",
    "from sklearn.model_selection import train_test_split\n",
    "X_train, X_test, y_train, y_test = train_test_split(data[predictors],data[['duration','death']],test_size=0.4,\n",
    "                                                                                random_state=model_params['random_state'])"
   ]
  },
  {
   "cell_type": "code",
   "execution_count": 69,
   "id": "e12a9121",
   "metadata": {},
   "outputs": [],
   "source": [
    "# COXPH\n",
    "eval_dict = {'dataset':dataset, 'model':'coxph'}\n",
    "\n",
    "data = pd.concat([X_train,y_train], axis=1)\n",
    "cph = CoxPHFitter()\n",
    "cph.fit(data, duration_col='duration', event_col='death')\n",
    "# producing predictions \n",
    "survival_probabilities = cph.predict_survival_function(X_test, times=2021-2006)\n",
    "\n",
    "eval_dict = {**eval_dict, **evaluate_cox_pred(np.array(y_test['death']), np.array(survival_probabilities))}\n",
    "eval_dict['Concordance_Index']=cph.concordance_index_\n",
    "\n",
    "df_eval = pd.concat([df_eval, pd.DataFrame(eval_dict,index=[0])],axis=0)"
   ]
  },
  {
   "cell_type": "code",
   "execution_count": 44,
   "id": "04dabfd6",
   "metadata": {},
   "outputs": [
    {
     "data": {
      "text/html": [
       "<style>#sk-container-id-3 {color: black;}#sk-container-id-3 pre{padding: 0;}#sk-container-id-3 div.sk-toggleable {background-color: white;}#sk-container-id-3 label.sk-toggleable__label {cursor: pointer;display: block;width: 100%;margin-bottom: 0;padding: 0.3em;box-sizing: border-box;text-align: center;}#sk-container-id-3 label.sk-toggleable__label-arrow:before {content: \"▸\";float: left;margin-right: 0.25em;color: #696969;}#sk-container-id-3 label.sk-toggleable__label-arrow:hover:before {color: black;}#sk-container-id-3 div.sk-estimator:hover label.sk-toggleable__label-arrow:before {color: black;}#sk-container-id-3 div.sk-toggleable__content {max-height: 0;max-width: 0;overflow: hidden;text-align: left;background-color: #f0f8ff;}#sk-container-id-3 div.sk-toggleable__content pre {margin: 0.2em;color: black;border-radius: 0.25em;background-color: #f0f8ff;}#sk-container-id-3 input.sk-toggleable__control:checked~div.sk-toggleable__content {max-height: 200px;max-width: 100%;overflow: auto;}#sk-container-id-3 input.sk-toggleable__control:checked~label.sk-toggleable__label-arrow:before {content: \"▾\";}#sk-container-id-3 div.sk-estimator input.sk-toggleable__control:checked~label.sk-toggleable__label {background-color: #d4ebff;}#sk-container-id-3 div.sk-label input.sk-toggleable__control:checked~label.sk-toggleable__label {background-color: #d4ebff;}#sk-container-id-3 input.sk-hidden--visually {border: 0;clip: rect(1px 1px 1px 1px);clip: rect(1px, 1px, 1px, 1px);height: 1px;margin: -1px;overflow: hidden;padding: 0;position: absolute;width: 1px;}#sk-container-id-3 div.sk-estimator {font-family: monospace;background-color: #f0f8ff;border: 1px dotted black;border-radius: 0.25em;box-sizing: border-box;margin-bottom: 0.5em;}#sk-container-id-3 div.sk-estimator:hover {background-color: #d4ebff;}#sk-container-id-3 div.sk-parallel-item::after {content: \"\";width: 100%;border-bottom: 1px solid gray;flex-grow: 1;}#sk-container-id-3 div.sk-label:hover label.sk-toggleable__label {background-color: #d4ebff;}#sk-container-id-3 div.sk-serial::before {content: \"\";position: absolute;border-left: 1px solid gray;box-sizing: border-box;top: 0;bottom: 0;left: 50%;z-index: 0;}#sk-container-id-3 div.sk-serial {display: flex;flex-direction: column;align-items: center;background-color: white;padding-right: 0.2em;padding-left: 0.2em;position: relative;}#sk-container-id-3 div.sk-item {position: relative;z-index: 1;}#sk-container-id-3 div.sk-parallel {display: flex;align-items: stretch;justify-content: center;background-color: white;position: relative;}#sk-container-id-3 div.sk-item::before, #sk-container-id-3 div.sk-parallel-item::before {content: \"\";position: absolute;border-left: 1px solid gray;box-sizing: border-box;top: 0;bottom: 0;left: 50%;z-index: -1;}#sk-container-id-3 div.sk-parallel-item {display: flex;flex-direction: column;z-index: 1;position: relative;background-color: white;}#sk-container-id-3 div.sk-parallel-item:first-child::after {align-self: flex-end;width: 50%;}#sk-container-id-3 div.sk-parallel-item:last-child::after {align-self: flex-start;width: 50%;}#sk-container-id-3 div.sk-parallel-item:only-child::after {width: 0;}#sk-container-id-3 div.sk-dashed-wrapped {border: 1px dashed gray;margin: 0 0.4em 0.5em 0.4em;box-sizing: border-box;padding-bottom: 0.4em;background-color: white;}#sk-container-id-3 div.sk-label label {font-family: monospace;font-weight: bold;display: inline-block;line-height: 1.2em;}#sk-container-id-3 div.sk-label-container {text-align: center;}#sk-container-id-3 div.sk-container {/* jupyter's `normalize.less` sets `[hidden] { display: none; }` but bootstrap.min.css set `[hidden] { display: none !important; }` so we also need the `!important` here to be able to override the default hidden behavior on the sphinx rendered scikit-learn.org. See: https://github.com/scikit-learn/scikit-learn/issues/21755 */display: inline-block !important;position: relative;}#sk-container-id-3 div.sk-text-repr-fallback {display: none;}</style><div id=\"sk-container-id-3\" class=\"sk-top-container\"><div class=\"sk-text-repr-fallback\"><pre>RandomSurvivalForest(min_samples_leaf=15, min_samples_split=10, n_jobs=-1,\n",
       "                     random_state=87785)</pre><b>In a Jupyter environment, please rerun this cell to show the HTML representation or trust the notebook. <br />On GitHub, the HTML representation is unable to render, please try loading this page with nbviewer.org.</b></div><div class=\"sk-container\" hidden><div class=\"sk-item\"><div class=\"sk-estimator sk-toggleable\"><input class=\"sk-toggleable__control sk-hidden--visually\" id=\"sk-estimator-id-3\" type=\"checkbox\" checked><label for=\"sk-estimator-id-3\" class=\"sk-toggleable__label sk-toggleable__label-arrow\">RandomSurvivalForest</label><div class=\"sk-toggleable__content\"><pre>RandomSurvivalForest(min_samples_leaf=15, min_samples_split=10, n_jobs=-1,\n",
       "                     random_state=87785)</pre></div></div></div></div></div>"
      ],
      "text/plain": [
       "RandomSurvivalForest(min_samples_leaf=15, min_samples_split=10, n_jobs=-1,\n",
       "                     random_state=87785)"
      ]
     },
     "execution_count": 44,
     "metadata": {},
     "output_type": "execute_result"
    }
   ],
   "source": [
    "# random forest \n",
    "train_y =np.array([(row['death'], row['duration']) for index, row in data.iterrows()], dtype=[('event', '?'), ('time', '<f8')])  \n",
    "train_x = data[predictors]\n",
    "\n",
    "# Initialize RSF model\n",
    "rsf = RandomSurvivalForest(n_estimators=100, min_samples_split=10, min_samples_leaf=15, max_features=\"sqrt\", n_jobs=-1, random_state=model_params['random_state'])\n",
    "\n",
    "# Train the model\n",
    "rsf.fit(train_x, train_y)"
   ]
  },
  {
   "cell_type": "code",
   "execution_count": 56,
   "id": "bc509951",
   "metadata": {},
   "outputs": [
    {
     "name": "stderr",
     "output_type": "stream",
     "text": [
      "X does not have valid feature names, but RandomSurvivalForest was fitted with feature names\n"
     ]
    },
    {
     "name": "stdout",
     "output_type": "stream",
     "text": [
      "Concordance Index: 0.865517129383793\n"
     ]
    },
    {
     "data": {
      "text/html": [
       "<div>\n",
       "<style scoped>\n",
       "    .dataframe tbody tr th:only-of-type {\n",
       "        vertical-align: middle;\n",
       "    }\n",
       "\n",
       "    .dataframe tbody tr th {\n",
       "        vertical-align: top;\n",
       "    }\n",
       "\n",
       "    .dataframe thead th {\n",
       "        text-align: right;\n",
       "    }\n",
       "</style>\n",
       "<table border=\"1\" class=\"dataframe\">\n",
       "  <thead>\n",
       "    <tr style=\"text-align: right;\">\n",
       "      <th></th>\n",
       "      <th>dataset</th>\n",
       "      <th>model</th>\n",
       "      <th>efron_r2</th>\n",
       "      <th>Concordance_Index</th>\n",
       "      <th>brier</th>\n",
       "    </tr>\n",
       "  </thead>\n",
       "  <tbody>\n",
       "    <tr>\n",
       "      <th>0</th>\n",
       "      <td>HRS</td>\n",
       "      <td>coxph</td>\n",
       "      <td>-1.810933</td>\n",
       "      <td>0.771599</td>\n",
       "      <td>0.598426</td>\n",
       "    </tr>\n",
       "    <tr>\n",
       "      <th>0</th>\n",
       "      <td>HRS</td>\n",
       "      <td>random survival forest</td>\n",
       "      <td>-10009.632719</td>\n",
       "      <td>0.860893</td>\n",
       "      <td>2131.186904</td>\n",
       "    </tr>\n",
       "    <tr>\n",
       "      <th>0</th>\n",
       "      <td>SHARE</td>\n",
       "      <td>random survival forest</td>\n",
       "      <td>-56.807512</td>\n",
       "      <td>0.865517</td>\n",
       "      <td>9.002520</td>\n",
       "    </tr>\n",
       "    <tr>\n",
       "      <th>0</th>\n",
       "      <td>SHARE</td>\n",
       "      <td>coxph</td>\n",
       "      <td>-3.060498</td>\n",
       "      <td>0.783441</td>\n",
       "      <td>0.632352</td>\n",
       "    </tr>\n",
       "    <tr>\n",
       "      <th>0</th>\n",
       "      <td>SHARE</td>\n",
       "      <td>random survival forest</td>\n",
       "      <td>-3.087881</td>\n",
       "      <td>0.865517</td>\n",
       "      <td>0.636617</td>\n",
       "    </tr>\n",
       "  </tbody>\n",
       "</table>\n",
       "</div>"
      ],
      "text/plain": [
       "  dataset                   model      efron_r2  Concordance_Index  \\\n",
       "0     HRS                   coxph     -1.810933           0.771599   \n",
       "0     HRS  random survival forest -10009.632719           0.860893   \n",
       "0   SHARE  random survival forest    -56.807512           0.865517   \n",
       "0   SHARE                   coxph     -3.060498           0.783441   \n",
       "0   SHARE  random survival forest     -3.087881           0.865517   \n",
       "\n",
       "         brier  \n",
       "0     0.598426  \n",
       "0  2131.186904  \n",
       "0     9.002520  \n",
       "0     0.632352  \n",
       "0     0.636617  "
      ]
     },
     "execution_count": 56,
     "metadata": {},
     "output_type": "execute_result"
    }
   ],
   "source": [
    "prediction = rsf.predict(X_test.values)\n",
    "event_indicator = [True if x ==1 else False for x in y_test['death']]\n",
    "event_time = y_test['duration']\n",
    "\n",
    "c_index = concordance_index_censored(event_indicator, event_time, prediction)\n",
    "print(\"Concordance Index:\", c_index[0])\n",
    "\n",
    "survival_probabilities = rsf.predict_survival_function(X_test)\n",
    "probabilities_at_timepoint = [fn(2021-2006) for fn in survival_probabilities]\n",
    "\n",
    "\n",
    "eval_dict = {'dataset':dataset,'model':'random survival forest','Concordance_Index':c_index[0]}\n",
    "eval_dict = {**eval_dict, **evaluate_cox_pred(np.array(y_test['death']), probabilities_at_timepoint)}\n",
    "df_eval = pd.concat([df_eval, pd.DataFrame(eval_dict,index=[0])],axis=0)\n",
    "df_eval"
   ]
  },
  {
   "cell_type": "markdown",
   "id": "fcb89d8b",
   "metadata": {},
   "source": [
    "# ELSA"
   ]
  },
  {
   "cell_type": "code",
   "execution_count": 75,
   "id": "6a21599d",
   "metadata": {},
   "outputs": [],
   "source": [
    "dataset = 'ELSA'\n",
    "df = params.data_reader(dataset=dataset,source='us',bio=False)\n",
    "\n",
    "\n",
    "domain_name = 'elsa_all'\n",
    "# recode a new domain dict for SHARE  based on its columns\n",
    "model_params['domain_dict'][domain_name]= list(set(model_params['domain_dict']['all']).intersection(set(df.columns)))\n",
    "\n",
    "\n",
    "\n",
    "df['duration']=[x-2005 if not pd.isnull(x) else 2012-2005 for x in df['radyear']]\n",
    "predictors = model_params['domain_dict'][domain_name]\n",
    "predictors.remove('sleepYN')\n",
    "data = df[predictors+['duration','death']]\n",
    "\n",
    "\n",
    "\n",
    "\n",
    "\n",
    "\n",
    "correlation_matrix = data[predictors].corr()\n",
    "#plt.figure(figsize=(12, 8))\n",
    "#sns.heatmap(correlation_matrix, annot=False, cmap=\"coolwarm\", vmin=-1, vmax=1)\n",
    "#plt.show()\n",
    "\n",
    "# split the dataset \n",
    "from sklearn.model_selection import train_test_split\n",
    "X_train, X_test, y_train, y_test = train_test_split(data[predictors],data[['duration','death']],test_size=0.4,\n",
    "                                                                                random_state=model_params['random_state'])"
   ]
  },
  {
   "cell_type": "code",
   "execution_count": 78,
   "id": "f2bf8ed7",
   "metadata": {},
   "outputs": [],
   "source": [
    "# COXPH\n",
    "eval_dict = {'dataset':dataset, 'model':'coxph'}\n",
    "\n",
    "data = pd.concat([X_train,y_train], axis=1)\n",
    "cph = CoxPHFitter()\n",
    "cph.fit(data, duration_col='duration', event_col='death')\n",
    "# producing predictions \n",
    "survival_probabilities = cph.predict_survival_function(X_test, times=2012-2005)\n",
    "\n",
    "eval_dict = {**eval_dict, **evaluate_cox_pred(np.array(y_test['death']), np.array(survival_probabilities))}\n",
    "eval_dict['Concordance_Index']=cph.concordance_index_\n",
    "\n",
    "df_eval = pd.concat([df_eval, pd.DataFrame(eval_dict,index=[0])],axis=0)"
   ]
  },
  {
   "cell_type": "code",
   "execution_count": 81,
   "id": "e82d241e",
   "metadata": {},
   "outputs": [
    {
     "data": {
      "text/html": [
       "<style>#sk-container-id-4 {color: black;}#sk-container-id-4 pre{padding: 0;}#sk-container-id-4 div.sk-toggleable {background-color: white;}#sk-container-id-4 label.sk-toggleable__label {cursor: pointer;display: block;width: 100%;margin-bottom: 0;padding: 0.3em;box-sizing: border-box;text-align: center;}#sk-container-id-4 label.sk-toggleable__label-arrow:before {content: \"▸\";float: left;margin-right: 0.25em;color: #696969;}#sk-container-id-4 label.sk-toggleable__label-arrow:hover:before {color: black;}#sk-container-id-4 div.sk-estimator:hover label.sk-toggleable__label-arrow:before {color: black;}#sk-container-id-4 div.sk-toggleable__content {max-height: 0;max-width: 0;overflow: hidden;text-align: left;background-color: #f0f8ff;}#sk-container-id-4 div.sk-toggleable__content pre {margin: 0.2em;color: black;border-radius: 0.25em;background-color: #f0f8ff;}#sk-container-id-4 input.sk-toggleable__control:checked~div.sk-toggleable__content {max-height: 200px;max-width: 100%;overflow: auto;}#sk-container-id-4 input.sk-toggleable__control:checked~label.sk-toggleable__label-arrow:before {content: \"▾\";}#sk-container-id-4 div.sk-estimator input.sk-toggleable__control:checked~label.sk-toggleable__label {background-color: #d4ebff;}#sk-container-id-4 div.sk-label input.sk-toggleable__control:checked~label.sk-toggleable__label {background-color: #d4ebff;}#sk-container-id-4 input.sk-hidden--visually {border: 0;clip: rect(1px 1px 1px 1px);clip: rect(1px, 1px, 1px, 1px);height: 1px;margin: -1px;overflow: hidden;padding: 0;position: absolute;width: 1px;}#sk-container-id-4 div.sk-estimator {font-family: monospace;background-color: #f0f8ff;border: 1px dotted black;border-radius: 0.25em;box-sizing: border-box;margin-bottom: 0.5em;}#sk-container-id-4 div.sk-estimator:hover {background-color: #d4ebff;}#sk-container-id-4 div.sk-parallel-item::after {content: \"\";width: 100%;border-bottom: 1px solid gray;flex-grow: 1;}#sk-container-id-4 div.sk-label:hover label.sk-toggleable__label {background-color: #d4ebff;}#sk-container-id-4 div.sk-serial::before {content: \"\";position: absolute;border-left: 1px solid gray;box-sizing: border-box;top: 0;bottom: 0;left: 50%;z-index: 0;}#sk-container-id-4 div.sk-serial {display: flex;flex-direction: column;align-items: center;background-color: white;padding-right: 0.2em;padding-left: 0.2em;position: relative;}#sk-container-id-4 div.sk-item {position: relative;z-index: 1;}#sk-container-id-4 div.sk-parallel {display: flex;align-items: stretch;justify-content: center;background-color: white;position: relative;}#sk-container-id-4 div.sk-item::before, #sk-container-id-4 div.sk-parallel-item::before {content: \"\";position: absolute;border-left: 1px solid gray;box-sizing: border-box;top: 0;bottom: 0;left: 50%;z-index: -1;}#sk-container-id-4 div.sk-parallel-item {display: flex;flex-direction: column;z-index: 1;position: relative;background-color: white;}#sk-container-id-4 div.sk-parallel-item:first-child::after {align-self: flex-end;width: 50%;}#sk-container-id-4 div.sk-parallel-item:last-child::after {align-self: flex-start;width: 50%;}#sk-container-id-4 div.sk-parallel-item:only-child::after {width: 0;}#sk-container-id-4 div.sk-dashed-wrapped {border: 1px dashed gray;margin: 0 0.4em 0.5em 0.4em;box-sizing: border-box;padding-bottom: 0.4em;background-color: white;}#sk-container-id-4 div.sk-label label {font-family: monospace;font-weight: bold;display: inline-block;line-height: 1.2em;}#sk-container-id-4 div.sk-label-container {text-align: center;}#sk-container-id-4 div.sk-container {/* jupyter's `normalize.less` sets `[hidden] { display: none; }` but bootstrap.min.css set `[hidden] { display: none !important; }` so we also need the `!important` here to be able to override the default hidden behavior on the sphinx rendered scikit-learn.org. See: https://github.com/scikit-learn/scikit-learn/issues/21755 */display: inline-block !important;position: relative;}#sk-container-id-4 div.sk-text-repr-fallback {display: none;}</style><div id=\"sk-container-id-4\" class=\"sk-top-container\"><div class=\"sk-text-repr-fallback\"><pre>RandomSurvivalForest(min_samples_leaf=15, min_samples_split=10, n_jobs=-1,\n",
       "                     random_state=87785)</pre><b>In a Jupyter environment, please rerun this cell to show the HTML representation or trust the notebook. <br />On GitHub, the HTML representation is unable to render, please try loading this page with nbviewer.org.</b></div><div class=\"sk-container\" hidden><div class=\"sk-item\"><div class=\"sk-estimator sk-toggleable\"><input class=\"sk-toggleable__control sk-hidden--visually\" id=\"sk-estimator-id-4\" type=\"checkbox\" checked><label for=\"sk-estimator-id-4\" class=\"sk-toggleable__label sk-toggleable__label-arrow\">RandomSurvivalForest</label><div class=\"sk-toggleable__content\"><pre>RandomSurvivalForest(min_samples_leaf=15, min_samples_split=10, n_jobs=-1,\n",
       "                     random_state=87785)</pre></div></div></div></div></div>"
      ],
      "text/plain": [
       "RandomSurvivalForest(min_samples_leaf=15, min_samples_split=10, n_jobs=-1,\n",
       "                     random_state=87785)"
      ]
     },
     "execution_count": 81,
     "metadata": {},
     "output_type": "execute_result"
    }
   ],
   "source": [
    "# random forest \n",
    "train_y =np.array([(row['death'], row['duration']) for index, row in data.iterrows()], dtype=[('event', '?'), ('time', '<f8')])  \n",
    "train_x = data[predictors]\n",
    "\n",
    "# Initialize RSF model\n",
    "rsf = RandomSurvivalForest(n_estimators=100, min_samples_split=10, min_samples_leaf=15, max_features=\"sqrt\", n_jobs=-1, random_state=model_params['random_state'])\n",
    "\n",
    "# Train the model\n",
    "rsf.fit(train_x, train_y)"
   ]
  },
  {
   "cell_type": "code",
   "execution_count": 82,
   "id": "7c49708c",
   "metadata": {},
   "outputs": [
    {
     "name": "stdout",
     "output_type": "stream",
     "text": [
      "Concordance Index: 0.8650352678372701\n"
     ]
    },
    {
     "name": "stderr",
     "output_type": "stream",
     "text": [
      "X does not have valid feature names, but RandomSurvivalForest was fitted with feature names\n"
     ]
    },
    {
     "data": {
      "text/html": [
       "<div>\n",
       "<style scoped>\n",
       "    .dataframe tbody tr th:only-of-type {\n",
       "        vertical-align: middle;\n",
       "    }\n",
       "\n",
       "    .dataframe tbody tr th {\n",
       "        vertical-align: top;\n",
       "    }\n",
       "\n",
       "    .dataframe thead th {\n",
       "        text-align: right;\n",
       "    }\n",
       "</style>\n",
       "<table border=\"1\" class=\"dataframe\">\n",
       "  <thead>\n",
       "    <tr style=\"text-align: right;\">\n",
       "      <th></th>\n",
       "      <th>dataset</th>\n",
       "      <th>model</th>\n",
       "      <th>efron_r2</th>\n",
       "      <th>Concordance_Index</th>\n",
       "      <th>brier</th>\n",
       "    </tr>\n",
       "  </thead>\n",
       "  <tbody>\n",
       "    <tr>\n",
       "      <th>0</th>\n",
       "      <td>HRS</td>\n",
       "      <td>coxph</td>\n",
       "      <td>-1.810933</td>\n",
       "      <td>0.771599</td>\n",
       "      <td>0.598426</td>\n",
       "    </tr>\n",
       "    <tr>\n",
       "      <th>1</th>\n",
       "      <td>HRS</td>\n",
       "      <td>random survival forest</td>\n",
       "      <td>-10009.632719</td>\n",
       "      <td>0.860893</td>\n",
       "      <td>2131.186904</td>\n",
       "    </tr>\n",
       "    <tr>\n",
       "      <th>2</th>\n",
       "      <td>SHARE</td>\n",
       "      <td>random survival forest</td>\n",
       "      <td>-3.087881</td>\n",
       "      <td>0.865517</td>\n",
       "      <td>0.636617</td>\n",
       "    </tr>\n",
       "    <tr>\n",
       "      <th>0</th>\n",
       "      <td>SHARE</td>\n",
       "      <td>coxph</td>\n",
       "      <td>-3.060498</td>\n",
       "      <td>0.783441</td>\n",
       "      <td>0.632352</td>\n",
       "    </tr>\n",
       "    <tr>\n",
       "      <th>0</th>\n",
       "      <td>ELSA</td>\n",
       "      <td>coxph</td>\n",
       "      <td>-15.983848</td>\n",
       "      <td>0.805159</td>\n",
       "      <td>0.858478</td>\n",
       "    </tr>\n",
       "    <tr>\n",
       "      <th>0</th>\n",
       "      <td>ELSA</td>\n",
       "      <td>random survival forest</td>\n",
       "      <td>-16.068137</td>\n",
       "      <td>0.865035</td>\n",
       "      <td>0.862738</td>\n",
       "    </tr>\n",
       "  </tbody>\n",
       "</table>\n",
       "</div>"
      ],
      "text/plain": [
       "  dataset                   model      efron_r2  Concordance_Index  \\\n",
       "0     HRS                   coxph     -1.810933           0.771599   \n",
       "1     HRS  random survival forest -10009.632719           0.860893   \n",
       "2   SHARE  random survival forest     -3.087881           0.865517   \n",
       "0   SHARE                   coxph     -3.060498           0.783441   \n",
       "0    ELSA                   coxph    -15.983848           0.805159   \n",
       "0    ELSA  random survival forest    -16.068137           0.865035   \n",
       "\n",
       "         brier  \n",
       "0     0.598426  \n",
       "1  2131.186904  \n",
       "2     0.636617  \n",
       "0     0.632352  \n",
       "0     0.858478  \n",
       "0     0.862738  "
      ]
     },
     "execution_count": 82,
     "metadata": {},
     "output_type": "execute_result"
    }
   ],
   "source": [
    "prediction = rsf.predict(X_test)\n",
    "event_indicator = [True if x ==1 else False for x in y_test['death']]\n",
    "event_time = y_test['duration']\n",
    "\n",
    "c_index = concordance_index_censored(event_indicator, event_time, prediction)\n",
    "print(\"Concordance Index:\", c_index[0])\n",
    "\n",
    "survival_probabilities = rsf.predict_survival_function(X_test)\n",
    "probabilities_at_timepoint = [fn(2012-2005) for fn in survival_probabilities]\n",
    "\n",
    "\n",
    "eval_dict = {'dataset':dataset,'model':'random survival forest','Concordance_Index':c_index[0]}\n",
    "eval_dict = {**eval_dict, **evaluate_cox_pred(np.array(y_test['death']), probabilities_at_timepoint)}\n",
    "df_eval = pd.concat([df_eval, pd.DataFrame(eval_dict,index=[0])],axis=0)\n",
    "df_eval"
   ]
  },
  {
   "cell_type": "code",
   "execution_count": 145,
   "id": "4c96edbc",
   "metadata": {},
   "outputs": [],
   "source": [
    "df_eval.to_csv(Path.cwd()/'results/survival_models.csv',index=False)"
   ]
  },
  {
   "cell_type": "code",
   "execution_count": 147,
   "id": "99ab1449",
   "metadata": {},
   "outputs": [
    {
     "name": "stdout",
     "output_type": "stream",
     "text": [
      "\\begin{table}\n",
      "\\centering\n",
      "\\caption{Results of Survival Models for three datasets}\n",
      "\\label{tab:survival_res}\n",
      "\\begin{tabular}{llrrr}\n",
      "\\toprule\n",
      "dataset &                  model &   efron\\_r2 &  Concordance\\_Index &    brier \\\\\n",
      "\\midrule\n",
      "  SHARE & random survival forest &  -3.087881 &           0.865517 & 0.636617 \\\\\n",
      "  SHARE &                  coxph &  -3.060498 &           0.783441 & 0.632352 \\\\\n",
      "   ELSA &                  coxph & -15.983848 &           0.805159 & 0.858478 \\\\\n",
      "   ELSA & random survival forest & -16.068137 &           0.865035 & 0.862738 \\\\\n",
      "    HRS &                  coxph &  -1.593842 &           0.771599 & 0.552209 \\\\\n",
      "    HRS & random survival forest &  -1.481729 &           0.860893 & 0.528341 \\\\\n",
      "\\bottomrule\n",
      "\\end{tabular}\n",
      "\\end{table}\n",
      "\n"
     ]
    },
    {
     "name": "stderr",
     "output_type": "stream",
     "text": [
      "In future versions `DataFrame.to_latex` is expected to utilise the base implementation of `Styler.to_latex` for formatting and rendering. The arguments signature may therefore change. It is recommended instead to use `DataFrame.style.to_latex` which also contains additional functionality.\n"
     ]
    }
   ],
   "source": [
    "print(df_eval.to_latex(index=False, caption='Results of Survival Models for three datasets', label='tab:survival_res'))"
   ]
  },
  {
   "cell_type": "code",
   "execution_count": null,
   "id": "b42dbe6e",
   "metadata": {},
   "outputs": [],
   "source": []
  }
 ],
 "metadata": {
  "kernelspec": {
   "display_name": "Python 3 (ipykernel)",
   "language": "python",
   "name": "python3"
  },
  "language_info": {
   "codemirror_mode": {
    "name": "ipython",
    "version": 3
   },
   "file_extension": ".py",
   "mimetype": "text/x-python",
   "name": "python",
   "nbconvert_exporter": "python",
   "pygments_lexer": "ipython3",
   "version": "3.8.6"
  },
  "toc": {
   "base_numbering": 1,
   "nav_menu": {
    "height": "165.998px",
    "width": "661.997px"
   },
   "number_sections": true,
   "sideBar": true,
   "skip_h1_title": false,
   "title_cell": "Table of Contents",
   "title_sidebar": "Contents",
   "toc_cell": false,
   "toc_position": {},
   "toc_section_display": true,
   "toc_window_display": false
  },
  "varInspector": {
   "cols": {
    "lenName": 16,
    "lenType": 16,
    "lenVar": 40
   },
   "kernels_config": {
    "python": {
     "delete_cmd_postfix": "",
     "delete_cmd_prefix": "del ",
     "library": "var_list.py",
     "varRefreshCmd": "print(var_dic_list())"
    },
    "r": {
     "delete_cmd_postfix": ") ",
     "delete_cmd_prefix": "rm(",
     "library": "var_list.r",
     "varRefreshCmd": "cat(var_dic_list()) "
    }
   },
   "types_to_exclude": [
    "module",
    "function",
    "builtin_function_or_method",
    "instance",
    "_Feature"
   ],
   "window_display": false
  }
 },
 "nbformat": 4,
 "nbformat_minor": 5
}
