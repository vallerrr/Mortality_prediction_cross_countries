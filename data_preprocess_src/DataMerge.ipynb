{
 "cells": [
  {
   "cell_type": "code",
   "execution_count": 1,
   "metadata": {
    "ExecuteTime": {
     "end_time": "2023-04-12T11:00:55.820601Z",
     "start_time": "2023-04-12T11:00:55.806029Z"
    }
   },
   "outputs": [
    {
     "data": {
      "text/plain": [
       "'/Users/valler/Python/OX_Thesis/OX_thesis'"
      ]
     },
     "execution_count": 1,
     "metadata": {},
     "output_type": "execute_result"
    }
   ],
   "source": [
    "import os\n",
    "from pathlib import Path\n",
    "\n",
    "os.chdir(Path.cwd().parent)\n",
    "os.getcwd()\n"
   ]
  },
  {
   "cell_type": "code",
   "execution_count": 2,
   "metadata": {
    "ExecuteTime": {
     "end_time": "2023-04-12T11:02:36.301136Z",
     "start_time": "2023-04-12T11:02:36.088117Z"
    }
   },
   "outputs": [],
   "source": [
    "from src import params\n",
    "df_HRS = params.data_reader(source='us',dataset='HRS',bio=False,platform='local')\n",
    "df_SHARE = params.data_reader(source='us',dataset='SHARE',bio=False,platform='local')\n",
    "\n",
    "# label data\n",
    "df_HRS['dataset']=0\n",
    "df_SHARE['dataset']=1"
   ]
  },
  {
   "cell_type": "code",
   "execution_count": 6,
   "metadata": {
    "ExecuteTime": {
     "end_time": "2023-04-12T11:03:08.888676Z",
     "start_time": "2023-04-12T11:03:08.881706Z"
    }
   },
   "outputs": [
    {
     "data": {
      "text/plain": [
       "count    2.167100e+04\n",
       "mean     2.362143e+05\n",
       "std      6.784992e+05\n",
       "min     -5.492232e+05\n",
       "25%      5.177303e+04\n",
       "50%      1.515098e+05\n",
       "75%      2.879482e+05\n",
       "max      7.030952e+07\n",
       "Name: ZwealthT, dtype: float64"
      ]
     },
     "execution_count": 6,
     "metadata": {},
     "output_type": "execute_result"
    }
   ],
   "source": [
    "df_SHARE['ZwealthT'].describe()"
   ]
  },
  {
   "cell_type": "code",
   "execution_count": 3,
   "metadata": {
    "ExecuteTime": {
     "end_time": "2023-04-11T00:54:58.363904Z",
     "start_time": "2023-04-11T00:54:58.358895Z"
    }
   },
   "outputs": [
    {
     "data": {
      "text/plain": [
       "count    2.167100e+04\n",
       "mean    -3.934527e-17\n",
       "std      1.000023e+00\n",
       "min     -1.157637e+00\n",
       "25%     -2.718434e-01\n",
       "50%     -1.248438e-01\n",
       "75%      7.624930e-02\n",
       "max      1.032793e+02\n",
       "Name: ZwealthT, dtype: float64"
      ]
     },
     "execution_count": 3,
     "metadata": {},
     "output_type": "execute_result"
    }
   ],
   "source": [
    "import numpy as np\n",
    "col='ZwealthT'\n",
    "df_SHARE[col]=df_SHARE[col]-np.mean(df_SHARE[col])\n",
    "df_SHARE[col]=df_SHARE[col]/np.std(df_SHARE[col])\n",
    "df_SHARE['ZwealthT'].describe()"
   ]
  },
  {
   "cell_type": "code",
   "execution_count": 9,
   "metadata": {
    "ExecuteTime": {
     "end_time": "2023-04-11T01:00:15.723116Z",
     "start_time": "2023-04-11T01:00:15.611983Z"
    }
   },
   "outputs": [],
   "source": [
    "import pandas as pd\n",
    "df=pd.merge(left=df_SHARE,right=df_HRS,how='outer')"
   ]
  },
  {
   "cell_type": "code",
   "execution_count": 10,
   "metadata": {
    "ExecuteTime": {
     "end_time": "2023-04-11T01:01:39.583604Z",
     "start_time": "2023-04-11T01:01:39.581278Z"
    }
   },
   "outputs": [],
   "source": [
    "domain_lst = list(set(df_HRS.columns).intersection(set(df_SHARE)))\n",
    "domain_lst.remove('death')"
   ]
  },
  {
   "cell_type": "code",
   "execution_count": 11,
   "metadata": {},
   "outputs": [],
   "source": [
    "def standardise(col,df):\n",
    "    df[col]-=df[col].mean()\n",
    "    df[col]/=df[col].std()\n",
    "    return df"
   ]
  },
  {
   "cell_type": "code",
   "execution_count": 12,
   "metadata": {},
   "outputs": [],
   "source": [
    "for col in domain_lst:\n",
    "    df=standardise(col,df)"
   ]
  },
  {
   "cell_type": "code",
   "execution_count": 26,
   "metadata": {
    "ExecuteTime": {
     "end_time": "2023-04-11T01:01:43.663367Z",
     "start_time": "2023-04-11T01:01:41.572681Z"
    }
   },
   "outputs": [
    {
     "name": "stdout",
     "output_type": "stream",
     "text": [
      "today is 2023-04-11 01:01:41.565155\n",
      "\n",
      "xgb\n",
      "seed is 87785\n",
      "imv=0.09996658459178699,\n",
      "roc-auc=0.7963376540812322,\n",
      "pr-auc=0.5713663614083474,\n",
      "f1=0.4924224761016554,\n",
      "efron_r2=0.21324653870387322,\n",
      "ffc_r2=0.4806852074093836,\n",
      "IP=0.23747568093385213\n",
      "\n",
      "lgb\n",
      "seed is 87785\n",
      "imv=0.11746227143840406,\n",
      "roc-auc=0.8112501763274802,\n",
      "pr-auc=0.5966801027035116,\n",
      "f1=0.501067615658363,\n",
      "efron_r2=0.24665750566485056,\n",
      "ffc_r2=0.5027388877948598,\n",
      "IP=0.23747568093385213\n"
     ]
    }
   ],
   "source": [
    "from src import params\n",
    "from datetime import datetime\n",
    "from src import Evaluate\n",
    "from src import Models\n",
    "\n",
    "model_params = params.model_params\n",
    "# Model Performance Comparison\n",
    "\n",
    "print(f'today is {datetime.today()}')\n",
    "for model_selection in ['xgb', 'lgb']:\n",
    "    print(f'\\n{model_selection}')\n",
    "    model = Models.Model_fixed_test_size(data=df,\n",
    "                                         test_size=model_params['test_size'],\n",
    "                                         domain_list=domain_lst,\n",
    "                                         model=model_selection,\n",
    "                                         train_subset_size=1,\n",
    "                                         order=0,\n",
    "                                         y_colname=model_params['y_colname'],\n",
    "                                         random_state=model_params['random_state'])\n",
    "    evas = Evaluate.metric(model)\n",
    "    print(f'imv={evas.imv},\\nroc-auc={evas.auc_score},\\npr-auc={evas.pr_auc},\\nf1={evas.pr_f1},\\nefron_r2={evas.efron_rsquare},\\nffc_r2={evas.ffc_r2},\\nIP={evas.pr_no_skill}')\n",
    "\n",
    "\n",
    "\n"
   ]
  },
  {
   "cell_type": "code",
   "execution_count": 27,
   "metadata": {
    "ExecuteTime": {
     "end_time": "2023-04-11T01:01:58.686302Z",
     "start_time": "2023-04-11T01:01:58.683361Z"
    }
   },
   "outputs": [
    {
     "data": {
      "text/plain": [
       "(10574, 28)"
      ]
     },
     "execution_count": 27,
     "metadata": {},
     "output_type": "execute_result"
    }
   ],
   "source": [
    "model.X_test.shape"
   ]
  },
  {
   "cell_type": "code",
   "execution_count": 13,
   "metadata": {},
   "outputs": [
    {
     "name": "stdout",
     "output_type": "stream",
     "text": [
      "today is 2023-04-12 11:10:31.509185\n",
      "\n",
      "xgb\n",
      "seed is 87785\n",
      "imv=0.09998691890117675,\n",
      "roc-auc=0.7963248522230789,\n",
      "pr-auc=0.5714306874015246,\n",
      "f1=0.4925373134328358,\n",
      "efron_r2=0.21331723330704488,\n",
      "ffc_r2=0.4807318710149341,\n",
      "IP=0.23747568093385213\n",
      "\n",
      "lgb\n",
      "seed is 87785\n",
      "imv=0.11756006896621232,\n",
      "roc-auc=0.8112128335487909,\n",
      "pr-auc=0.597560702681865,\n",
      "f1=0.5054579971523493,\n",
      "efron_r2=0.2481061688889623,\n",
      "ffc_r2=0.5036951114135317,\n",
      "IP=0.23747568093385213\n"
     ]
    }
   ],
   "source": [
    "from src import params\n",
    "from datetime import datetime\n",
    "from src import Evaluate\n",
    "from src import Models\n",
    "\n",
    "model_params = params.model_params\n",
    "# Model Performance Comparison\n",
    "\n",
    "print(f'today is {datetime.today()}')\n",
    "for model_selection in ['xgb', 'lgb']:\n",
    "    print(f'\\n{model_selection}')\n",
    "    model = Models.Model_fixed_test_size(data=df,\n",
    "                                         test_size=model_params['test_size'],\n",
    "                                         domain_list=domain_lst,\n",
    "                                         model=model_selection,\n",
    "                                         train_subset_size=1,\n",
    "                                         order=0,\n",
    "                                         y_colname=model_params['y_colname'],\n",
    "                                         random_state=model_params['random_state'])\n",
    "    evas = Evaluate.metric(model)\n",
    "    print(f'imv={evas.imv},\\nroc-auc={evas.auc_score},\\npr-auc={evas.pr_auc},\\nf1={evas.pr_f1},\\nefron_r2={evas.efron_rsquare},\\nffc_r2={evas.ffc_r2},\\nIP={evas.pr_no_skill}')\n",
    "\n"
   ]
  },
  {
   "cell_type": "markdown",
   "metadata": {},
   "source": [
    "For Standardising: there is a rise in the performance but not as much as we have expected before "
   ]
  },
  {
   "cell_type": "markdown",
   "metadata": {},
   "source": [
    "we will move \n"
   ]
  }
 ],
 "metadata": {
  "kernelspec": {
   "display_name": "Python 3 (ipykernel)",
   "language": "python",
   "name": "python3"
  },
  "language_info": {
   "codemirror_mode": {
    "name": "ipython",
    "version": 3
   },
   "file_extension": ".py",
   "mimetype": "text/x-python",
   "name": "python",
   "nbconvert_exporter": "python",
   "pygments_lexer": "ipython3",
   "version": "3.8.6"
  },
  "toc": {
   "base_numbering": 1,
   "nav_menu": {},
   "number_sections": true,
   "sideBar": true,
   "skip_h1_title": false,
   "title_cell": "Table of Contents",
   "title_sidebar": "Contents",
   "toc_cell": false,
   "toc_position": {},
   "toc_section_display": true,
   "toc_window_display": false
  },
  "varInspector": {
   "cols": {
    "lenName": 16,
    "lenType": 16,
    "lenVar": 40
   },
   "kernels_config": {
    "python": {
     "delete_cmd_postfix": "",
     "delete_cmd_prefix": "del ",
     "library": "var_list.py",
     "varRefreshCmd": "print(var_dic_list())"
    },
    "r": {
     "delete_cmd_postfix": ") ",
     "delete_cmd_prefix": "rm(",
     "library": "var_list.r",
     "varRefreshCmd": "cat(var_dic_list()) "
    }
   },
   "types_to_exclude": [
    "module",
    "function",
    "builtin_function_or_method",
    "instance",
    "_Feature"
   ],
   "window_display": false
  }
 },
 "nbformat": 4,
 "nbformat_minor": 1
}
