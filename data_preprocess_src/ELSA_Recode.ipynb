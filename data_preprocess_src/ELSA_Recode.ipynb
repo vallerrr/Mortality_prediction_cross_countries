{
 "cells": [
  {
   "cell_type": "markdown",
   "metadata": {
    "collapsed": true
   },
   "source": [
    "# Import package and initiate"
   ]
  },
  {
   "cell_type": "markdown",
   "metadata": {},
   "source": [
    "## import packages"
   ]
  },
  {
   "cell_type": "code",
   "execution_count": 1,
   "metadata": {
    "pycharm": {
     "is_executing": true
    }
   },
   "outputs": [],
   "source": [
    "import pandas as pd\n",
    "import numpy as np\n",
    "\n",
    "# import data33\n",
    "data = pd.read_stata(\"/Users/valler/Python/OX_Thesis/OX_thesis/Data/ELSA/harmonised/H_ELSA_g2.dta\")\n",
    "df = pd.DataFrame(data[['idauniq','pn','rabyear','radyear']])\n",
    "\n",
    "# death check \n",
    "df['radyear'].value_counts().sum()\n",
    "# only 849 death information\n",
    "\n",
    "# variable Record\n",
    "df_multiple_response_record=pd.DataFrame(columns=['varname','maximum_missing_response','standardise','reverse_code','varset'])\n",
    "\n",
    "# historical vars record \n",
    "df_historical_response_record=pd.DataFrame(columns=['varname','standardise','replace_dict','varset'])\n",
    "\n",
    "\n"
   ]
  },
  {
   "cell_type": "code",
   "execution_count": 9,
   "metadata": {},
   "outputs": [],
   "source": [
    "# central control \n",
    "total_waves=2\n",
    "latest_wave=2\n",
    "health_wave=6\n",
    "neighbor_wave=1 # only 1,3,7 available"
   ]
  },
  {
   "cell_type": "markdown",
   "metadata": {},
   "source": [
    "## import data"
   ]
  },
  {
   "cell_type": "code",
   "execution_count": 3,
   "metadata": {
    "pycharm": {
     "is_executing": true
    }
   },
   "outputs": [],
   "source": [
    "df_multiple_response_record=pd.read_csv('/Users/valler/Python/OX_Thesis/OX_thesis/Data/ELSA/multiresponse_average.csv')\n",
    "df_historical_response_record=pd.read_csv('/Users/valler/Python/OX_Thesis/OX_thesis/Data/ELSA/df_historical_response_record.csv')\n",
    "df=pd.read_csv('/Users/valler/Python/OX_Thesis/OX_thesis/Data/ELSA/recoded_data.csv')"
   ]
  },
  {
   "cell_type": "markdown",
   "metadata": {},
   "source": [
    "## basic functions "
   ]
  },
  {
   "cell_type": "code",
   "execution_count": 2,
   "metadata": {
    "pycharm": {
     "is_executing": true
    }
   },
   "outputs": [],
   "source": [
    "# 1.2 \n",
    "\n",
    "def gen_data_across_waves(varname_w1,total_waves,data):\n",
    "    \"\"\"\n",
    "    generate the column names with the first column name\n",
    "    when we need to draw information from multiple waves\n",
    "    \"\"\"\n",
    "    var_names=[]\n",
    "    for i in range(1,total_waves+1):\n",
    "        var_names.append(varname_w1.replace('1',str(i)))\n",
    "    temp = data[var_names]\n",
    "    return temp\n",
    "\n",
    "def count_times(df_row,response_to_count):\n",
    "    \"\"\"\n",
    "    send the row and response to count, to count the times that the \n",
    "    response has appeared in ech row/ppl\n",
    "    e.g. df['rentperiod'] = temp.apply(count_times,axis=1,response_to_count='1.own home')\n",
    "    \"\"\"\n",
    "    count=0\n",
    "    for item in df_row:\n",
    "        if item==response_to_count:\n",
    "            count+=1\n",
    "    return count\n",
    "\n",
    "\n",
    "def average_response_by_row(df_row,maximum_missing_response):\n",
    "    \"\"\"\n",
    "    for vars that draw info from multiple variables, this\n",
    "    function help to average them with maximum_missing_response\n",
    "    # df_row should be sliced data\n",
    "    \"\"\"\n",
    "    \n",
    "    missing_count=sum(pd.isnull(df_row))\n",
    "    if missing_count>=maximum_missing_response:\n",
    "        return None\n",
    "    else:\n",
    "        df_row=[x for x in df_row if not pd.isnull(x)]\n",
    "        return sum(df_row)/len(df_row)\n",
    "\n"
   ]
  },
  {
   "cell_type": "markdown",
   "metadata": {},
   "source": [
    "## multiple_response functions"
   ]
  },
  {
   "cell_type": "code",
   "execution_count": 3,
   "metadata": {
    "pycharm": {
     "is_executing": true
    }
   },
   "outputs": [],
   "source": [
    "\n",
    "\n",
    "def add_row_to_df_multiple_response_record(new_row,df_multiple_response_record):\n",
    "    \"\"\"\n",
    "    add row to df_multiple_response_record\n",
    "    if the row exists, firstly drop then add \n",
    "    \"\"\"\n",
    "    varname= new_row['varname']\n",
    "    if varname in list(df_multiple_response_record['varname']):\n",
    "        # only keep those rows that doesn't match the new varname\n",
    "        df_multiple_response_record=df_multiple_response_record.where(df_multiple_response_record['varname']!=varname)\n",
    "        df_multiple_response_record.dropna(inplace=True)\n",
    "    df_multiple_response_record=df_multiple_response_record.append(new_row,ignore_index=True)\n",
    "    return df_multiple_response_record\n",
    "\n",
    "def multiresponse_average(varname,df_multiple_response_record,data,df,print_missing_count_control):\n",
    "    \"\"\"\n",
    "    automation of average to multiple response\n",
    "    \"\"\"\n",
    "    \n",
    "    sliced_row = df_multiple_response_record.loc[df_multiple_response_record['varname']==varname,]\n",
    "    varset=sliced_row['varset'].values[0]\n",
    "    maximum_missing_response=sliced_row['maximum_missing_response'].values[0]\n",
    "    reverse_control=sliced_row['reverse_code'].values[0]\n",
    "    \n",
    "    sliced_data = data[varset].copy()\n",
    "    \n",
    "    # print_missing counts info\n",
    "    if print_missing_count_control:\n",
    "        missing_count(sliced_data)\n",
    "    \n",
    "    print(f'1. maximum_missing_response {maximum_missing_response}\\n2. reverse_control {reverse_control}')\n",
    "    \n",
    "    # replace string to number \n",
    "    replace_dict=replace_response_with_value(sliced_data)\n",
    "    print(\"3. the replace dict is {}\".format(replace_dict))\n",
    "    sliced_data.replace(replace_dict,inplace=True)\n",
    "    \n",
    "    # reverse control\n",
    "    if reverse_control:\n",
    "        \n",
    "        unique_vals = get_unique_valaues(sliced_data)\n",
    "        print(\"4. unique_vals are {}\".format(unique_vals))\n",
    "        replace_dict = generate_value_replace_dict(unique_vals)\n",
    "        print(\"5. dict is {}\".format(replace_dict))\n",
    "        sliced_data.replace(replace_dict,inplace=True)\n",
    "    \n",
    "    # if there is only one variable, set it to the df directly rather than averaging them \n",
    "    if len(varset)==1:\n",
    "        df[varname]=sliced_data[varset[0]]\n",
    "    else:    \n",
    "        df[varname]=sliced_data.apply(average_response_by_row,axis=1,maximum_missing_response=maximum_missing_response)\n",
    "    \n",
    "    return df\n",
    "\n",
    "def generate_value_replace_dict(res_lst):\n",
    "    \"\"\"\n",
    "    return the replace dict for reverse coding \n",
    "    \"\"\"\n",
    "    replace_dict={}\n",
    "    max_val=max(res_lst)\n",
    "    res_lst.sort()\n",
    "    res_len=len(res_lst)\n",
    "    \n",
    "    for index in range(res_len):\n",
    "        reverse_ind = res_len-index-1\n",
    "        replace_dict[res_lst[index]]=res_lst[reverse_ind]\n",
    "    return replace_dict  \n",
    "\n",
    "def get_unique_valaues(sliced_data):\n",
    "    \"\"\"\n",
    "    if we need to treat values from all columns as a whole,\n",
    "    this function help to get the unique value list\n",
    "    \"\"\"\n",
    "    unique_list=[]\n",
    "    for column in sliced_data.columns:\n",
    "        unique_list+=list(sliced_data[column].unique())\n",
    "    \n",
    "    # delete repeat value\n",
    "    unique_list=list(set(unique_list))\n",
    "    \n",
    "    # get rid of nans\n",
    "    unique_list= [x for x in unique_list if not pd.isnull(x)]\n",
    "    return unique_list\n",
    "\n",
    "\n",
    "def replace_response_with_value(sliced_data):\n",
    "    \"\"\"\n",
    "    replace the string response with numbers \n",
    "    # here by default we assume all the values are format of '#. explain'\n",
    "    # e.g. '1.hardly ever or never'\n",
    "    \"\"\"\n",
    "    replace_dict={}\n",
    "    response_list = get_unique_valaues(sliced_data)\n",
    "    \n",
    "    # generate the dict\n",
    "    for res in response_list:\n",
    "        if isinstance(res,str):\n",
    "            number=res.split('.')[0]\n",
    "            replace_dict[res]=int(number)\n",
    "        elif isinstance(res,float) or isinstance(res,int):\n",
    "            number=res\n",
    "            replace_dict[res]=int(number)\n",
    "        else:\n",
    "            print('the response is incorrect, {}, type{}'.format(res,type(res)))\n",
    "        \n",
    "        \n",
    "    return replace_dict\n",
    "\n",
    "def missing_count(sliced_data):\n",
    "    \"\"\"\n",
    "    print the missing counts in each row, account for all columns in var_set\n",
    "    \"\"\"\n",
    "    \n",
    "    def return_sum_of_null(row):\n",
    "        missing_count=sum(pd.isnull(row))\n",
    "        return missing_count\n",
    "    sliced_data['missing_count']=sliced_data.apply(return_sum_of_null,axis=1)\n",
    "    print(\"0. missing information -------- start\")\n",
    "    print(sliced_data['missing_count'].value_counts())\n",
    "    sliced_data.drop(columns=['missing_count'],inplace=True)\n",
    "    \n",
    "    "
   ]
  },
  {
   "cell_type": "markdown",
   "metadata": {},
   "source": [
    "## historical response recorder"
   ]
  },
  {
   "cell_type": "code",
   "execution_count": 4,
   "metadata": {
    "pycharm": {
     "is_executing": true
    }
   },
   "outputs": [],
   "source": [
    "\n",
    "\n",
    "def add_row_to_df_historical_response_record(new_row,df_historical_response_record):\n",
    "    \"\"\"\n",
    "    add row to df_historical_response_record\n",
    "    if there is replace_dict found, ask to replace it or not\n",
    "    if the row exists, firstly drop then add \n",
    "    \"\"\"\n",
    "    varname= new_row['varname']\n",
    "    \n",
    "    if varname in list(df_historical_response_record['varname']):\n",
    "        \n",
    "        exist_row=df_historical_response_record.loc[df_historical_response_record['varname']==varname,:]\n",
    "        replace_dict=exist_row['replace_dict'].values[0]\n",
    "        replace_control = 1 # by deafualt, we update the dict\n",
    "        \n",
    "        # if we have found replace_dict -> choose to update it or not \n",
    "        if not pd.isnull(replace_dict) and isinstance(replace_dict,dict):\n",
    "            stay_control=True\n",
    "            while stay_control:\n",
    "                print('we have found the dict as follows')\n",
    "                for key in replace_dict.keys():\n",
    "                    print('{}->{}'.format(key,replace_dict[key]))\n",
    "                    \n",
    "                replace_control=input(\"do you want to update it? 1->yes 0->no\")\n",
    "                try:\n",
    "                    replace_control=int(replace_control)\n",
    "                    if replace_control in [1,0]:\n",
    "                        stay_control=False\n",
    "                    else:   \n",
    "                        print('please check your response and try again')\n",
    "                except:\n",
    "                    print('please check your response and try again')\n",
    "        \n",
    "        # first delete original rows df_historical_response_record \n",
    "        df_historical_response_record=df_historical_response_record.where(df_historical_response_record['varname']!=varname)\n",
    "        df_historical_response_record.dropna(inplace=True)\n",
    "        df_historical_response_record=df_historical_response_record.append(new_row,ignore_index=True)\n",
    "\n",
    "        if  replace_control==0:  # not update, keep the original one\n",
    "            print('we will keep the original replace_dict')\n",
    "            df_historical_response_record.loc[df_historical_response_record['varname']==varname,'replace_dict']=[replace_dict]\n",
    "        \n",
    "    else:\n",
    "        df_historical_response_record=df_historical_response_record.append(new_row,ignore_index=True)\n",
    "    return df_historical_response_record\n",
    "\n",
    "\n",
    "def historical_response_recorder(varname,df_historical_response_record,data,df):\n",
    "    \"\"\"\n",
    "    check whether there is any affimative response to the question, if exists (doesn't matter how many times) ->1\n",
    "    \"\"\"\n",
    "    sliced_row = df_historical_response_record.loc[df_historical_response_record['varname']==varname,]\n",
    "    varset=sliced_row['varset'].values[0]\n",
    "    sliced_data = data[varset].copy()\n",
    "\n",
    "    # get the replace_dict by inputting or from df_historical_response_record\n",
    "        \n",
    "    replace_dict=generate_replace_dict_for_historical_response(sliced_row,sliced_data)\n",
    "    replace_dict['nan']=None\n",
    "    # record the replace_dict\n",
    "    \n",
    "    df_historical_response_record.loc[df_historical_response_record['varname']==varname,'replace_dict']=[replace_dict]\n",
    "    \n",
    "    # here all the values will be changed to 1/-1 value\n",
    "    # first convert all columns to str (could be categorical)\n",
    "    # for col in sliced_data.columns:\n",
    "        # sliced_data[col].replace(replace_dict,inplace=True)\n",
    "        # sliced_data[col]=sliced_data[col].astype('str')\n",
    "        \n",
    "    # print(f'unique values are {get_unique_valaues(sliced_data)}')\n",
    "    # print(sliced_data.value_counts())\n",
    "    print(f'\\n1.the replace dict is \\n{replace_dict}')\n",
    "    \n",
    "    sliced_data.replace(replace_dict,inplace=True)\n",
    "    \n",
    "    \n",
    "    # if there is only one variable being sent -> set the sliced_data to df directly\n",
    "    if len(varset)==1:\n",
    "        \n",
    "        df[varname]=sliced_data[varset[0]]\n",
    "    else:\n",
    "        # mark response \n",
    "        df[varname]=sliced_data.apply(mark_positive_response,axis=1)\n",
    "        \n",
    "    return df,df_historical_response_record\n",
    "\n",
    "\n",
    "def generate_replace_dict_for_historical_response(sliced_row,sliced_data):\n",
    "    \"\"\"\n",
    "    generate the replace_dict if there is nothing in sliced_row['replace_dict']/returned object is not dict\n",
    "    \"\"\"\n",
    "    replace_dict=sliced_row['replace_dict'].values[0]\n",
    "    \n",
    "    # if we had done it, we shouldn't do it again..\n",
    "    if pd.isnull(replace_dict) or not isinstance(replace_dict,dict):\n",
    "        replace_dict={}\n",
    "        response_list = get_unique_valaues(sliced_data)\n",
    "\n",
    "        for response in response_list:\n",
    "            Pass_control=True\n",
    "            while Pass_control:\n",
    "                replace_val=input(f'replace response [{response}] with int ..')\n",
    "                try:\n",
    "                    replace_val=int(replace_val)\n",
    "                    Pass_control=False\n",
    "                except:\n",
    "                    print('error in the response, please try again')\n",
    "            replace_dict[response]=replace_val\n",
    "    \n",
    "    return replace_dict\n",
    "    \n",
    "def mark_positive_response(df_row):\n",
    "    \"\"\"\n",
    "    if 1 exists in df_row, mark it as 1 else -1\n",
    "    \"\"\"\n",
    "    if 1 in list(df_row):\n",
    "        return 1\n",
    "    else:\n",
    "        return -1\n",
    "    \n"
   ]
  },
  {
   "cell_type": "markdown",
   "metadata": {},
   "source": [
    "# Demographics"
   ]
  },
  {
   "cell_type": "code",
   "execution_count": 5,
   "metadata": {
    "pycharm": {
     "is_executing": true
    }
   },
   "outputs": [],
   "source": [
    "# 2.1. Age should be decide later! as this will be thee base line\n",
    "# the var name is r#agey, replace # by the interview wave number, age aat interview"
   ]
  },
  {
   "cell_type": "markdown",
   "metadata": {},
   "source": [
    "## Gender `male`"
   ]
  },
  {
   "cell_type": "code",
   "execution_count": 6,
   "metadata": {
    "pycharm": {
     "is_executing": true
    }
   },
   "outputs": [
    {
     "data": {
      "text/plain": [
       "-1    10790\n",
       " 1     9012\n",
       "Name: male, dtype: int64"
      ]
     },
     "execution_count": 6,
     "metadata": {},
     "output_type": "execute_result"
    }
   ],
   "source": [
    "# 2.2 \n",
    "df['male']=[1 if x=='1.man' else -1 for x in data['ragender']]\n",
    "df['male'].value_counts()\n",
    "# 9012 men, 10790 women"
   ]
  },
  {
   "cell_type": "markdown",
   "metadata": {},
   "source": [
    "##  Race `white` "
   ]
  },
  {
   "cell_type": "code",
   "execution_count": 7,
   "metadata": {
    "pycharm": {
     "is_executing": true
    }
   },
   "outputs": [
    {
     "data": {
      "text/plain": [
       " 1    18879\n",
       "-1      923\n",
       "Name: white, dtype: int64"
      ]
     },
     "execution_count": 7,
     "metadata": {},
     "output_type": "execute_result"
    }
   ],
   "source": [
    "# 2.3 \n",
    "df['white']=[1 if x=='1.white' else -1 for x in data['raracem']]\n",
    "df['white'].value_counts()"
   ]
  },
  {
   "cell_type": "markdown",
   "metadata": {},
   "source": [
    "## Foreign Born `migrantYN`\n",
    "`w1-w9` `latest_wave`"
   ]
  },
  {
   "cell_type": "code",
   "execution_count": 10,
   "metadata": {},
   "outputs": [
    {
     "name": "stdout",
     "output_type": "stream",
     "text": [
      "\n",
      "1.the replace dict is \n",
      "{'0.out of country': 1, '1.in country': -1, 'nan': None}\n"
     ]
    },
    {
     "data": {
      "text/plain": [
       "-1.0    17775\n",
       " 1.0     1937\n",
       "Name: migrantYN, dtype: int64"
      ]
     },
     "execution_count": 10,
     "metadata": {},
     "output_type": "execute_result"
    }
   ],
   "source": [
    "varset=['rabcountry'.format(latest_wave)] \n",
    "\n",
    "new_row={'varname':'migrantYN',\n",
    "         'varset':varset,\n",
    "         'standardise':True,\n",
    "        'replace_dict':{'0.out of country': 1, '1.in country': -1, 'nan': None}}\n",
    "\n",
    "df_historical_response_record=add_row_to_df_historical_response_record(new_row,df_historical_response_record)\n",
    "\n",
    "varname=new_row['varname']\n",
    "df,df_historical_response_record=historical_response_recorder(varname,df_historical_response_record,data,df)\n",
    "\n",
    "# df[varname]=df[varname].fillna(-1)\n",
    "df[varname].value_counts()\n"
   ]
  },
  {
   "cell_type": "markdown",
   "metadata": {},
   "source": [
    "## New Current Marital Status: With Partnership, `currentpaternered`\n",
    "\n",
    "whether the respondent is parternered now (latest wave) \n",
    "\n",
    "1 → married, paternered\n",
    "\n",
    "-1 → otherwise\n",
    "\n",
    "\n",
    "`w1-w9` `latest_wave`"
   ]
  },
  {
   "cell_type": "markdown",
   "metadata": {},
   "source": [
    "step 1: firstly through the marital status "
   ]
  },
  {
   "cell_type": "code",
   "execution_count": 11,
   "metadata": {},
   "outputs": [
    {
     "name": "stdout",
     "output_type": "stream",
     "text": [
      "\n",
      "1.the replace dict is \n",
      "{'1.married': 1, '4.separated': -1, '8.never married': -1, '3.partnered': 1, '5.divorced': -1, '7.widowed': -1, 'nan': None}\n"
     ]
    },
    {
     "data": {
      "text/plain": [
       "-1.0    13217\n",
       " 1.0     6585\n",
       "Name: currentpaternered, dtype: int64"
      ]
     },
     "execution_count": 11,
     "metadata": {},
     "output_type": "execute_result"
    }
   ],
   "source": [
    "print_missing_count_control=False\n",
    "\n",
    "varset=['r{}mstat'.format(latest_wave)] \n",
    "\n",
    "# varset=[varset[0].replace('1',str(x)) for x in range(1,latest_wave+1)]\n",
    "\n",
    "\n",
    "new_row={'varname':'currentpaternered',\n",
    "         'varset':varset,\n",
    "         'standardise':True,\n",
    "        'replace_dict':{'1.married': 1, '4.separated': -1, '8.never married': -1, '3.partnered': 1, '5.divorced': -1, '7.widowed': -1, 'nan': None}}\n",
    "\n",
    "df_historical_response_record=add_row_to_df_historical_response_record(new_row,df_historical_response_record)\n",
    "\n",
    "varname=new_row['varname']\n",
    "df,df_historical_response_record=historical_response_recorder(varname,df_historical_response_record,data,df)\n",
    "\n",
    "df[varname]=df[varname].fillna(-1)\n",
    "df[varname].value_counts()\n"
   ]
  },
  {
   "cell_type": "markdown",
   "metadata": {},
   "source": [
    " Step 2 Then through the implied partnership status"
   ]
  },
  {
   "cell_type": "code",
   "execution_count": 12,
   "metadata": {},
   "outputs": [
    {
     "data": {
      "text/plain": [
       "-1.0    13217\n",
       " 1.0     6585\n",
       "Name: currentpaternered, dtype: int64"
      ]
     },
     "execution_count": 12,
     "metadata": {},
     "output_type": "execute_result"
    }
   ],
   "source": [
    "implied_status='r{}mpart'.format(latest_wave)\n",
    "df['currentpaternered']=[1 if x=='1.yes' else y for x,y in zip(data[implied_status],df['currentpaternered'])]\n",
    "df['currentpaternered'].value_counts()"
   ]
  },
  {
   "cell_type": "markdown",
   "metadata": {},
   "source": [
    "# Childhood Adversity (7)"
   ]
  },
  {
   "cell_type": "markdown",
   "metadata": {},
   "source": [
    "## Paternal Education  `Zfatherseduc`\n",
    "\n",
    "`single wave` `reverse code`"
   ]
  },
  {
   "cell_type": "code",
   "execution_count": 13,
   "metadata": {
    "pycharm": {
     "is_executing": true
    }
   },
   "outputs": [
    {
     "data": {
      "text/plain": [
       "2.age 14 or under          8006\n",
       "3.at age 15                1616\n",
       "4.at age 16                1012\n",
       "7.age 19 or over            655\n",
       "6.at age 18                 374\n",
       "5.at age 17                 205\n",
       "1.never went to school      178\n",
       "Name: radadeduage, dtype: int64"
      ]
     },
     "execution_count": 13,
     "metadata": {},
     "output_type": "execute_result"
    }
   ],
   "source": [
    "# radadeduage\n",
    "data['radadeduage'].value_counts()"
   ]
  },
  {
   "cell_type": "code",
   "execution_count": 14,
   "metadata": {
    "pycharm": {
     "is_executing": true
    }
   },
   "outputs": [
    {
     "name": "stdout",
     "output_type": "stream",
     "text": [
      "1. maximum_missing_response 0\n",
      "2. reverse_control True\n",
      "3. the replace dict is {'4.at age 16': 4, '6.at age 18': 6, '1.never went to school ': 1, '2.age 14 or under': 2, '3.at age 15': 3, '7.age 19 or over': 7, '5.at age 17': 5}\n",
      "4. unique_vals are [1.0, 2.0, 3.0, 4.0, 5.0, 6.0, 7.0]\n",
      "5. dict is {1.0: 7.0, 2.0: 6.0, 3.0: 5.0, 4.0: 4.0, 5.0: 3.0, 6.0: 2.0, 7.0: 1.0}\n"
     ]
    },
    {
     "data": {
      "text/plain": [
       "count    12046.000000\n",
       "mean         5.265482\n",
       "std          1.398184\n",
       "min          1.000000\n",
       "25%          5.000000\n",
       "50%          6.000000\n",
       "75%          6.000000\n",
       "max          7.000000\n",
       "Name: Zfatherseduc, dtype: float64"
      ]
     },
     "execution_count": 14,
     "metadata": {},
     "output_type": "execute_result"
    }
   ],
   "source": [
    "# descending manner \n",
    "# higher value -> lower education\n",
    "print_missing_count_control=False\n",
    "\n",
    "varset=['radadeduage'] \n",
    "\n",
    "# varset=[x.replace('1',str(neighbor_wave)) for x in varset]\n",
    "\n",
    "# gen record\n",
    "new_row={'varname':'Zfatherseduc',\n",
    "         'varset':varset,\n",
    "         'maximum_missing_response':0,\n",
    "         'standardise':True,\n",
    "        'reverse_code':True}\n",
    "\n",
    "df_multiple_response_record=add_row_to_df_multiple_response_record(new_row,df_multiple_response_record)\n",
    "\n",
    "# get the df \n",
    "varname=new_row['varname']\n",
    "df=multiresponse_average(varname,df_multiple_response_record,data,df,print_missing_count_control)\n",
    "\n",
    "df[varname].describe()"
   ]
  },
  {
   "cell_type": "markdown",
   "metadata": {},
   "source": [
    "## Maternal Education `Zmotherseduc`\n",
    "\n",
    "`single wave` `reverse`"
   ]
  },
  {
   "cell_type": "code",
   "execution_count": 15,
   "metadata": {
    "pycharm": {
     "is_executing": true
    }
   },
   "outputs": [
    {
     "data": {
      "text/plain": [
       "2.age 14 or under          7795\n",
       "3.at age 15                1915\n",
       "4.at age 16                1223\n",
       "7.age 19 or over            421\n",
       "6.at age 18                 383\n",
       "1.never went to school      258\n",
       "5.at age 17                 234\n",
       "Name: ramomeduage, dtype: int64"
      ]
     },
     "execution_count": 15,
     "metadata": {},
     "output_type": "execute_result"
    }
   ],
   "source": [
    "data['ramomeduage'].value_counts()"
   ]
  },
  {
   "cell_type": "code",
   "execution_count": 17,
   "metadata": {
    "pycharm": {
     "is_executing": true
    }
   },
   "outputs": [
    {
     "name": "stdout",
     "output_type": "stream",
     "text": [
      "1. maximum_missing_response 0\n",
      "2. reverse_control True\n",
      "3. the replace dict is {'4.at age 16': 4, '6.at age 18': 6, '1.never went to school ': 1, '2.age 14 or under': 2, '3.at age 15': 3, '7.age 19 or over': 7, '5.at age 17': 5}\n",
      "4. unique_vals are [1.0, 2.0, 3.0, 4.0, 5.0, 6.0, 7.0]\n",
      "5. dict is {1.0: 7.0, 2.0: 6.0, 3.0: 5.0, 4.0: 4.0, 5.0: 3.0, 6.0: 2.0, 7.0: 1.0}\n"
     ]
    },
    {
     "data": {
      "text/plain": [
       "count    12229.000000\n",
       "mean         5.309674\n",
       "std          1.278783\n",
       "min          1.000000\n",
       "25%          5.000000\n",
       "50%          6.000000\n",
       "75%          6.000000\n",
       "max          7.000000\n",
       "Name: Zmotherseduc, dtype: float64"
      ]
     },
     "execution_count": 17,
     "metadata": {},
     "output_type": "execute_result"
    }
   ],
   "source": [
    "# descending manner \n",
    "# higher value -> lower education\n",
    "print_missing_count_control=False\n",
    "\n",
    "varset=['ramomeduage'] \n",
    "\n",
    "# varset=[x.replace('1',str(neighbor_wave)) for x in varset]\n",
    "\n",
    "# gen record\n",
    "new_row={'varname':'Zmotherseduc',\n",
    "         'varset':varset,\n",
    "         'maximum_missing_response':0,\n",
    "         'standardise':True,\n",
    "        'reverse_code':True}\n",
    "\n",
    "df_multiple_response_record=add_row_to_df_multiple_response_record(new_row,df_multiple_response_record)\n",
    "\n",
    "# get the df \n",
    "varname=new_row['varname']\n",
    "df=multiresponse_average(varname,df_multiple_response_record,data,df,print_missing_count_control)\n",
    "\n",
    "df[varname].describe()"
   ]
  },
  {
   "cell_type": "markdown",
   "metadata": {},
   "source": [
    "## 2 Parental Occupation `carersocc`\n",
    "\n",
    "To mimic Lower Father Occupational Status\n",
    "\n",
    "`4.other` category is setting to missing as we don't know what it means\n",
    "\n",
    "`3.military` -> `1.white collar`\n",
    "\n",
    "`ramaoccup` `single variable`"
   ]
  },
  {
   "cell_type": "code",
   "execution_count": 18,
   "metadata": {
    "pycharm": {
     "is_executing": true
    }
   },
   "outputs": [
    {
     "data": {
      "text/plain": [
       "2.blue collar     9178\n",
       "1.white collar    5013\n",
       "4.other           4136\n",
       "3.military         523\n",
       "Name: ramaoccup, dtype: int64"
      ]
     },
     "execution_count": 18,
     "metadata": {},
     "output_type": "execute_result"
    }
   ],
   "source": [
    "data['ramaoccup'].value_counts()"
   ]
  },
  {
   "cell_type": "code",
   "execution_count": 19,
   "metadata": {
    "pycharm": {
     "is_executing": true
    }
   },
   "outputs": [
    {
     "name": "stdout",
     "output_type": "stream",
     "text": [
      "1. maximum_missing_response 0\n",
      "2. reverse_control False\n",
      "3. the replace dict is {'2.blue collar': 2, '1.white collar': 1, '4.other': 4, '3.military': 3}\n"
     ]
    },
    {
     "data": {
      "text/plain": [
       "count    14714.000000\n",
       "mean         1.623760\n",
       "std          0.484458\n",
       "min          1.000000\n",
       "25%          1.000000\n",
       "50%          2.000000\n",
       "75%          2.000000\n",
       "max          2.000000\n",
       "Name: carersocc, dtype: float64"
      ]
     },
     "execution_count": 19,
     "metadata": {},
     "output_type": "execute_result"
    }
   ],
   "source": [
    "# descending manner \n",
    "# higher value -> lower occupation\n",
    "print_missing_count_control=False\n",
    "\n",
    "varset=['ramaoccup'] \n",
    "\n",
    "# varset=[x.replace('1',str(neighbor_wave)) for x in varset]\n",
    "\n",
    "# gen record\n",
    "new_row={'varname':'carersocc',\n",
    "         'varset':varset,\n",
    "         'maximum_missing_response':0,\n",
    "         'standardise':True,\n",
    "        'reverse_code':False}\n",
    "\n",
    "df_multiple_response_record = add_row_to_df_multiple_response_record(new_row,df_multiple_response_record)\n",
    "\n",
    "# get the df \n",
    "varname=new_row['varname']\n",
    "df=multiresponse_average(varname,df_multiple_response_record,data,df,print_missing_count_control)\n",
    "\n",
    "# replace \n",
    "replace_dict={4:None,3:1}\n",
    "df[varname]=df[varname].replace(replace_dict)\n",
    "df[varname].describe()"
   ]
  },
  {
   "cell_type": "code",
   "execution_count": 20,
   "metadata": {
    "pycharm": {
     "is_executing": true
    }
   },
   "outputs": [
    {
     "data": {
      "text/plain": [
       "2.0    9178\n",
       "1.0    5536\n",
       "Name: carersocc, dtype: int64"
      ]
     },
     "execution_count": 20,
     "metadata": {},
     "output_type": "execute_result"
    }
   ],
   "source": [
    "df[varname].value_counts()"
   ]
  },
  {
   "cell_type": "markdown",
   "metadata": {},
   "source": [
    "## Lower Childhood Health Status `rachshlt`\n",
    "\n",
    "To replace Child Psychosocial Adversity  sumCAE? (don't think they are the same but, yah.\n",
    "\n",
    "`single variable` `rachshlt` \n",
    "\n",
    "higher value -> lower health status"
   ]
  },
  {
   "cell_type": "code",
   "execution_count": 21,
   "metadata": {
    "pycharm": {
     "is_executing": true
    }
   },
   "outputs": [
    {
     "data": {
      "text/plain": [
       "1.excellent                     2710\n",
       "2.very good                     2603\n",
       "3.good                          1593\n",
       "4.fair                           645\n",
       "5.poor                           259\n",
       "6.health varied a great deal      33\n",
       "Name: rachshlt, dtype: int64"
      ]
     },
     "execution_count": 21,
     "metadata": {},
     "output_type": "execute_result"
    }
   ],
   "source": [
    "data['rachshlt'].value_counts()"
   ]
  },
  {
   "cell_type": "code",
   "execution_count": 22,
   "metadata": {
    "pycharm": {
     "is_executing": true
    }
   },
   "outputs": [
    {
     "name": "stdout",
     "output_type": "stream",
     "text": [
      "1. maximum_missing_response 0\n",
      "2. reverse_control True\n",
      "3. the replace dict is {'3.good': 3, '2.very good': 2, '4.fair': 4, '5.poor': 5, '1.excellent': 1}\n",
      "4. unique_vals are [1.0, 2.0, 3.0, 4.0, 5.0]\n",
      "5. dict is {1.0: 5.0, 2.0: 4.0, 3.0: 3.0, 4.0: 2.0, 5.0: 1.0}\n"
     ]
    },
    {
     "data": {
      "text/plain": [
       "count    7810.000000\n",
       "mean        3.878361\n",
       "std         1.079408\n",
       "min         1.000000\n",
       "25%         3.000000\n",
       "50%         4.000000\n",
       "75%         5.000000\n",
       "max         5.000000\n",
       "Name: rachshlt, dtype: float64"
      ]
     },
     "execution_count": 22,
     "metadata": {},
     "output_type": "execute_result"
    }
   ],
   "source": [
    "# descending manner \n",
    "print_missing_count_control=False\n",
    "\n",
    "varset=['rachshlt'] \n",
    "\n",
    "# varset=[x.replace('1',str(neighbor_wave)) for x in varset]\n",
    "\n",
    "# gen record\n",
    "new_row={'varname':'rachshlt',\n",
    "         'varset':varset,\n",
    "         'maximum_missing_response':0,\n",
    "         'standardise':True,\n",
    "        'reverse_code':True}\n",
    "\n",
    "df_multiple_response_record=add_row_to_df_multiple_response_record(new_row,df_multiple_response_record)\n",
    "\n",
    "# get the df \n",
    "varname=new_row['varname']\n",
    "\n",
    "# replace \n",
    "replace_dict={\"6.health varied a great deal\":None}\n",
    "data[varname]=data[varname].replace(replace_dict)\n",
    "\n",
    "df=multiresponse_average(varname,df_multiple_response_record,data,df,print_missing_count_control)\n",
    "\n",
    "\n",
    "df[varname].describe()"
   ]
  },
  {
   "cell_type": "markdown",
   "metadata": {},
   "source": [
    "# Adulthood Socioeconomic (13)"
   ]
  },
  {
   "cell_type": "markdown",
   "metadata": {},
   "source": [
    "## 8 History of Divorce `everdivorced`\n",
    "\n",
    "`historical response`"
   ]
  },
  {
   "cell_type": "code",
   "execution_count": 23,
   "metadata": {},
   "outputs": [
    {
     "name": "stdout",
     "output_type": "stream",
     "text": [
      "replace response [3.partnered] with int ..-1\n",
      "replace response [4.separated] with int ..1\n",
      "replace response [5.divorced] with int ..1\n",
      "replace response [1.married] with int ..-1\n",
      "replace response [7.widowed] with int ..-1\n",
      "replace response [8.never married] with int ..-1\n",
      "\n",
      "1.the replace dict is \n",
      "{'3.partnered': -1, '4.separated': 1, '5.divorced': 1, '1.married': -1, '7.widowed': -1, '8.never married': -1, 'nan': None}\n"
     ]
    },
    {
     "data": {
      "text/plain": [
       "-1    18708\n",
       " 1     1094\n",
       "Name: everdivorced, dtype: int64"
      ]
     },
     "execution_count": 23,
     "metadata": {},
     "output_type": "execute_result"
    }
   ],
   "source": [
    "\n",
    "varset=['r1mstat'] \n",
    "\n",
    "varset=[varset[0].replace('1',str(x)) for x in range(1, latest_wave+1)]\n",
    "\n",
    "new_row={'varname':'everdivorced',\n",
    "         'varset':varset,\n",
    "         'standardise':True,\n",
    "        'replace_dict':None}\n",
    "\n",
    "df_historical_response_record=add_row_to_df_historical_response_record(new_row,df_historical_response_record)\n",
    "\n",
    "varname=new_row['varname']\n",
    "df,df_historical_response_record=historical_response_recorder(varname,df_historical_response_record,data,df)\n",
    "\n",
    "df[varname]=df[varname].fillna(-1)\n",
    "df[varname].value_counts()\n"
   ]
  },
  {
   "cell_type": "markdown",
   "metadata": {},
   "source": [
    " new Length of Longest Marriage (Including Current)?  `longestmarriage`\n",
    "`w1-w9`"
   ]
  },
  {
   "cell_type": "code",
   "execution_count": 32,
   "metadata": {},
   "outputs": [
    {
     "data": {
      "text/plain": [
       "<AxesSubplot:>"
      ]
     },
     "execution_count": 32,
     "metadata": {},
     "output_type": "execute_result"
    },
    {
     "data": {
      "image/png": "[encoded data removed]",
      "text/plain": [
       "<Figure size 432x288 with 1 Axes>"
      ]
     },
     "metadata": {
      "needs_background": "light"
     },
     "output_type": "display_data"
    }
   ],
   "source": [
    "data['r9mlen'].hist()"
   ]
  },
  {
   "cell_type": "markdown",
   "metadata": {},
   "source": [
    "## 9 Never Married `nevermarried`\n",
    "`latest_wave`"
   ]
  },
  {
   "cell_type": "code",
   "execution_count": 24,
   "metadata": {},
   "outputs": [
    {
     "name": "stdout",
     "output_type": "stream",
     "text": [
      "replace response [3.partnered] with int ..-1\n",
      "replace response [4.separated] with int ..-1\n",
      "replace response [5.divorced] with int ..-1\n",
      "replace response [1.married] with int ..-1\n",
      "replace response [7.widowed] with int ..-1\n",
      "replace response [8.never married] with int ..1\n",
      "\n",
      "1.the replace dict is \n",
      "{'3.partnered': -1, '4.separated': -1, '5.divorced': -1, '1.married': -1, '7.widowed': -1, '8.never married': 1, 'nan': None}\n"
     ]
    },
    {
     "data": {
      "text/plain": [
       "-1    19205\n",
       " 1      597\n",
       "Name: nevermarried, dtype: int64"
      ]
     },
     "execution_count": 24,
     "metadata": {},
     "output_type": "execute_result"
    }
   ],
   "source": [
    "# r never married\n",
    "\n",
    "varname= 'r{}mnev'.format(latest_wave)\n",
    "\n",
    "new_row={'varname':'nevermarried',\n",
    "         'varset':varset,\n",
    "         'standardise':True,\n",
    "        'replace_dict':None}\n",
    "\n",
    "df_historical_response_record=add_row_to_df_historical_response_record(new_row,df_historical_response_record)\n",
    "\n",
    "varname=new_row['varname']\n",
    "df,df_historical_response_record=historical_response_recorder(varname,df_historical_response_record,data,df)\n",
    "\n",
    "df[varname]=df[varname].fillna(-1)\n",
    "df[varname].value_counts()\n"
   ]
  },
  {
   "cell_type": "markdown",
   "metadata": {},
   "source": [
    "## 43 Lower Income  `ZincomeT`\n",
    "\n",
    "`w1-w9` `latest_wave`"
   ]
  },
  {
   "cell_type": "code",
   "execution_count": 25,
   "metadata": {},
   "outputs": [
    {
     "data": {
      "text/plain": [
       "count      9310.000000\n",
       "mean      20747.097656\n",
       "std       19974.613281\n",
       "min        -643.000000\n",
       "25%       10324.250000\n",
       "50%       16380.300781\n",
       "75%       25302.638672\n",
       "max      502850.531250\n",
       "Name: ZincomeT, dtype: float64"
      ]
     },
     "execution_count": 25,
     "metadata": {},
     "output_type": "execute_result"
    }
   ],
   "source": [
    "varname = 'h{}itot'.format(latest_wave)\n",
    "\n",
    "df['ZincomeT']=data[varname]\n",
    "df['ZincomeT'].describe()\n"
   ]
  },
  {
   "cell_type": "markdown",
   "metadata": {},
   "source": [
    "## 44 Lower Wealth `ZwealthT`\n",
    "\n",
    "`w1-w9` `latest_wave`"
   ]
  },
  {
   "cell_type": "code",
   "execution_count": 26,
   "metadata": {},
   "outputs": [
    {
     "data": {
      "text/plain": [
       "count    9.310000e+03\n",
       "mean     2.635464e+05\n",
       "std      3.921377e+05\n",
       "min     -1.269900e+05\n",
       "25%      8.986850e+04\n",
       "50%      1.875000e+05\n",
       "75%      3.200000e+05\n",
       "max      9.319227e+06\n",
       "Name: ZwealthT, dtype: float64"
      ]
     },
     "execution_count": 26,
     "metadata": {},
     "output_type": "execute_result"
    }
   ],
   "source": [
    "varname = 'h{}atotb'.format(latest_wave)\n",
    "\n",
    "df['ZwealthT']=data[varname]\n",
    "df['ZwealthT'].describe()\n"
   ]
  },
  {
   "cell_type": "markdown",
   "metadata": {},
   "source": [
    "## 18 Education - `Zeduccat`\n",
    "\n",
    "`single wave` "
   ]
  },
  {
   "cell_type": "code",
   "execution_count": 27,
   "metadata": {
    "pycharm": {
     "is_executing": true
    }
   },
   "outputs": [
    {
     "data": {
      "text/plain": [
       "1.lt high-school          7447\n",
       "4.some college            3913\n",
       "3.high-school graduate    3656\n",
       "5.college and above       2963\n",
       "Name: raeduc_e, dtype: int64"
      ]
     },
     "execution_count": 27,
     "metadata": {},
     "output_type": "execute_result"
    }
   ],
   "source": [
    "data['raeduc_e'].value_counts()"
   ]
  },
  {
   "cell_type": "code",
   "execution_count": 29,
   "metadata": {},
   "outputs": [
    {
     "name": "stdout",
     "output_type": "stream",
     "text": [
      "\n",
      "1.the replace dict is \n",
      "{'5.college and above': 0, '3.high-school graduate': 2, '1.lt high-school': 3, '4.some college': 1, 'nan': None}\n"
     ]
    },
    {
     "data": {
      "text/plain": [
       "3.0    7447\n",
       "1.0    3913\n",
       "2.0    3656\n",
       "0.0    2963\n",
       "Name: Zeduccat, dtype: int64"
      ]
     },
     "execution_count": 29,
     "metadata": {},
     "output_type": "execute_result"
    }
   ],
   "source": [
    "\n",
    "varset=['raeduc_e'] # R Freq vigorous phys activ\n",
    "\n",
    "# varset=[varset[0].replace('1',str(x)) for x in range(1,latest_wave+1)]\n",
    "\n",
    "new_row={'varname':'Zeduccat',\n",
    "         'varset':varset,\n",
    "         'standardise':True,\n",
    "        'replace_dict':{'5.college and above': 0, '3.high-school graduate': 2, '1.lt high-school': 3, '4.some college': 1, 'nan': None}}\n",
    "\n",
    "df_historical_response_record=add_row_to_df_historical_response_record(new_row,df_historical_response_record)\n",
    "\n",
    "varname=new_row['varname']\n",
    "df,df_historical_response_record=historical_response_recorder(varname,df_historical_response_record,data,df)\n",
    "\n",
    "# df[varname]=df[varname].fillna(-1)\n",
    "df[varname].value_counts()\n"
   ]
  },
  {
   "cell_type": "markdown",
   "metadata": {},
   "source": [
    "##  45 History of Unemployment  `everunemployed`\n",
    "\n",
    "`w1-w9` `latest_wave`"
   ]
  },
  {
   "cell_type": "code",
   "execution_count": 31,
   "metadata": {},
   "outputs": [
    {
     "name": "stdout",
     "output_type": "stream",
     "text": [
      "we have found the dict as follows\n",
      "1.yes->1\n",
      "0.no->-1\n",
      "nan->None\n",
      "do you want to update it? 1->yes 0->no0\n",
      "we will keep the original replace_dict\n",
      "\n",
      "1.the replace dict is \n",
      "{'1.yes': 1, '0.no': -1, 'nan': None}\n"
     ]
    },
    {
     "data": {
      "text/plain": [
       "-1    19618\n",
       " 1      184\n",
       "Name: everunemployed, dtype: int64"
      ]
     },
     "execution_count": 31,
     "metadata": {},
     "output_type": "execute_result"
    }
   ],
   "source": [
    "\n",
    "varset=['r1unemp'] # R Freq vigorous phys activ\n",
    "\n",
    "varset=[varset[0].replace('1',str(x)) for x in range(1,latest_wave+1)]\n",
    "\n",
    "new_row={'varname':'everunemployed',\n",
    "         'varset':varset,\n",
    "         'standardise':True,\n",
    "        'replace_dict':{'1.yes': 1, '0.no': -1, 'nan': None}}\n",
    "\n",
    "df_historical_response_record=add_row_to_df_historical_response_record(new_row,df_historical_response_record)\n",
    "\n",
    "varname=new_row['varname']\n",
    "df,df_historical_response_record=historical_response_recorder(varname,df_historical_response_record,data,df)\n",
    "\n",
    "# df[varname]=df[varname].fillna(-1)\n",
    "df[varname].value_counts()\n"
   ]
  },
  {
   "cell_type": "markdown",
   "metadata": {},
   "source": [
    "## 5 History of Renting  `everrent`\n",
    "`w1-w9`"
   ]
  },
  {
   "cell_type": "code",
   "execution_count": 32,
   "metadata": {
    "pycharm": {
     "is_executing": true
    }
   },
   "outputs": [
    {
     "name": "stdout",
     "output_type": "stream",
     "text": [
      "replace response [0.don't own home] with int ..1\n",
      "replace response [1.own home] with int ..-1\n",
      "\n",
      "1.the replace dict is \n",
      "{\"0.don't own home\": 1, '1.own home': -1, 'nan': None}\n"
     ]
    },
    {
     "data": {
      "text/plain": [
       "-1    17028\n",
       " 1     2774\n",
       "Name: everrent, dtype: int64"
      ]
     },
     "execution_count": 32,
     "metadata": {},
     "output_type": "execute_result"
    }
   ],
   "source": [
    "\n",
    "varset=['h1ahown'] \n",
    "\n",
    "varset=[varset[0].replace('1',str(x)) for x in range(1,latest_wave+1)]\n",
    "\n",
    "new_row={'varname':'everrent',\n",
    "         'varset':varset,\n",
    "         'standardise':True,\n",
    "        'replace_dict':None}\n",
    "\n",
    "df_historical_response_record=add_row_to_df_historical_response_record(new_row,df_historical_response_record)\n",
    "\n",
    "varname=new_row['varname']\n",
    "df,df_historical_response_record=historical_response_recorder(varname,df_historical_response_record,data,df)\n",
    "\n",
    "df[varname]=df[varname].fillna(-1)\n",
    "df[varname].value_counts()\n"
   ]
  },
  {
   "cell_type": "markdown",
   "metadata": {},
   "source": [
    " New Rent Period - reported `rentperiod`\n",
    "`w1-w9`"
   ]
  },
  {
   "cell_type": "code",
   "execution_count": 24,
   "metadata": {
    "pycharm": {
     "is_executing": true
    }
   },
   "outputs": [
    {
     "data": {
      "text/plain": [
       "0    3817\n",
       "1    3500\n",
       "9    2509\n",
       "6    1914\n",
       "2    1763\n",
       "3    1607\n",
       "4    1513\n",
       "7    1244\n",
       "5    1045\n",
       "8     890\n",
       "Name: rentperiod, dtype: int64"
      ]
     },
     "execution_count": 24,
     "metadata": {},
     "output_type": "execute_result"
    }
   ],
   "source": [
    "# 4.7.2 \n",
    "df['rentperiod'] = temp.apply(count_times,axis=1,response_to_count='1.own home')\n",
    "df['rentperiod'].value_counts()"
   ]
  },
  {
   "cell_type": "markdown",
   "metadata": {},
   "source": [
    "## 21 Neighborhood Social Cohesion  `Zneighcohesion`\n",
    "`w1,3,7`  `neighbor_wave`"
   ]
  },
  {
   "cell_type": "code",
   "execution_count": 33,
   "metadata": {},
   "outputs": [
    {
     "data": {
      "text/plain": [
       "1"
      ]
     },
     "execution_count": 33,
     "metadata": {},
     "output_type": "execute_result"
    }
   ],
   "source": [
    "neighbor_wave"
   ]
  },
  {
   "cell_type": "code",
   "execution_count": 34,
   "metadata": {
    "pycharm": {
     "is_executing": true
    }
   },
   "outputs": [
    {
     "name": "stdout",
     "output_type": "stream",
     "text": [
      "0. missing information -------- start\n",
      "0    10531\n",
      "4     8944\n",
      "1      235\n",
      "2       57\n",
      "3       35\n",
      "Name: missing_count, dtype: int64\n",
      "1. maximum_missing_response 3\n",
      "2. reverse_control False\n",
      "3. the replace dict is {1.0: 1, 2.0: 2, 3.0: 3, 4.0: 4, 5.0: 5, 6.0: 6, 7.0: 7}\n"
     ]
    },
    {
     "data": {
      "text/plain": [
       "count    10823.000000\n",
       "mean         2.451292\n",
       "std          1.202426\n",
       "min          1.000000\n",
       "25%          1.500000\n",
       "50%          2.250000\n",
       "75%          3.250000\n",
       "max          7.000000\n",
       "Name: Zneighcohesion, dtype: float64"
      ]
     },
     "execution_count": 34,
     "metadata": {},
     "output_type": "execute_result"
    }
   ],
   "source": [
    "print_missing_count_control=True\n",
    "\n",
    "varset=['r1belong', #belong\n",
    "         'r1trust', # trust\n",
    "         'r1unfriend', # friendly\n",
    "         'r1hlpntr']  #help\n",
    "\n",
    "varset=[x.replace('1',str(neighbor_wave)) for x in varset]\n",
    "\n",
    "# gen record\n",
    "new_row={'varname':'Zneighcohesion',\n",
    "         'varset':varset,\n",
    "         'maximum_missing_response':3,\n",
    "         'standardise':True,\n",
    "        'reverse_code':False}\n",
    "\n",
    "df_multiple_response_record=add_row_to_df_multiple_response_record(new_row,df_multiple_response_record)\n",
    "\n",
    "# get the df \n",
    "varname=new_row['varname']\n",
    "df=multiresponse_average(varname,df_multiple_response_record,data,df,print_missing_count_control)\n",
    "\n",
    "df[varname].describe()"
   ]
  },
  {
   "cell_type": "markdown",
   "metadata": {},
   "source": [
    "## 21 Neighborhood Physical Disorder  `Zneighdisorder`\n",
    "\n",
    "`neighbor_wave`"
   ]
  },
  {
   "cell_type": "code",
   "execution_count": 35,
   "metadata": {
    "pycharm": {
     "is_executing": true
    }
   },
   "outputs": [
    {
     "name": "stdout",
     "output_type": "stream",
     "text": [
      "0. missing information -------- start\n",
      "4    8685\n",
      "0    6868\n",
      "1    3707\n",
      "3     366\n",
      "2     176\n",
      "Name: missing_count, dtype: int64\n",
      "1. maximum_missing_response 3\n",
      "2. reverse_control True\n",
      "3. the replace dict is {1.0: 1, 2.0: 2, 3.0: 3, 4.0: 4, 5.0: 5, 6.0: 6, 7.0: 7}\n",
      "4. unique_vals are [1.0, 2.0, 3.0, 4.0, 5.0, 6.0, 7.0]\n",
      "5. dict is {1.0: 7.0, 2.0: 6.0, 3.0: 5.0, 4.0: 4.0, 5.0: 3.0, 6.0: 2.0, 7.0: 1.0}\n"
     ]
    },
    {
     "data": {
      "text/plain": [
       "count    10751.000000\n",
       "mean         4.949067\n",
       "std          1.300605\n",
       "min          1.000000\n",
       "25%          4.000000\n",
       "50%          5.000000\n",
       "75%          6.000000\n",
       "max          7.000000\n",
       "Name: Zneighdisorder, dtype: float64"
      ]
     },
     "execution_count": 35,
     "metadata": {},
     "output_type": "execute_result"
    }
   ],
   "source": [
    "# 4.12 \n",
    "# lower value -> not a problem\n",
    "\n",
    "print_missing_count_control=True\n",
    "varset=['r1vandal', #vandalism\n",
    "         's1rubbish', #clean\n",
    "         'r1afwalk', #walkalone\n",
    "         'r1alone'] # feel lonely -> alone\n",
    "varset=[x.replace('1',str(neighbor_wave)) for x in varset]\n",
    "\n",
    "# gen record\n",
    "new_row={'varname':'Zneighdisorder',\n",
    "         'varset':varset,\n",
    "         'maximum_missing_response':3,\n",
    "         'standardise':True,\n",
    "         'reverse_code':True}\n",
    "\n",
    "df_multiple_response_record=add_row_to_df_multiple_response_record(new_row,df_multiple_response_record)\n",
    "\n",
    "# get the df \n",
    "varname=new_row['varname']\n",
    "df=multiresponse_average(varname,df_multiple_response_record,data,df,print_missing_count_control)\n",
    "\n",
    "df[varname].describe()"
   ]
  },
  {
   "cell_type": "markdown",
   "metadata": {},
   "source": [
    "## 47 Lower Occupational Status `rocc`\n",
    "`w2-w7` `max{latest_wave, 2}`"
   ]
  },
  {
   "cell_type": "code",
   "execution_count": 36,
   "metadata": {},
   "outputs": [
    {
     "name": "stdout",
     "output_type": "stream",
     "text": [
      "\n",
      "1.the replace dict is \n",
      "{'12.semi-routine': 6, '13.routine': 6, '7.intermediate': 3, '2.higher managerial occupations': 1, '8.employers in small organisations': 4, '3.higher professional occupations': 2, '9.own account workers': 4, '6.higher supervisory occupations': 3, '1.employers in large organisations': 1, '11.lower technical': 5, '5.lower managerial occupations': 2, '4.lower professional & higher technical': 2, '10.lower supervisory occupations': 5, 'nan': None}\n"
     ]
    },
    {
     "data": {
      "text/plain": [
       "6.0    909\n",
       "2.0    889\n",
       "3.0    542\n",
       "4.0    461\n",
       "5.0    278\n",
       "1.0    158\n",
       "Name: rocc, dtype: int64"
      ]
     },
     "execution_count": 36,
     "metadata": {},
     "output_type": "execute_result"
    }
   ],
   "source": [
    "# at least wave 2 \n",
    "if latest_wave>=2:\n",
    "    varset=['r{}nssec13'.format(latest_wave)]\n",
    "else:\n",
    "    varset=['r{}nssec13'.format(2)]\n",
    "        \n",
    "\n",
    "new_row={'varname':'rocc',\n",
    "         'varset':varset,\n",
    "         'standardise':True,\n",
    "        'replace_dict':{'12.semi-routine': 6, '13.routine': 6, '7.intermediate': 3, '2.higher managerial occupations': 1, '8.employers in small organisations': 4, '3.higher professional occupations': 2, '9.own account workers': 4, '6.higher supervisory occupations': 3, '1.employers in large organisations': 1, '11.lower technical': 5, '5.lower managerial occupations': 2, '4.lower professional & higher technical': 2, '10.lower supervisory occupations': 5, 'nan': None}}\n",
    "\n",
    "df_historical_response_record=add_row_to_df_historical_response_record(new_row,df_historical_response_record)\n",
    "\n",
    "varname=new_row['varname']\n",
    "df,df_historical_response_record=historical_response_recorder(varname,df_historical_response_record,data,df)\n",
    "\n",
    "df[varname].value_counts()\n"
   ]
  },
  {
   "cell_type": "markdown",
   "metadata": {},
   "source": [
    "# Adulthood Health Behaviors  (6)"
   ]
  },
  {
   "cell_type": "code",
   "execution_count": 37,
   "metadata": {
    "pycharm": {
     "is_executing": true
    }
   },
   "outputs": [],
   "source": [
    "health_wave=6"
   ]
  },
  {
   "cell_type": "markdown",
   "metadata": {},
   "source": [
    "## 11 Alcohol Abuse `alcoholYN`\n",
    "`w4-9`  `max{latest_wave, 4}`"
   ]
  },
  {
   "cell_type": "code",
   "execution_count": 38,
   "metadata": {},
   "outputs": [
    {
     "name": "stdout",
     "output_type": "stream",
     "text": [
      "\n",
      "1.the replace dict is \n",
      "{0.0: -1, 2.0: -1, 1.0: -1, 4.0: -1, 5.0: -1, 6.0: -1, 7.0: -1, 3.0: -1, 8.0: -1, 10.0: -1, 11.0: -1, 12.0: -1, 9.0: -1, 14.0: 1, 15.0: 1, 16.0: 1, 17.0: 1, 18.0: 1, 13.0: -1, 20.0: 1, 21.0: 1, 22.0: 1, 23.0: 1, 24.0: 1, 25.0: 1, 26.0: 1, 19.0: 1, 28.0: 1, 29.0: 1, 30.0: 1, 27.0: 1, 32.0: 1, 31.0: 1, 34.0: 1, 35.0: 1, 36.0: 1, 33.0: 1, 38.0: 1, 39.0: 1, 40.0: 1, 41.0: 1, 42.0: 1, 37.0: 1, 44.0: 1, 45.0: 1, 46.0: 1, 43.0: 1, 48.0: 1, 49.0: 1, 50.0: 1, 51.0: 1, 52.0: 1, 47.0: 1, 55.0: 1, 56.0: 1, 59.0: 1, 60.0: 1, 63.0: 1, 64.0: 1, 65.0: 1, 69.0: 1, 70.0: 1, 71.0: 1, 75.0: 1, 80.0: 1, 82.0: 1, 84.0: 1, 91.0: 1, 98.0: 1, 113.0: 1, 'nan': None}\n"
     ]
    },
    {
     "data": {
      "text/plain": [
       "-1.0      18591\n",
       " 1.0       1195\n",
       " 53.0         4\n",
       " 57.0         2\n",
       " 54.0         2\n",
       " 58.0         2\n",
       " 108.0        1\n",
       " 100.0        1\n",
       " 96.0         1\n",
       " 66.0         1\n",
       " 72.0         1\n",
       " 78.0         1\n",
       "Name: alcoholYN, dtype: int64"
      ]
     },
     "execution_count": 38,
     "metadata": {},
     "output_type": "execute_result"
    }
   ],
   "source": [
    "# at least wave 2 \n",
    "if latest_wave>=4:\n",
    "    varset=['r{}drinkwn_e'.format(latest_wave)]\n",
    "else:\n",
    "    varset=['r{}drinkwn_e'.format(4)]\n",
    "    \n",
    "\n",
    "new_row={'varname':'alcoholYN',\n",
    "         'varset':varset,\n",
    "         'standardise':True,\n",
    "        'replace_dict':{0.0: -1, 2.0: -1, 1.0: -1, 4.0: -1, 5.0: -1, 6.0: -1, 7.0: -1, 3.0: -1, 8.0: -1, 10.0: -1, 11.0: -1, 12.0: -1, 9.0: -1, 14.0: 1, 15.0: 1, 16.0: 1, 17.0: 1, 18.0: 1, 13.0: -1, 20.0: 1, 21.0: 1, 22.0: 1, 23.0: 1, 24.0: 1, 25.0: 1, 26.0: 1, 19.0: 1, 28.0: 1, 29.0: 1, 30.0: 1, 27.0: 1, 32.0: 1, 31.0: 1, 34.0: 1, 35.0: 1, 36.0: 1, 33.0: 1, 38.0: 1, 39.0: 1, 40.0: 1, 41.0: 1, 42.0: 1, 37.0: 1, 44.0: 1, 45.0: 1, 46.0: 1, 43.0: 1, 48.0: 1, 49.0: 1, 50.0: 1, 51.0: 1, 52.0: 1, 47.0: 1, 55.0: 1, 56.0: 1, 59.0: 1, 60.0: 1, 63.0: 1, 64.0: 1, 65.0: 1, 69.0: 1, 70.0: 1, 71.0: 1, 75.0: 1, 80.0: 1, 82.0: 1, 84.0: 1, 91.0: 1, 98.0: 1, 113.0: 1, 'nan': None}}\n",
    "\n",
    "df_historical_response_record=add_row_to_df_historical_response_record(new_row,df_historical_response_record)\n",
    "\n",
    "varname=new_row['varname']\n",
    "df,df_historical_response_record=historical_response_recorder(varname,df_historical_response_record,data,df)\n",
    "df[varname].fillna(-1,inplace=True)\n",
    "\n",
    "df[varname].value_counts()\n"
   ]
  },
  {
   "cell_type": "markdown",
   "metadata": {},
   "source": [
    "## new Alcohol History `everalcoholYN`\n",
    "\n",
    "`w1-9`"
   ]
  },
  {
   "cell_type": "code",
   "execution_count": 39,
   "metadata": {},
   "outputs": [
    {
     "name": "stdout",
     "output_type": "stream",
     "text": [
      "replace response [1.yes] with int ..1\n",
      "replace response [0.no] with int ..-1\n",
      "\n",
      "1.the replace dict is \n",
      "{'1.yes': 1, '0.no': -1, 'nan': None}\n"
     ]
    },
    {
     "data": {
      "text/plain": [
       " 1    10791\n",
       "-1     9011\n",
       "Name: everalcoholYN, dtype: int64"
      ]
     },
     "execution_count": 39,
     "metadata": {},
     "output_type": "execute_result"
    }
   ],
   "source": [
    "varset=['r1drink'.replace('1',str(x)) for x in range(1,latest_wave+1)]\n",
    "\n",
    "new_row={'varname':'everalcoholYN',\n",
    "         'varset':varset,\n",
    "         'standardise':True,\n",
    "        'replace_dict':None}\n",
    "\n",
    "df_historical_response_record=add_row_to_df_historical_response_record(new_row,df_historical_response_record)\n",
    "\n",
    "varname=new_row['varname']\n",
    "df,df_historical_response_record=historical_response_recorder(varname,df_historical_response_record,data,df)\n",
    "df[varname].fillna(-1,inplace=True)\n",
    "df[varname].value_counts()"
   ]
  },
  {
   "cell_type": "markdown",
   "metadata": {},
   "source": [
    "## 12 Current Smoker  `currsmokeYN`\n",
    "   `w1-w9` `historical` `latest_wave`"
   ]
  },
  {
   "cell_type": "code",
   "execution_count": 29,
   "metadata": {
    "pycharm": {
     "is_executing": true
    }
   },
   "outputs": [
    {
     "data": {
      "text/plain": [
       "0.No     7885\n",
       "1.Yes     849\n",
       "Name: r9smoken, dtype: int64"
      ]
     },
     "execution_count": 29,
     "metadata": {},
     "output_type": "execute_result"
    }
   ],
   "source": [
    "data['r9smoken'].value_counts()"
   ]
  },
  {
   "cell_type": "code",
   "execution_count": 40,
   "metadata": {
    "pycharm": {
     "is_executing": true
    }
   },
   "outputs": [
    {
     "name": "stdout",
     "output_type": "stream",
     "text": [
      "replace response [1.Yes] with int ..1\n",
      "replace response [0.No] with int ..-1\n",
      "\n",
      "1.the replace dict is \n",
      "{'1.Yes': 1, '0.No': -1, 'nan': None}\n"
     ]
    },
    {
     "data": {
      "text/plain": [
       "-1    17508\n",
       " 1     2294\n",
       "Name: currsmokeYN, dtype: int64"
      ]
     },
     "execution_count": 40,
     "metadata": {},
     "output_type": "execute_result"
    }
   ],
   "source": [
    "\n",
    "varset=['r9smoken'.replace('9',str(x)) for x in range(1,latest_wave+1)]\n",
    "\n",
    "new_row={'varname':'currsmokeYN',\n",
    "         'varset':varset,\n",
    "         'standardise':True,\n",
    "        'replace_dict':None}\n",
    "\n",
    "df_historical_response_record=add_row_to_df_historical_response_record(new_row,df_historical_response_record)\n",
    "\n",
    "varname=new_row['varname']\n",
    "df,df_historical_response_record=historical_response_recorder(varname,df_historical_response_record,data,df)\n",
    "df[varname].fillna(-1,inplace=True)\n",
    "df[varname].value_counts()"
   ]
  },
  {
   "cell_type": "markdown",
   "metadata": {},
   "source": [
    "## new #of cigrates everyday `smokenum`\n",
    "`w1-w9`\n",
    "\n",
    "r1smokef: # cigarettes/day"
   ]
  },
  {
   "cell_type": "code",
   "execution_count": null,
   "metadata": {
    "pycharm": {
     "is_executing": true
    }
   },
   "outputs": [],
   "source": [
    "df['smokenum']=data['r1smokef']\n",
    "df['smokenum'].value_counts()"
   ]
  },
  {
   "cell_type": "markdown",
   "metadata": {},
   "source": [
    "## 13 History of Smoking  `eversmokeYN`\n",
    "\n",
    "`w1-w9` `historical` `latest_wave`"
   ]
  },
  {
   "cell_type": "code",
   "execution_count": 32,
   "metadata": {
    "pycharm": {
     "is_executing": true
    }
   },
   "outputs": [
    {
     "data": {
      "text/plain": [
       "1.Yes    5110\n",
       "0.No     3422\n",
       "Name: r9smokev, dtype: int64"
      ]
     },
     "execution_count": 32,
     "metadata": {},
     "output_type": "execute_result"
    }
   ],
   "source": [
    "data['r9smokev'].value_counts()"
   ]
  },
  {
   "cell_type": "code",
   "execution_count": 41,
   "metadata": {
    "pycharm": {
     "is_executing": true
    }
   },
   "outputs": [
    {
     "name": "stdout",
     "output_type": "stream",
     "text": [
      "replace response [1.Yes] with int ..1\n",
      "replace response [0.No] with int ..-1\n",
      "\n",
      "1.the replace dict is \n",
      "{'1.Yes': 1, '0.No': -1, 'nan': None}\n"
     ]
    },
    {
     "data": {
      "text/plain": [
       "-1    12086\n",
       " 1     7716\n",
       "Name: eversmokeYN, dtype: int64"
      ]
     },
     "execution_count": 41,
     "metadata": {},
     "output_type": "execute_result"
    }
   ],
   "source": [
    "varset=['r1smokev'] # R Freq vigorous phys activ\n",
    "\n",
    "varset=['r1smokev'.replace('1',str(x)) for x in range(1,latest_wave+1)]\n",
    "\n",
    "new_row={'varname':'eversmokeYN',\n",
    "         'varset':varset,\n",
    "         'standardise':True,\n",
    "        'replace_dict':None}\n",
    "\n",
    "df_historical_response_record=add_row_to_df_historical_response_record(new_row,df_historical_response_record)\n",
    "\n",
    "varname=new_row['varname']\n",
    "df,df_historical_response_record=historical_response_recorder(varname,df_historical_response_record,data,df)\n",
    "df[varname].fillna(-1,inplace=True)\n",
    "df[varname].value_counts()"
   ]
  },
  {
   "cell_type": "markdown",
   "metadata": {},
   "source": [
    "## 14 Low/No Moderate Activity `modactivityYN`\n",
    "\n",
    "-1 indicating the respondent reported completing vigorous activity at least once per week\n",
    "\n",
    "1 indicating otherwise.\n",
    "\n",
    "`w1-w9` `historical` `latest_wave`"
   ]
  },
  {
   "cell_type": "code",
   "execution_count": 35,
   "metadata": {
    "pycharm": {
     "is_executing": true
    }
   },
   "outputs": [
    {
     "data": {
      "text/plain": [
       "2.> 1 per week            5436\n",
       "5.hardly ever or never    1710\n",
       "3.1 per week              1080\n",
       "4.1-3 per mon              509\n",
       "Name: r9mdactx_e, dtype: int64"
      ]
     },
     "execution_count": 35,
     "metadata": {},
     "output_type": "execute_result"
    }
   ],
   "source": [
    "data['r9mdactx_e'].value_counts()"
   ]
  },
  {
   "cell_type": "code",
   "execution_count": 36,
   "metadata": {
    "pycharm": {
     "is_executing": true
    }
   },
   "outputs": [
    {
     "name": "stdout",
     "output_type": "stream",
     "text": [
      "replace response [5.hardly ever or never] with int ..1\n",
      "replace response [4.1-3 per mon] with int ..1\n",
      "replace response [2.> 1 per week] with int ..-1\n",
      "replace response [3.1 per week] with int ..-1\n",
      "\n",
      "1.the replace dict is \n",
      "{'5.hardly ever or never': 1, '4.1-3 per mon': 1, '2.> 1 per week': -1, '3.1 per week': -1, 'nan': None}\n"
     ]
    },
    {
     "data": {
      "text/plain": [
       "-1.0    6516\n",
       " 1.0    2219\n",
       "Name: modactivityYN, dtype: int64"
      ]
     },
     "execution_count": 36,
     "metadata": {},
     "output_type": "execute_result"
    }
   ],
   "source": [
    "\n",
    "varset=['r1mdactx_e'] # R Freq vigorous phys activ\n",
    "\n",
    "varset=[x.replace('1',str(latest_wave)) for x in varset]\n",
    "\n",
    "new_row={'varname':'modactivityYN',\n",
    "         'varset':varset,\n",
    "         'standardise':True,\n",
    "        'replace_dict':{'5.hardly ever or never': 1, '4.1-3 per mon': 1, '2.> 1 per week': -1, '3.1 per week': -1, 'nan': None}}\n",
    "\n",
    "df_historical_response_record=add_row_to_df_historical_response_record(new_row,df_historical_response_record)\n",
    "\n",
    "varname=new_row['varname']\n",
    "df,df_historical_response_record=historical_response_recorder(varname,df_historical_response_record,data,df)\n",
    "\n",
    "df[varname].value_counts()"
   ]
  },
  {
   "cell_type": "markdown",
   "metadata": {},
   "source": [
    "## 15 Low/No Vigorous Activity  `vigactivityYN`\n",
    "\n",
    "-1 indicating the respondent reported completing vigorous activity at least once per week\n",
    "\n",
    "1 indicating otherwise.\n",
    "\n",
    "`w1-w9` `historical` `latest_wave`"
   ]
  },
  {
   "cell_type": "code",
   "execution_count": 37,
   "metadata": {
    "pycharm": {
     "is_executing": true
    }
   },
   "outputs": [
    {
     "data": {
      "text/plain": [
       "5.hardly ever or never    5379\n",
       "2.> 1 per week            1969\n",
       "3.1 per week               772\n",
       "4.1-3 per mon              614\n",
       "Name: r9vgactx_e, dtype: int64"
      ]
     },
     "execution_count": 37,
     "metadata": {},
     "output_type": "execute_result"
    }
   ],
   "source": [
    "data['r9vgactx_e'].value_counts()"
   ]
  },
  {
   "cell_type": "code",
   "execution_count": 42,
   "metadata": {
    "pycharm": {
     "is_executing": true
    }
   },
   "outputs": [
    {
     "name": "stdout",
     "output_type": "stream",
     "text": [
      "replace response [4.1-3 per mon] with int ..1\n",
      "replace response [2.> 1 per week] with int ..-1\n",
      "replace response [5.hardly ever or never] with int ..1\n",
      "replace response [3.1 per week] with int ..-1\n",
      "\n",
      "1.the replace dict is \n",
      "{'4.1-3 per mon': 1, '2.> 1 per week': -1, '5.hardly ever or never': 1, '3.1 per week': -1, 'nan': None}\n"
     ]
    },
    {
     "data": {
      "text/plain": [
       " 1.0    6733\n",
       "-1.0    2566\n",
       "Name: vigactivityYN, dtype: int64"
      ]
     },
     "execution_count": 42,
     "metadata": {},
     "output_type": "execute_result"
    }
   ],
   "source": [
    "varset=['r1vgactx_e'] # R Freq vigorous phys activ\n",
    "\n",
    "varset=[x.replace('1',str(latest_wave)) for x in varset]\n",
    "\n",
    "\n",
    "new_row={'varname':'vigactivityYN',\n",
    "         'varset':varset,\n",
    "         'standardise':True,\n",
    "        'replace_dict':None}\n",
    "\n",
    "df_historical_response_record=add_row_to_df_historical_response_record(new_row,df_historical_response_record)\n",
    "\n",
    "varname=new_row['varname']\n",
    "df,df_historical_response_record=historical_response_recorder(varname,df_historical_response_record,data,df)\n",
    "\n",
    "df[varname].value_counts()"
   ]
  },
  {
   "cell_type": "markdown",
   "metadata": {},
   "source": [
    "## 16 Sleep Problems sleepYN\n",
    "`w6,w8`  `health_wave`"
   ]
  },
  {
   "cell_type": "code",
   "execution_count": 43,
   "metadata": {
    "pycharm": {
     "is_executing": true
    }
   },
   "outputs": [
    {
     "name": "stdout",
     "output_type": "stream",
     "text": [
      "\n",
      "1.the replace dict is \n",
      "{'1. Not at all': -1, '5. 15-21 days': 1, '2. 1-3 days': 1, '4. 8-14 days': 1, '2.Less than once a week': 1, '3.Once or twice a week': 1, '3. 4-7 days': 1, '6. 22-31 days': 1, '4.Three or more times a week': 1, '1.Not during the last month': -1, 'nan': None}\n"
     ]
    },
    {
     "data": {
      "text/plain": [
       "-1    11375\n",
       " 1     8427\n",
       "Name: sleepYN, dtype: int64"
      ]
     },
     "execution_count": 43,
     "metadata": {},
     "output_type": "execute_result"
    }
   ],
   "source": [
    "\n",
    "varset=['r6fallslp_e', # r trouble falling asleep\n",
    "         'r6wakent_e', # r waking up during night\n",
    "         'r6wakeup_e'] # r waking up too early\n",
    "\n",
    "varset=[x.replace('6',str(health_wave)) for x in varset]\n",
    "\n",
    "\n",
    "new_row={'varname':'sleepYN',\n",
    "         'varset':varset,\n",
    "         'standardise':True,\n",
    "        'replace_dict':{'1. Not at all': -1, '5. 15-21 days': 1, '2. 1-3 days': 1, '4. 8-14 days': 1, '2.Less than once a week': 1, '3.Once or twice a week': 1, '3. 4-7 days': 1, '6. 22-31 days': 1, '4.Three or more times a week': 1, '1.Not during the last month': -1}}\n",
    "\n",
    "df_historical_response_record=add_row_to_df_historical_response_record(new_row,df_historical_response_record)\n",
    "\n",
    "varname=new_row['varname']\n",
    "df,df_historical_response_record=historical_response_recorder(varname,df_historical_response_record,data,df)\n",
    "\n",
    "df[varname].value_counts()"
   ]
  },
  {
   "cell_type": "markdown",
   "metadata": {},
   "source": [
    "# Adulthood Social Connections (8)"
   ]
  },
  {
   "cell_type": "markdown",
   "metadata": {},
   "source": [
    "## 22 Lower Positive Interactions with children ` Zposchildren`\n",
    " \n",
    " `wave 1-9`"
   ]
  },
  {
   "cell_type": "code",
   "execution_count": 44,
   "metadata": {
    "pycharm": {
     "is_executing": true
    }
   },
   "outputs": [
    {
     "name": "stdout",
     "output_type": "stream",
     "text": [
      "0. missing information -------- start\n",
      "3    12712\n",
      "0     7004\n",
      "1       71\n",
      "2       15\n",
      "Name: missing_count, dtype: int64\n",
      "1. maximum_missing_response 2\n",
      "2. reverse_control False\n",
      "3. the replace dict is {'1.a lot': 1, '3.a little': 3, '2.some': 2, '4.not at all': 4}\n"
     ]
    },
    {
     "data": {
      "text/plain": [
       "count    7075.000000\n",
       "mean        1.615453\n",
       "std         0.663827\n",
       "min         1.000000\n",
       "25%         1.000000\n",
       "50%         1.333333\n",
       "75%         2.000000\n",
       "max         4.000000\n",
       "Name: Zposchildren, dtype: float64"
      ]
     },
     "execution_count": 44,
     "metadata": {},
     "output_type": "execute_result"
    }
   ],
   "source": [
    "# wave 1-9\n",
    "# 1 = A lot, 2 = Some, 3 = A little, 4 = Not at all\n",
    "print_missing_count_control=True\n",
    "\n",
    "varset=['r1kustdfe', # thinks children understands the way they feel\n",
    "         'r1krely', # r can rely on children for a serious problem\n",
    "         'r1kopenup'] # r can open up children worries to spouse\n",
    "varset=[x.replace('1',str(latest_wave)) for x in varset]\n",
    "\n",
    "# gen record\n",
    "new_row={'varname':'Zposchildren', \n",
    "         'varset':varset,\n",
    "         'maximum_missing_response':2,\n",
    "         'standardise':True,\n",
    "         'reverse_code':False}\n",
    "\n",
    "df_multiple_response_record=add_row_to_df_multiple_response_record(new_row,df_multiple_response_record)\n",
    "\n",
    "# get the df \n",
    "varname=new_row['varname']\n",
    "df=multiresponse_average(varname,df_multiple_response_record,data,df,print_missing_count_control)\n",
    "\n",
    "df[varname].describe()"
   ]
  },
  {
   "cell_type": "markdown",
   "metadata": {},
   "source": [
    "## 22 Negative Social Interactions Negative Interactions with children  `Znegchildren`"
   ]
  },
  {
   "cell_type": "code",
   "execution_count": 50,
   "metadata": {
    "pycharm": {
     "is_executing": true
    }
   },
   "outputs": [
    {
     "name": "stdout",
     "output_type": "stream",
     "text": [
      "0. missing information -------- start\n",
      "3    12727\n",
      "0     6961\n",
      "1       93\n",
      "2       21\n",
      "Name: missing_count, dtype: int64\n",
      "1. maximum_missing_response 2\n",
      "2. reverse_control True\n",
      "3. the replace dict is {'1.a lot': 1, '3.a little': 3, '2.some': 2, '4.not at all': 4}\n",
      "4. unique_vals are [1.0, 2.0, 3.0, 4.0]\n",
      "5. dict is {1.0: 4.0, 2.0: 3.0, 3.0: 2.0, 4.0: 1.0}\n"
     ]
    },
    {
     "data": {
      "text/plain": [
       "count    7054.000000\n",
       "mean        1.664871\n",
       "std         0.594601\n",
       "min         1.000000\n",
       "25%         1.333333\n",
       "50%         1.666667\n",
       "75%         2.000000\n",
       "max         4.000000\n",
       "Name: Znegchildren, dtype: float64"
      ]
     },
     "execution_count": 50,
     "metadata": {},
     "output_type": "execute_result"
    }
   ],
   "source": [
    "# wave 1-9\n",
    "# r5sdemand wave 5-9\n",
    "# 1 = A lot, 2 = Some, 3 = A little, 4 = Not at all\n",
    "\n",
    "print_missing_count_control=True\n",
    "if latest_wave > 4:\n",
    "\n",
    "    varset=['r1kdemand', # spouse puts too many demands on r\n",
    "             'r1kcritze', # how much spouse criticizes r\n",
    "             'r1kletdow', #  spouse let r down when counting on\n",
    "            'r1kgetnev'] # spouse gets on r's nerves\n",
    "else:\n",
    "    varset=[# 'r1kdemand', # spouse puts too many demands on r\n",
    "             'r1kcritze', # how much spouse criticizes r\n",
    "             'r1kletdow', #  spouse let r down when counting on\n",
    "            'r1kgetnev'] # spouse gets on r's nerves\n",
    "\n",
    "varset=[x.replace('1',str(latest_wave)) for x in varset]\n",
    "\n",
    "# gen record\n",
    "new_row={'varname':'Znegchildren', \n",
    "         'varset':varset,\n",
    "         'maximum_missing_response':2,\n",
    "         'standardise':True,\n",
    "         'reverse_code':True}\n",
    "\n",
    "df_multiple_response_record=add_row_to_df_multiple_response_record(new_row,df_multiple_response_record)\n",
    "\n",
    "# get the df \n",
    "varname=new_row['varname']\n",
    "df=multiresponse_average(varname,df_multiple_response_record,data,df,print_missing_count_control)\n",
    "\n",
    "df[varname].describe()"
   ]
  },
  {
   "cell_type": "markdown",
   "metadata": {},
   "source": [
    "## 22 Lower Positive Interactions with Family `Zposfamily`\n",
    "\n",
    "`wave 1-9`"
   ]
  },
  {
   "cell_type": "code",
   "execution_count": 51,
   "metadata": {
    "pycharm": {
     "is_executing": true
    }
   },
   "outputs": [
    {
     "name": "stdout",
     "output_type": "stream",
     "text": [
      "0. missing information -------- start\n",
      "3    12289\n",
      "0     7415\n",
      "1       82\n",
      "2       16\n",
      "Name: missing_count, dtype: int64\n",
      "1. maximum_missing_response 2\n",
      "2. reverse_control False\n",
      "3. the replace dict is {'1.a lot': 1, '3.a little': 3, '2.some': 2, '4.not at all': 4}\n"
     ]
    },
    {
     "data": {
      "text/plain": [
       "count    7497.000000\n",
       "mean        2.154262\n",
       "std         0.913326\n",
       "min         1.000000\n",
       "25%         1.333333\n",
       "50%         2.000000\n",
       "75%         2.666667\n",
       "max         4.000000\n",
       "Name: Zposfamily, dtype: float64"
      ]
     },
     "execution_count": 51,
     "metadata": {},
     "output_type": "execute_result"
    }
   ],
   "source": [
    "# \n",
    "# 1 = A lot, 2 = Some, 3 = A little, 4 = Not at all\n",
    "print_missing_count_control=True\n",
    "\n",
    "varset=['r1oustdfe', # thinks spouse understands the way they feel\n",
    "         'r1orely', # r can rely on spouse for a serious problem\n",
    "         'r1oopenup'] # r can open up their worries to spouse\n",
    "varset=[x.replace('1',str(latest_wave)) for x in varset]\n",
    "\n",
    "# gen record\n",
    "new_row={'varname':'Zposfamily', \n",
    "         'varset':varset,\n",
    "         'maximum_missing_response':2,\n",
    "         'standardise':True,\n",
    "         'reverse_code':False}\n",
    "\n",
    "df_multiple_response_record=add_row_to_df_multiple_response_record(new_row,df_multiple_response_record)\n",
    "\n",
    "# get the df \n",
    "varname=new_row['varname']\n",
    "df=multiresponse_average(varname,df_multiple_response_record,data,df,print_missing_count_control)\n",
    "\n",
    "df[varname].describe()"
   ]
  },
  {
   "cell_type": "markdown",
   "metadata": {},
   "source": [
    "## 22 Negative Interactions with Family `Znegfamily`"
   ]
  },
  {
   "cell_type": "code",
   "execution_count": 52,
   "metadata": {
    "pycharm": {
     "is_executing": true
    }
   },
   "outputs": [
    {
     "name": "stdout",
     "output_type": "stream",
     "text": [
      "0. missing information -------- start\n",
      "3    12335\n",
      "0     7229\n",
      "1      172\n",
      "2       66\n",
      "Name: missing_count, dtype: int64\n",
      "1. maximum_missing_response 2\n",
      "2. reverse_control True\n",
      "3. the replace dict is {'1.a lot': 1, '3.a little': 3, '2.some': 2, '4.not at all': 4}\n",
      "4. unique_vals are [1.0, 2.0, 3.0, 4.0]\n",
      "5. dict is {1.0: 4.0, 2.0: 3.0, 3.0: 2.0, 4.0: 1.0}\n"
     ]
    },
    {
     "data": {
      "text/plain": [
       "count    7401.000000\n",
       "mean        1.666419\n",
       "std         0.667317\n",
       "min         1.000000\n",
       "25%         1.000000\n",
       "50%         1.666667\n",
       "75%         2.000000\n",
       "max         4.000000\n",
       "Name: Znegfamily, dtype: float64"
      ]
     },
     "execution_count": 52,
     "metadata": {},
     "output_type": "execute_result"
    }
   ],
   "source": [
    "# wave 1-9\n",
    "# r5sdemand wave 5-9\n",
    "# 1 = A lot, 2 = Some, 3 = A little, 4 = Not at all\n",
    "print_missing_count_control=True\n",
    "if latest_wave > 4:\n",
    "    varset=['r1odemand', # spouse puts too many demands on r\n",
    "             'r1ocritze', # how much spouse criticizes r\n",
    "             'r1oletdow', #  spouse let r down when counting on\n",
    "            'r1ogetnev'] # spouse gets on r's nerves\n",
    "else:\n",
    "    varset=[# 'r1odemand', # spouse puts too many demands on r\n",
    "             'r1ocritze', # how much spouse criticizes r\n",
    "             'r1oletdow', #  spouse let r down when counting on\n",
    "            'r1ogetnev'] # spouse gets on r's nerves\n",
    "varset=[x.replace('1',str(latest_wave)) for x in varset]\n",
    "\n",
    "# gen record\n",
    "new_row={'varname':'Znegfamily', \n",
    "         'varset':varset,\n",
    "         'maximum_missing_response':2,\n",
    "         'standardise':True,\n",
    "         'reverse_code':True}\n",
    "\n",
    "df_multiple_response_record=add_row_to_df_multiple_response_record(new_row,df_multiple_response_record)\n",
    "\n",
    "# get the df \n",
    "varname=new_row['varname']\n",
    "df=multiresponse_average(varname,df_multiple_response_record,data,df,print_missing_count_control)\n",
    "\n",
    "df[varname].describe()"
   ]
  },
  {
   "cell_type": "markdown",
   "metadata": {},
   "source": [
    "## 22 Lower Positive Interactions with friends `Zposfriends`\n"
   ]
  },
  {
   "cell_type": "code",
   "execution_count": 53,
   "metadata": {
    "pycharm": {
     "is_executing": true
    }
   },
   "outputs": [
    {
     "name": "stdout",
     "output_type": "stream",
     "text": [
      "0. missing information -------- start\n",
      "3    11996\n",
      "0     7724\n",
      "1       62\n",
      "2       20\n",
      "Name: missing_count, dtype: int64\n",
      "1. maximum_missing_response 2\n",
      "2. reverse_control False\n",
      "3. the replace dict is {'1.a lot': 1, '3.a little': 3, '2.some': 2, '4.not at all': 4}\n"
     ]
    },
    {
     "data": {
      "text/plain": [
       "count    7786.000000\n",
       "mean        1.842281\n",
       "std         0.728530\n",
       "min         1.000000\n",
       "25%         1.333333\n",
       "50%         1.666667\n",
       "75%         2.333333\n",
       "max         4.000000\n",
       "Name: Zposfriends, dtype: float64"
      ]
     },
     "execution_count": 53,
     "metadata": {},
     "output_type": "execute_result"
    }
   ],
   "source": [
    "# wave 1-9\n",
    "# 1 = A lot, 2 = Some, 3 = A little, 4 = Not at all\n",
    "print_missing_count_control=True\n",
    "\n",
    "varset=['r1fustdfe', # thinks friends understands the way they feel\n",
    "         'r1frely', # r can rely on friends for a serious problem\n",
    "         'r1fopenup'] # r can open up their worries to friends\n",
    "varset=[x.replace('1',str(latest_wave)) for x in varset]\n",
    "\n",
    "# gen record\n",
    "new_row={'varname':'Zposfriends', \n",
    "         'varset':varset,\n",
    "         'maximum_missing_response':2,\n",
    "         'standardise':True,\n",
    "         'reverse_code':False}\n",
    "\n",
    "df_multiple_response_record=add_row_to_df_multiple_response_record(new_row,df_multiple_response_record)\n",
    "\n",
    "# get the df \n",
    "varname=new_row['varname']\n",
    "df=multiresponse_average(varname,df_multiple_response_record,data,df,print_missing_count_control)\n",
    "\n",
    "df[varname].describe()"
   ]
  },
  {
   "cell_type": "markdown",
   "metadata": {},
   "source": [
    "## 22 Negative Interactions with friends `Znegfriends`"
   ]
  },
  {
   "cell_type": "code",
   "execution_count": 54,
   "metadata": {
    "pycharm": {
     "is_executing": true
    }
   },
   "outputs": [
    {
     "name": "stdout",
     "output_type": "stream",
     "text": [
      "0. missing information -------- start\n",
      "3    12037\n",
      "0     7531\n",
      "1      186\n",
      "2       48\n",
      "Name: missing_count, dtype: int64\n",
      "1. maximum_missing_response 2\n",
      "2. reverse_control True\n",
      "3. the replace dict is {'1.a lot': 1, '3.a little': 3, '2.some': 2, '4.not at all': 4}\n",
      "4. unique_vals are [1.0, 2.0, 3.0, 4.0]\n",
      "5. dict is {1.0: 4.0, 2.0: 3.0, 3.0: 2.0, 4.0: 1.0}\n"
     ]
    },
    {
     "data": {
      "text/plain": [
       "count    7717.000000\n",
       "mean        1.549372\n",
       "std         0.534631\n",
       "min         1.000000\n",
       "25%         1.000000\n",
       "50%         1.333333\n",
       "75%         2.000000\n",
       "max         4.000000\n",
       "Name: Znegfriends, dtype: float64"
      ]
     },
     "execution_count": 54,
     "metadata": {},
     "output_type": "execute_result"
    }
   ],
   "source": [
    "# wave 1-9\n",
    "# r5sdemand wave 5-9\n",
    "# 1 = A lot, 2 = Some, 3 = A little, 4 = Not at all\n",
    "print_missing_count_control=True\n",
    "\n",
    "if latest_wave > 4:\n",
    "    varset=['r1fdemand', # spouse puts too many demands on r\n",
    "             'r1fcritze', # how much spouse criticizes r\n",
    "             'r1fletdow', #  spouse let r down when counting on\n",
    "            'r1fgetnev'] # spouse gets on r's nerves\n",
    "else:\n",
    "    varset=[#'r1fdemand', # spouse puts too many demands on r\n",
    "             'r1fcritze', # how much spouse criticizes r\n",
    "             'r1fletdow', #  spouse let r down when counting on\n",
    "            'r1fgetnev'] # spouse gets on r's nerves\n",
    "varset=[x.replace('1',str(latest_wave)) for x in varset]\n",
    "\n",
    "# gen record\n",
    "new_row={'varname':'Znegfriends', \n",
    "         'varset':varset,\n",
    "         'maximum_missing_response':2,\n",
    "         'standardise':True,\n",
    "         'reverse_code':True}\n",
    "\n",
    "df_multiple_response_record=add_row_to_df_multiple_response_record(new_row,df_multiple_response_record)\n",
    "\n",
    "# get the df \n",
    "varname=new_row['varname']\n",
    "df=multiresponse_average(varname,df_multiple_response_record,data,df,print_missing_count_control)\n",
    "\n",
    "df[varname].describe()"
   ]
  },
  {
   "cell_type": "markdown",
   "metadata": {},
   "source": [
    "##  New 22 22 Lower Positive Interactions with Spouse  `Zposspouse` "
   ]
  },
  {
   "cell_type": "code",
   "execution_count": 47,
   "metadata": {
    "pycharm": {
     "is_executing": true
    }
   },
   "outputs": [
    {
     "name": "stdout",
     "output_type": "stream",
     "text": [
      "0. missing information -------- start\n",
      "3    14404\n",
      "0     5356\n",
      "1       32\n",
      "2       10\n",
      "Name: missing_count, dtype: int64\n",
      "1. maximum_missing_response 2.0\n",
      "2. reverse_control False\n",
      "3. the replace dict is {'1.a lot': 1, '3.a little': 3, '2.some': 2, '4.not at all': 4}\n"
     ]
    },
    {
     "data": {
      "text/plain": [
       "count    5388.000000\n",
       "mean        1.395447\n",
       "std         0.567467\n",
       "min         1.000000\n",
       "25%         1.000000\n",
       "50%         1.333333\n",
       "75%         1.666667\n",
       "max         4.000000\n",
       "Name: Zposspouse, dtype: float64"
      ]
     },
     "execution_count": 47,
     "metadata": {},
     "output_type": "execute_result"
    }
   ],
   "source": [
    "# wave 1-9\n",
    "# 1 = A lot, 2 = Some, 3 = A little, 4 = Not at all\n",
    "print_missing_count_control=True\n",
    "\n",
    "varset=['r1sustdfe', # thinks spouse understands the way they feel\n",
    "         'r1srely', # r can rely on spouse for a serious problem\n",
    "         'r1sopenup'] # r can open up their worries to spouse\n",
    "varset=[x.replace('1',str(latest_wave)) for x in varset]\n",
    "\n",
    "# gen record\n",
    "new_row={'varname':'Zposspouse', \n",
    "         'varset':varset,\n",
    "         'maximum_missing_response':2,\n",
    "         'standardise':True,\n",
    "         'reverse_code':False}\n",
    "\n",
    "df_multiple_response_record=add_row_to_df_multiple_response_record(new_row,df_multiple_response_record)\n",
    "\n",
    "# get the df \n",
    "varname=new_row['varname']\n",
    "df=multiresponse_average(varname,df_multiple_response_record,data,df,print_missing_count_control)\n",
    "\n",
    "df[varname].describe()"
   ]
  },
  {
   "cell_type": "markdown",
   "metadata": {},
   "source": [
    "## New 22 Negative Interactions with Spouse `Znegspouse`"
   ]
  },
  {
   "cell_type": "code",
   "execution_count": 55,
   "metadata": {
    "pycharm": {
     "is_executing": true
    }
   },
   "outputs": [
    {
     "name": "stdout",
     "output_type": "stream",
     "text": [
      "0. missing information -------- start\n",
      "3    13884\n",
      "0     5873\n",
      "1       38\n",
      "2        7\n",
      "Name: missing_count, dtype: int64\n",
      "1. maximum_missing_response 2\n",
      "2. reverse_control True\n",
      "3. the replace dict is {'1.a lot': 1, '3.a little': 3, '2.some': 2, '4.not at all': 4}\n",
      "4. unique_vals are [1.0, 2.0, 3.0, 4.0]\n",
      "5. dict is {1.0: 4.0, 2.0: 3.0, 3.0: 2.0, 4.0: 1.0}\n"
     ]
    },
    {
     "data": {
      "text/plain": [
       "count    5911.000000\n",
       "mean        1.838916\n",
       "std         0.596550\n",
       "min         1.000000\n",
       "25%         1.333333\n",
       "50%         1.666667\n",
       "75%         2.000000\n",
       "max         4.000000\n",
       "Name: Znegspouse, dtype: float64"
      ]
     },
     "execution_count": 55,
     "metadata": {},
     "output_type": "execute_result"
    }
   ],
   "source": [
    "# wave 1-9\n",
    "# r5sdemand wave 5-9\n",
    "# 1 = A lot, 2 = Some, 3 = A little, 4 = Not at all\n",
    "print_missing_count_control=True\n",
    "if latest_wave > 4:\n",
    "    varset=['r1sdemand', # spouse puts too many demands on r\n",
    "             'r1scritze', # how much spouse criticizes r\n",
    "             'r1sletdow', #  spouse let r down when counting on\n",
    "            'r1sgetnev'] # spouse gets on r's nerves\n",
    "else:\n",
    "        varset=[#'r1sdemand', # spouse puts too many demands on r\n",
    "             'r1scritze', # how much spouse criticizes r\n",
    "             'r1sletdow', #  spouse let r down when counting on\n",
    "            'r1sgetnev'] # spouse gets on r's nerves\n",
    "    \n",
    "varset=[x.replace('1',str(latest_wave)) for x in varset]\n",
    "\n",
    "# gen record\n",
    "new_row={'varname':'Znegspouse', \n",
    "         'varset':varset,\n",
    "         'maximum_missing_response':2,\n",
    "         'standardise':True,\n",
    "         'reverse_code':True}\n",
    "\n",
    "df_multiple_response_record=add_row_to_df_multiple_response_record(new_row,df_multiple_response_record)\n",
    "\n",
    "# get the df \n",
    "varname=new_row['varname']\n",
    "df=multiresponse_average(varname,df_multiple_response_record,data,df,print_missing_count_control)\n",
    "\n",
    "df[varname].describe()"
   ]
  },
  {
   "cell_type": "markdown",
   "metadata": {},
   "source": [
    "# Adulthood Psychological (20)"
   ]
  },
  {
   "cell_type": "markdown",
   "metadata": {},
   "source": [
    "## 28 Loneliness `Zloneliness`\n",
    "\n",
    "`wave 2-9` `latest_wave`"
   ]
  },
  {
   "cell_type": "code",
   "execution_count": 56,
   "metadata": {
    "pycharm": {
     "is_executing": true
    }
   },
   "outputs": [
    {
     "name": "stdout",
     "output_type": "stream",
     "text": [
      "0. missing information -------- start\n",
      "3    11534\n",
      "0     8131\n",
      "1       83\n",
      "2       54\n",
      "Name: missing_count, dtype: int64\n",
      "1. maximum_missing_response 2\n",
      "2. reverse_control False\n",
      "3. the replace dict is {'2.some of the time': 2, '3.often': 3, '1.hardly ever or never': 1}\n"
     ]
    },
    {
     "data": {
      "text/plain": [
       "count    8214.000000\n",
       "mean        1.372981\n",
       "std         0.505330\n",
       "min         1.000000\n",
       "25%         1.000000\n",
       "50%         1.000000\n",
       "75%         1.666667\n",
       "max         3.000000\n",
       "Name: Zloneliness, dtype: float64"
      ]
     },
     "execution_count": 56,
     "metadata": {},
     "output_type": "execute_result"
    }
   ],
   "source": [
    "\n",
    "# wave 2-9\n",
    "print_missing_count_control=True\n",
    "\n",
    "varset=['r2complac', # how often r feels lack of companionship\n",
    "         'r2leftout', # how often r feels left out\n",
    "         'r2isolate'] # how often r feels isolated from others\n",
    "varset=[x.replace('2',str(latest_wave)) for x in varset]\n",
    "\n",
    "# gen record\n",
    "new_row={'varname':'Zloneliness',\n",
    "         'varset':varset,\n",
    "         'maximum_missing_response':2,\n",
    "         'standardise':True,\n",
    "         'reverse_code':False}\n",
    "\n",
    "df_multiple_response_record=add_row_to_df_multiple_response_record(new_row,df_multiple_response_record)\n",
    "\n",
    "# get the df \n",
    "varname=new_row['varname']\n",
    "df=multiresponse_average(varname,df_multiple_response_record,data,df,print_missing_count_control)\n",
    "df[varname].describe()\n"
   ]
  },
  {
   "cell_type": "code",
   "execution_count": null,
   "metadata": {
    "pycharm": {
     "is_executing": true
    }
   },
   "outputs": [],
   "source": [
    "# or use the constructed r2lnlys3 ? \n",
    "# \n",
    "varname = f'r{latest_wave}lnlys3'\n",
    "temp['r2lnlys3']=data[varname]\n",
    "temp['r2lnlys3'].describe()"
   ]
  },
  {
   "cell_type": "markdown",
   "metadata": {},
   "source": [
    "## Life Satisfaction `Zlifesatis`\n",
    "\n",
    "`ascending order`  `w2-9` `latest_wave`"
   ]
  },
  {
   "cell_type": "code",
   "execution_count": 57,
   "metadata": {
    "pycharm": {
     "is_executing": true
    }
   },
   "outputs": [
    {
     "name": "stdout",
     "output_type": "stream",
     "text": [
      "0. missing information -------- start\n",
      "5    11532\n",
      "0     7932\n",
      "1      214\n",
      "2       59\n",
      "3       35\n",
      "4       30\n",
      "Name: missing_count, dtype: int64\n",
      "1. maximum_missing_response 3\n",
      "2. reverse_control False\n",
      "3. the replace dict is {'6.agree': 6, '4.neither agree nor disagree': 4, '7.strongly agree': 7, '5.slightly agree': 5, '2.disagree': 2, '1.strongly disagree': 1, '3.slightly disagree': 3}\n"
     ]
    },
    {
     "data": {
      "text/plain": [
       "count    8205.000000\n",
       "mean        5.256403\n",
       "std         1.232681\n",
       "min         1.000000\n",
       "25%         4.600000\n",
       "50%         5.600000\n",
       "75%         6.000000\n",
       "max         7.000000\n",
       "Name: Zlifesatis, dtype: float64"
      ]
     },
     "execution_count": 57,
     "metadata": {},
     "output_type": "execute_result"
    }
   ],
   "source": [
    "# wave 2-9\n",
    "\n",
    "print_missing_count_control=True\n",
    "\n",
    "varset=['r2lideal', # r life is close to ideal\n",
    "         'r2lexcl', # r life conditions are excellent\n",
    "         'r2lstsf', # satisfied with life\n",
    "        'r2limptt', # r gotten important things in life\n",
    "        'r2lchnot'] # r change almost nothing if lived again\n",
    "varset=[x.replace('2',str(latest_wave)) for x in varset]\n",
    "\n",
    "# gen record\n",
    "new_row={'varname':'Zlifesatis', \n",
    "         'varset':varset,\n",
    "         'maximum_missing_response':3,\n",
    "         'standardise':True,\n",
    "         'reverse_code':False}\n",
    "\n",
    "df_multiple_response_record=add_row_to_df_multiple_response_record(new_row,df_multiple_response_record)\n",
    "\n",
    "# get the df \n",
    "varname=new_row['varname']\n",
    "df=multiresponse_average(varname,df_multiple_response_record,data,df,print_missing_count_control)\n",
    "\n",
    "df[varname].describe()"
   ]
  },
  {
   "cell_type": "code",
   "execution_count": null,
   "metadata": {
    "pycharm": {
     "is_executing": true
    }
   },
   "outputs": [],
   "source": [
    "# or use r2lsatsc\n",
    "data['r2lsatsc'].describe()"
   ]
  },
  {
   "cell_type": "markdown",
   "metadata": {},
   "source": [
    "# Adulthood Adverse Experiences (3)"
   ]
  },
  {
   "cell_type": "markdown",
   "metadata": {},
   "source": [
    "## 39 Daily Discrimination `Zdailydiscrim`\n",
    "\n",
    "`w5`"
   ]
  },
  {
   "cell_type": "code",
   "execution_count": 58,
   "metadata": {
    "pycharm": {
     "is_executing": true
    }
   },
   "outputs": [
    {
     "name": "stdout",
     "output_type": "stream",
     "text": [
      "0. missing information -------- start\n",
      "5    10926\n",
      "0     8703\n",
      "1      121\n",
      "2       21\n",
      "3       16\n",
      "4       15\n",
      "Name: missing_count, dtype: int64\n",
      "1. maximum_missing_response 4\n",
      "2. reverse_control True\n",
      "3. the replace dict is {'6.never': 6, '4.a few times a year': 4, '2.at least once a week': 2, '1.almost everyday': 1, '3.a few times a month': 3, '5.less than once a year': 5}\n",
      "4. unique_vals are [1.0, 2.0, 3.0, 4.0, 5.0, 6.0]\n",
      "5. dict is {1.0: 6.0, 2.0: 5.0, 3.0: 4.0, 4.0: 3.0, 5.0: 2.0, 6.0: 1.0}\n"
     ]
    },
    {
     "data": {
      "text/plain": [
       "count    8861.000000\n",
       "mean        1.590787\n",
       "std         0.683669\n",
       "min         1.000000\n",
       "25%         1.000000\n",
       "50%         1.400000\n",
       "75%         2.000000\n",
       "max         6.000000\n",
       "Name: Zdailydiscrim, dtype: float64"
      ]
     },
     "execution_count": 58,
     "metadata": {},
     "output_type": "execute_result"
    }
   ],
   "source": [
    "# wave 5 only\n",
    "print_missing_count_control=True\n",
    "\n",
    "varset=['r5lsrspct', # r was treated with less courtesy or respect\n",
    "         'r5prsrvc', # r received poorer service than other people at r\n",
    "         'r5notsmrt', # people act as if r is not clever\n",
    "        'r5harass', # r was threatened or harassed\n",
    "        'r5prtrmt'] #r received poorer service from doctors or hospit\n",
    "        \n",
    "# varset=[x.replace('2',str(latest_wave)) for x in varset]\n",
    "\n",
    "# gen record\n",
    "new_row={'varname':'Zdailydiscrim',\n",
    "         'varset':varset,\n",
    "         'maximum_missing_response':4, # 4 is not allowed\n",
    "         'standardise':True,\n",
    "         'reverse_code':True}\n",
    "\n",
    "df_multiple_response_record=add_row_to_df_multiple_response_record(new_row,df_multiple_response_record)\n",
    "\n",
    "# get the df \n",
    "varname=new_row['varname']\n",
    "df=multiresponse_average(varname,df_multiple_response_record,data,df,print_missing_count_control)\n",
    "df[varname].describe()\n"
   ]
  },
  {
   "cell_type": "code",
   "execution_count": 52,
   "metadata": {
    "pycharm": {
     "is_executing": true
    }
   },
   "outputs": [
    {
     "data": {
      "text/plain": [
       "count    8876.000000\n",
       "mean        1.593071\n",
       "std         0.689329\n",
       "min         1.000000\n",
       "25%         1.000000\n",
       "50%         1.400000\n",
       "75%         2.000000\n",
       "max         6.000000\n",
       "Name: r5dscrim5, dtype: float64"
      ]
     },
     "execution_count": 52,
     "metadata": {},
     "output_type": "execute_result"
    }
   ],
   "source": [
    "# or \n",
    "# this is the version that allows 5 non-response\n",
    "data['r5dscrim5'].describe() "
   ]
  },
  {
   "cell_type": "code",
   "execution_count": null,
   "metadata": {
    "pycharm": {
     "is_executing": true
    }
   },
   "outputs": [],
   "source": [
    "# wave 5 only\n",
    "\n",
    "print_missing_count_control=True\n",
    "\n",
    "varset=['r5lsrspct', # r was treated with less courtesy or respect\n",
    "         'r5prsrvc', # r received poorer service than other people at r\n",
    "         'r5notsmrt', # people act as if r is not clever\n",
    "        'r5harass', # r was threatened or harassed\n",
    "        'r5prtrmt'] #r received poorer service from doctors or hospit\n",
    "        \n",
    "# varset=[x.replace('2',str(latest_wave)) for x in varset]\n",
    "\n",
    "# gen record\n",
    "new_row={'varname':'Zdailydiscrim',\n",
    "         'varset':varset,\n",
    "         'maximum_missing_response':4, # 4 is not allowed\n",
    "         'standardise':True,\n",
    "         'reverse_code':True}\n",
    "\n",
    "df_multiple_response_record=add_row_to_df_multiple_response_record(new_row,df_multiple_response_record)\n",
    "\n",
    "# get the df \n",
    "varname=new_row['varname']\n",
    "df=multiresponse_average(varname,df_multiple_response_record,data,df,print_missing_count_control)\n",
    "df[varname].describe()\n"
   ]
  },
  {
   "cell_type": "markdown",
   "metadata": {},
   "source": [
    "# Other Variables\n",
    "\n",
    "here we try to include variables:\n",
    "\n",
    "1. weights,Person-Level Analysis Weight  `latest_wave`\n",
    "2. ageatint, Age at Interview, `latest_wave`"
   ]
  },
  {
   "cell_type": "code",
   "execution_count": null,
   "metadata": {},
   "outputs": [],
   "source": [
    "df['weights']=data['r{}cwtresp'.format(latest_wave)]"
   ]
  },
  {
   "cell_type": "markdown",
   "metadata": {},
   "source": [
    "# Standardise "
   ]
  },
  {
   "cell_type": "code",
   "execution_count": 81,
   "metadata": {},
   "outputs": [],
   "source": [
    "def standardise(df,var_col_name):\n",
    "    df.loc[:,var_col_name]=df.loc[:,var_col_name].astype('float')\n",
    "    \n",
    "    std= np.std(df[var_col_name])\n",
    "    mean = np.mean(df[var_col_name])\n",
    "    # print(mean)\n",
    "    df[var_col_name]= df[var_col_name]-mean\n",
    "    df[var_col_name]= df[var_col_name]/std\n",
    "    \n",
    "    print(\"for var {}, uniques= {}, mean={}, max={},min={}\".format(var_col_name,\n",
    "                                                                    len(df[var_col_name].unique()),\n",
    "                                                                    np.mean(df[var_col_name]),\n",
    "                                                                    df[var_col_name].max(),\n",
    "                                                                    df[var_col_name].min()))\n",
    "    return df"
   ]
  },
  {
   "cell_type": "code",
   "execution_count": 68,
   "metadata": {
    "pycharm": {
     "is_executing": true
    }
   },
   "outputs": [
    {
     "data": {
      "text/plain": [
       "38"
      ]
     },
     "execution_count": 68,
     "metadata": {},
     "output_type": "execute_result"
    }
   ],
   "source": [
    "columns=df.columns\n",
    "vars_to_retain=['idauniq', 'pn', 'rabyear', 'radyear']\n",
    "vars_to_standardise=list(set(columns)-set(vars_to_retain))\n",
    "len(vars_to_standardise)"
   ]
  },
  {
   "cell_type": "code",
   "execution_count": 83,
   "metadata": {
    "pycharm": {
     "is_executing": true
    }
   },
   "outputs": [
    {
     "name": "stdout",
     "output_type": "stream",
     "text": [
      "for var Zloneliness, uniques= 10, mean=-1.3165529654523061e-16, max=3.3531122658637593,min=-0.7149069410273464\n",
      "for var Zposchildren, uniques= 14, mean=2.6608268634399448e-15, max=3.205818710082522,min=-1.0208735894432817\n",
      "for var everalcoholYN, uniques= 2, mean=1.76171458886439e-14, max=0.40716530608957474,min=-2.4560049322576405\n",
      "for var currentpaternered, uniques= 2, mean=3.9356755854964344e-14, max=1.4770088929735852,min=-0.6770439939510674\n",
      "for var Zposfriends, uniques= 14, mean=-6.376126232239691e-15, max=2.955147856059859,min=-1.1564022385002253\n",
      "for var Zeduccat, uniques= 5, mean=-1.108803984350064e-14, max=1.0040862826159371,min=-1.6544676335126673\n",
      "for var Zposfamily, uniques= 14, mean=-5.320078872441013e-15, max=1.963934646286185,min=-1.333966874343693\n",
      "for var Zneighdisorder, uniques= 38, mean=-1.1095812050966244e-14, max=1.3335087405340347,min=-3.707860870964457\n",
      "for var white, uniques= 2, mean=-1.828205185349276e-14, max=0.22111151347921687,min=-4.522604835291587\n",
      "for var Znegfamily, uniques= 19, mean=-1.361544621903266e-14, max=4.10510246746832,min=-0.9538267539431635\n",
      "for var Zmotherseduc, uniques= 8, mean=-1.1104654234701765e-14, max=1.321878582876879,min=-3.3702756012461976\n",
      "for var Zlifesatis, uniques= 56, mean=2.3431054471614718e-14, max=1.4872524420823614,min=-3.4528442452966273\n",
      "for var eversmokeYN, uniques= 2, mean=-2.5079311306091634e-15, max=0.7836568321969415,min=-1.2760687572859142\n",
      "for var currsmokeYN, uniques= 2, mean=-2.4482991131871195e-16, max=2.028988877651708,min=-0.4928563241596855\n",
      "for var rachshlt, uniques= 6, mean=1.5322072818082266e-15, max=1.0391902164568527,min=-2.6667803728253476\n",
      "for var migrantYN, uniques= 3, mean=1.3588122780640798e-15, max=3.029284023220469,min=-0.3301110071998901\n",
      "for var everrent, uniques= 2, mean=1.7660630838542864e-15, max=2.0464222087419364,min=-0.48865771478060493\n",
      "for var modactivityYN, uniques= 3, mean=9.608672059374609e-15, max=1.713609600785136,min=-0.5835634905067859\n",
      "for var ZincomeT, uniques= 5398, mean=3.298620998462042e-15, max=15.097839355228018,min=-1.1269610625201498\n",
      "for var smokenum, uniques= 114, mean=-4.0579696817187654e-16, max=9.135618528725631,min=-0.34952341528645586\n",
      "for var Znegchildren, uniques= 20, mean=2.960098701622254e-15, max=4.006758867126029,min=-1.12638829808812\n",
      "for var alcoholYN, uniques= 2, mean=-1.1740005773689248e-14, max=4.464565681345216,min=-0.2239859532537427\n",
      "for var everunemployed, uniques= 2, mean=3.9356755854964344e-14, max=1.4770088929735852,min=-0.6770439939510674\n",
      "for var carersocc, uniques= 3, mean=6.017138669883453e-15, max=0.7766476170236015,min=-1.2875852292345764\n",
      "for var Zdailydiscrim, uniques= 41, mean=-1.8602669468172138e-14, max=6.449699445257588,min=-0.86419075504439\n",
      "for var ZwealthT, uniques= 3828, mean=-6.541761731530675e-17, max=21.837695408915106,min=-0.9348380191863647\n",
      "for var vigactivityYN, uniques= 3, mean=-1.3877050540406302e-14, max=0.6762890861774832,min=-1.4786576043274924\n",
      "for var rocc, uniques= 7, mean=-1.9059759761357826e-16, max=1.4155683875845801,min=-1.607701422226799\n",
      "for var rentperiod, uniques= 10, mean=4.626841279566771e-15, max=1.687963209715069,min=-1.1715669022515487\n",
      "for var Znegspouse, uniques= 20, mean=-2.513022955683984e-16, max=3.6141808547217473,min=-1.397167075210046\n",
      "for var everdivorced, uniques= 2, mean=-4.9379078074541204e-15, max=2.816361117002575,min=-0.355068103292278\n",
      "for var sleepYN, uniques= 2, mean=6.428203647145126e-15, max=1.161820956095057,min=-0.8607178195176302\n",
      "for var Zposspouse, uniques= 13, mean=1.4354948805981584e-14, max=4.590217496830689,min=-0.6969280341981258\n",
      "for var Zfatherseduc, uniques= 8, mean=9.633484262487122e-15, max=1.2406020197659224,min=-3.050857326486676\n",
      "for var Zneighcohesion, uniques= 37, mean=1.238933345721648e-15, max=3.6608820178918537,min=-1.225744042157327\n",
      "for var nevermarried, uniques= 2, mean=-2.091655805229674e-14, max=6.277917242044301,min=-0.1592884967171554\n",
      "for var Znegfriends, uniques= 18, mean=2.3926060670003493e-15, max=5.455354377076387,min=-0.9174676833695838\n",
      "for var male, uniques= 2, mean=-9.186335831672693e-16, max=1.0942086176275567,min=-0.9139025080685395\n"
     ]
    }
   ],
   "source": [
    "for var_col_name in vars_to_standardise:\n",
    "    df=standardise(df,var_col_name)"
   ]
  },
  {
   "cell_type": "markdown",
   "metadata": {},
   "source": [
    "# Save Zone"
   ]
  },
  {
   "cell_type": "code",
   "execution_count": 59,
   "metadata": {
    "pycharm": {
     "is_executing": true
    }
   },
   "outputs": [],
   "source": [
    "df_multiple_response_record.to_csv('/Users/valler/Python/OX_Thesis/OX_thesis/Data/ELSA/multiresponse_average.csv',index=False)\n",
    "df_historical_response_record.to_csv('/Users/valler/Python/OX_Thesis/OX_thesis/Data/ELSA/df_historical_response_record.csv',index=False)\n",
    "df.to_csv('/Users/valler/Python/OX_Thesis/OX_thesis/Data/ELSA/recoded_data_w2.csv',index=False)\n"
   ]
  },
  {
   "cell_type": "code",
   "execution_count": 61,
   "metadata": {
    "pycharm": {
     "is_executing": true
    }
   },
   "outputs": [
    {
     "data": {
      "text/plain": [
       "Index(['idauniq', 'pn', 'rabyear', 'radyear', 'Zneighcohesion', 'Zfatherseduc',\n",
       "       'Zmotherseduc', 'carersocc', 'rachshlt', 'Zposspouse', 'Znegspouse',\n",
       "       'Zloneliness', 'Znegfriends', 'Zposfriends', 'Znegfamily', 'Zposfamily',\n",
       "       'Znegchildren', 'Zposchildren', 'Zlifesatis', 'Zdailydiscrim',\n",
       "       'sleepYN', 'vigactivityYN', 'modactivityYN', 'eversmokeYN',\n",
       "       'currsmokeYN', 'smokenum', 'male', 'white', 'Zeduccat',\n",
       "       'everunemployed', 'everrent', 'rentperiod', 'Zneighdisorder',\n",
       "       'ZincomeT', 'ZwealthT', 'alcoholYN', 'everalcoholYN', 'rocc',\n",
       "       'currentpaternered', 'nevermarried', 'everdivorced', 'migrantYN'],\n",
       "      dtype='object')"
      ]
     },
     "execution_count": 61,
     "metadata": {},
     "output_type": "execute_result"
    }
   ],
   "source": [
    "\n",
    "columns"
   ]
  },
  {
   "cell_type": "code",
   "execution_count": 62,
   "metadata": {},
   "outputs": [
    {
     "data": {
      "text/plain": [
       "42"
      ]
     },
     "execution_count": 62,
     "metadata": {},
     "output_type": "execute_result"
    }
   ],
   "source": [
    "len(columns)"
   ]
  },
  {
   "cell_type": "markdown",
   "metadata": {},
   "source": [
    "Death Year Hist"
   ]
  },
  {
   "cell_type": "code",
   "execution_count": 37,
   "metadata": {},
   "outputs": [
    {
     "data": {
      "text/plain": [
       "<AxesSubplot:>"
      ]
     },
     "execution_count": 37,
     "metadata": {},
     "output_type": "execute_result"
    },
    {
     "data": {
      "image/png": "[encoded data removed]",
      "text/plain": [
       "<Figure size 432x288 with 1 Axes>"
      ]
     },
     "metadata": {
      "needs_background": "light"
     },
     "output_type": "display_data"
    }
   ],
   "source": [
    "import matplotlib.pyplot as plt \n",
    "data['radyear'].hist()"
   ]
  },
  {
   "cell_type": "code",
   "execution_count": 42,
   "metadata": {},
   "outputs": [
    {
     "data": {
      "text/plain": [
       "count     849.000000\n",
       "mean     2007.068316\n",
       "std         2.583519\n",
       "min      2000.000000\n",
       "25%      2005.000000\n",
       "50%      2007.000000\n",
       "75%      2009.000000\n",
       "max      2012.000000\n",
       "Name: radyear, dtype: float64"
      ]
     },
     "execution_count": 42,
     "metadata": {},
     "output_type": "execute_result"
    }
   ],
   "source": [
    "data['radyear'].describe()"
   ]
  },
  {
   "cell_type": "markdown",
   "metadata": {},
   "source": [
    "# Data Explory Zone"
   ]
  },
  {
   "cell_type": "code",
   "execution_count": 60,
   "metadata": {},
   "outputs": [],
   "source": [
    "df['deathYN']=[1 if not pd.isnull(x) else -1 for x in df['radyear']]"
   ]
  },
  {
   "cell_type": "code",
   "execution_count": 62,
   "metadata": {},
   "outputs": [
    {
     "name": "stdout",
     "output_type": "stream",
     "text": [
      "idauniq 0\n",
      "pn 0\n",
      "rabyear 0\n",
      "radyear 0\n",
      "male 0\n",
      "white 0\n",
      "migrantYN 2\n",
      "currentpaternered 0\n",
      "Zfatherseduc 849\n",
      "Zmotherseduc 849\n",
      "carersocc 256\n",
      "rachshlt 591\n",
      "everdivorced 0\n",
      "nevermarried 0\n",
      "ZincomeT 248\n",
      "ZwealthT 248\n",
      "Zeduccat 71\n",
      "everunemployed 0\n",
      "everrent 0\n",
      "Zneighcohesion 160\n",
      "Zneighdisorder 170\n",
      "rocc 794\n",
      "alcoholYN 0\n",
      "everalcoholYN 0\n",
      "currsmokeYN 0\n",
      "eversmokeYN 0\n",
      "vigactivityYN 273\n",
      "sleepYN 0\n",
      "Zposchildren 442\n",
      "Znegchildren 443\n",
      "Zposfamily 440\n",
      "Znegfamily 450\n",
      "Zposfriends 425\n",
      "Znegfriends 427\n",
      "Znegspouse 547\n",
      "Zloneliness 393\n",
      "Zlifesatis 389\n",
      "Zdailydiscrim 808\n",
      "deathYN 0\n"
     ]
    }
   ],
   "source": [
    "temp=df.loc[df['deathYN']==1,].copy()\n",
    "for col in temp.columns:\n",
    "    print(col, sum(temp[col].isnull()))"
   ]
  },
  {
   "cell_type": "code",
   "execution_count": null,
   "metadata": {},
   "outputs": [],
   "source": []
  }
 ],
 "metadata": {
  "kernelspec": {
   "display_name": "Python 3 (ipykernel)",
   "language": "python",
   "name": "python3"
  },
  "language_info": {
   "codemirror_mode": {
    "name": "ipython",
    "version": 3
   },
   "file_extension": ".py",
   "mimetype": "text/x-python",
   "name": "python",
   "nbconvert_exporter": "python",
   "pygments_lexer": "ipython3",
   "version": "3.8.12"
  },
  "toc": {
   "base_numbering": 1,
   "nav_menu": {
    "height": "513px",
    "width": "444px"
   },
   "number_sections": true,
   "sideBar": true,
   "skip_h1_title": false,
   "title_cell": "Table of Contents",
   "title_sidebar": "Contents",
   "toc_cell": false,
   "toc_position": {},
   "toc_section_display": true,
   "toc_window_display": false
  },
  "varInspector": {
   "cols": {
    "lenName": 16,
    "lenType": 16,
    "lenVar": 40
   },
   "kernels_config": {
    "python": {
     "delete_cmd_postfix": "",
     "delete_cmd_prefix": "del ",
     "library": "var_list.py",
     "varRefreshCmd": "print(var_dic_list())"
    },
    "r": {
     "delete_cmd_postfix": ") ",
     "delete_cmd_prefix": "rm(",
     "library": "var_list.r",
     "varRefreshCmd": "cat(var_dic_list()) "
    }
   },
   "types_to_exclude": [
    "module",
    "function",
    "builtin_function_or_method",
    "instance",
    "_Feature"
   ],
   "window_display": false
  }
 },
 "nbformat": 4,
 "nbformat_minor": 1
}
