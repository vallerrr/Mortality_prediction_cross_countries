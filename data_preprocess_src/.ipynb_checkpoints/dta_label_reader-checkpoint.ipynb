{
 "cells": [
  {
   "cell_type": "markdown",
   "id": "aa79b2bf",
   "metadata": {},
   "source": [
    "# Functions "
   ]
  },
  {
   "cell_type": "code",
   "execution_count": 18,
   "id": "46f55eae",
   "metadata": {},
   "outputs": [],
   "source": [
    "import pandas as pd\n",
    "import os \n",
    "import re\n",
    "from pathlib import Path\n",
    "from datetime import datetime\n",
    "import warnings \n",
    "warnings.simplefilter(action='ignore', category=FutureWarning)\n",
    "\n",
    "\n",
    "today = datetime.now().strftime('%Y-%m-%d')\n",
    "share_path= Path.cwd().parent/Path('Data/SHARE/raw')\n"
   ]
  },
  {
   "cell_type": "markdown",
   "id": "8a0d0a48",
   "metadata": {},
   "source": [
    "# SHARE"
   ]
  },
  {
   "cell_type": "markdown",
   "id": "a18aefd1",
   "metadata": {},
   "source": [
    "firstly, read the files (structured)"
   ]
  },
  {
   "cell_type": "code",
   "execution_count": 2,
   "id": "beaaa512",
   "metadata": {},
   "outputs": [
    {
     "ename": "AttributeError",
     "evalue": "module 'pandas' has no attribute 'DataFrame'",
     "output_type": "error",
     "traceback": [
      "\u001b[0;31m---------------------------------------------------------------------------\u001b[0m",
      "\u001b[0;31mAttributeError\u001b[0m                            Traceback (most recent call last)",
      "\u001b[0;32m/var/folders/4x/vv626j3d62g57l8x8_7ksf0r0000gn/T/ipykernel_1002/1102303251.py\u001b[0m in \u001b[0;36m<module>\u001b[0;34m\u001b[0m\n\u001b[0;32m----> 1\u001b[0;31m \u001b[0mdf_share\u001b[0m \u001b[0;34m=\u001b[0m \u001b[0mpd\u001b[0m\u001b[0;34m.\u001b[0m\u001b[0mDataFrame\u001b[0m\u001b[0;34m(\u001b[0m\u001b[0mcolumns\u001b[0m\u001b[0;34m=\u001b[0m\u001b[0;34m[\u001b[0m\u001b[0;34m'wave'\u001b[0m\u001b[0;34m,\u001b[0m\u001b[0;34m'var_name'\u001b[0m\u001b[0;34m,\u001b[0m\u001b[0;34m'label'\u001b[0m\u001b[0;34m,\u001b[0m\u001b[0;34m'filename'\u001b[0m\u001b[0;34m]\u001b[0m\u001b[0;34m)\u001b[0m\u001b[0;34m\u001b[0m\u001b[0;34m\u001b[0m\u001b[0m\n\u001b[0m\u001b[1;32m      2\u001b[0m \u001b[0;34m\u001b[0m\u001b[0m\n\u001b[1;32m      3\u001b[0m \u001b[0mfolders\u001b[0m \u001b[0;34m=\u001b[0m \u001b[0;34m[\u001b[0m\u001b[0mx\u001b[0m \u001b[0;32mfor\u001b[0m \u001b[0mx\u001b[0m \u001b[0;32min\u001b[0m \u001b[0mos\u001b[0m\u001b[0;34m.\u001b[0m\u001b[0mlistdir\u001b[0m\u001b[0;34m(\u001b[0m\u001b[0mshare_path\u001b[0m\u001b[0;34m)\u001b[0m \u001b[0;32mif\u001b[0m \u001b[0;34m'sharew'\u001b[0m \u001b[0;32min\u001b[0m \u001b[0mx\u001b[0m \u001b[0;32mand\u001b[0m \u001b[0;32mnot\u001b[0m \u001b[0mx\u001b[0m\u001b[0;34m.\u001b[0m\u001b[0mendswith\u001b[0m\u001b[0;34m(\u001b[0m\u001b[0;34m'.dta'\u001b[0m\u001b[0;34m)\u001b[0m \u001b[0;32mand\u001b[0m \u001b[0mx\u001b[0m\u001b[0;34m!=\u001b[0m\u001b[0;34m'sharewX_rel8-0-0_gv_longitudinal_weights_stata'\u001b[0m\u001b[0;34m]\u001b[0m\u001b[0;34m\u001b[0m\u001b[0;34m\u001b[0m\u001b[0m\n\u001b[1;32m      4\u001b[0m \u001b[0;34m\u001b[0m\u001b[0m\n\u001b[1;32m      5\u001b[0m \u001b[0;32mfor\u001b[0m \u001b[0mfolder\u001b[0m \u001b[0;32min\u001b[0m \u001b[0mfolders\u001b[0m\u001b[0;34m:\u001b[0m\u001b[0;34m\u001b[0m\u001b[0;34m\u001b[0m\u001b[0m\n",
      "\u001b[0;31mAttributeError\u001b[0m: module 'pandas' has no attribute 'DataFrame'"
     ]
    }
   ],
   "source": [
    "df_share = pd.DataFrame(columns=['wave','var_name','label','filename'])\n",
    "\n",
    "folders = [x for x in os.listdir(share_path) if 'sharew' in x and not x.endswith('.dta') and x!='sharewX_rel8-0-0_gv_longitudinal_weights_stata']\n",
    "\n",
    "for folder in folders:\n",
    "    print(folder)\n",
    "    files = [x for x in os.listdir(share_path/folder) if 'dta' in x]\n",
    "    module = [re.findall('-0-0_(\\w*).dta',x)[0] for x in files]\n",
    "    \n",
    "    for file in files:\n",
    "        \n",
    "        temp = pd.DataFrame(columns=['wave','var_name','label','filename'])\n",
    "\n",
    "        file_path = share_path/folder/file\n",
    "        df_file = pd.read_stata(file_path, iterator=True)\n",
    "        df_label_dict = df_file.variable_labels()\n",
    "        \n",
    "        temp['wave'] = [re.findall('w(\\d)_',file)[0]]*len(df_label_dict)\n",
    "        temp['var_name'] = df_label_dict.keys()\n",
    "        temp['label'] = df_label_dict.values()\n",
    "        temp['filename'] = [file]*len(df_label_dict)\n",
    "        \n",
    "        df_share = pd.concat([df_share,temp],axis=0)\n"
   ]
  },
  {
   "cell_type": "code",
   "execution_count": 5,
   "id": "9eed224a",
   "metadata": {},
   "outputs": [
    {
     "name": "stdout",
     "output_type": "stream",
     "text": [
      "None\n"
     ]
    }
   ],
   "source": []
  },
  {
   "cell_type": "markdown",
   "id": "be45db86",
   "metadata": {},
   "source": [
    "df_share.to_csv(share_path/'share_labels.csv',index=False)"
   ]
  },
  {
   "cell_type": "code",
   "execution_count": 20,
   "id": "4530ee5b",
   "metadata": {},
   "outputs": [],
   "source": [
    "df_share = pd.read_csv(share_path/'share_labels.csv')"
   ]
  },
  {
   "cell_type": "markdown",
   "id": "8c32b18e",
   "metadata": {},
   "source": [
    "# Search\n"
   ]
  },
  {
   "cell_type": "code",
   "execution_count": 19,
   "id": "e5dbbc74",
   "metadata": {},
   "outputs": [],
   "source": [
    "pd.set_option('display.max_colwidth',-1)\n",
    "pd.set_option('display.max_rows', None, 'display.max_columns', None)\n",
    "\n",
    "def find_key_word(row,key_word):\n",
    "    \n",
    "    result = True if all([x.lower() in str(row).lower() for x in key_word]) else False \n",
    "    return result\n",
    "\n",
    "def search_for_key_word(key_word,column,df):\n",
    "    temp = df.loc[df_share[column].apply(find_key_word,key_word=key_word),]\n",
    "    # print(temp[['wave','label']])\n",
    "    return temp\n"
   ]
  },
  {
   "cell_type": "code",
   "execution_count": 135,
   "id": "a99d7623",
   "metadata": {},
   "outputs": [
    {
     "data": {
      "text/html": [
       "<div>\n",
       "<style scoped>\n",
       "    .dataframe tbody tr th:only-of-type {\n",
       "        vertical-align: middle;\n",
       "    }\n",
       "\n",
       "    .dataframe tbody tr th {\n",
       "        vertical-align: top;\n",
       "    }\n",
       "\n",
       "    .dataframe thead th {\n",
       "        text-align: right;\n",
       "    }\n",
       "</style>\n",
       "<table border=\"1\" class=\"dataframe\">\n",
       "  <thead>\n",
       "    <tr style=\"text-align: right;\">\n",
       "      <th></th>\n",
       "      <th>wave</th>\n",
       "      <th>var_name</th>\n",
       "      <th>label</th>\n",
       "      <th>filename</th>\n",
       "    </tr>\n",
       "  </thead>\n",
       "  <tbody>\n",
       "    <tr>\n",
       "      <th>220</th>\n",
       "      <td>1</td>\n",
       "      <td>q2_k</td>\n",
       "      <td>I feel that life is full of opportunities</td>\n",
       "      <td>sharew1_rel8-0-0_dropoff.dta</td>\n",
       "    </tr>\n",
       "  </tbody>\n",
       "</table>\n",
       "</div>"
      ],
      "text/plain": [
       "     wave var_name                                      label  \\\n",
       "220  1     q2_k     I feel that life is full of opportunities   \n",
       "\n",
       "                         filename  \n",
       "220  sharew1_rel8-0-0_dropoff.dta  "
      ]
     },
     "execution_count": 135,
     "metadata": {},
     "output_type": "execute_result"
    }
   ],
   "source": [
    "key_word= ['life','opportunities']\n",
    "result = search_for_key_word(key_word,'label',df_share)\n",
    "result\n",
    "# result.drop_duplicates(subset=['label'])"
   ]
  },
  {
   "cell_type": "markdown",
   "id": "6d3b4b81",
   "metadata": {},
   "source": [
    "## Second Search"
   ]
  },
  {
   "cell_type": "markdown",
   "id": "13580228",
   "metadata": {},
   "source": [
    "### search for the full label"
   ]
  },
  {
   "cell_type": "code",
   "execution_count": 134,
   "id": "eabe39fc",
   "metadata": {},
   "outputs": [
    {
     "data": {
      "text/html": [
       "<div>\n",
       "<style scoped>\n",
       "    .dataframe tbody tr th:only-of-type {\n",
       "        vertical-align: middle;\n",
       "    }\n",
       "\n",
       "    .dataframe tbody tr th {\n",
       "        vertical-align: top;\n",
       "    }\n",
       "\n",
       "    .dataframe thead th {\n",
       "        text-align: right;\n",
       "    }\n",
       "</style>\n",
       "<table border=\"1\" class=\"dataframe\">\n",
       "  <thead>\n",
       "    <tr style=\"text-align: right;\">\n",
       "      <th></th>\n",
       "      <th>wave</th>\n",
       "      <th>var_name</th>\n",
       "      <th>label</th>\n",
       "      <th>filename</th>\n",
       "    </tr>\n",
       "  </thead>\n",
       "  <tbody>\n",
       "    <tr>\n",
       "      <th>220</th>\n",
       "      <td>1</td>\n",
       "      <td>q2_k</td>\n",
       "      <td>I feel that life is full of opportunities</td>\n",
       "      <td>sharew1_rel8-0-0_dropoff.dta</td>\n",
       "    </tr>\n",
       "  </tbody>\n",
       "</table>\n",
       "</div>"
      ],
      "text/plain": [
       "     wave var_name                                      label  \\\n",
       "220  1     q2_k     I feel that life is full of opportunities   \n",
       "\n",
       "                         filename  \n",
       "220  sharew1_rel8-0-0_dropoff.dta  "
      ]
     },
     "execution_count": 134,
     "metadata": {},
     "output_type": "execute_result"
    }
   ],
   "source": [
    "keyword='I feel that life is full of opportunities'\n",
    "result.loc[result['label']==keyword,]"
   ]
  },
  {
   "cell_type": "markdown",
   "id": "f3ec6ca8",
   "metadata": {},
   "source": [
    "### vague search"
   ]
  },
  {
   "cell_type": "code",
   "execution_count": 21,
   "id": "570273cd",
   "metadata": {},
   "outputs": [
    {
     "data": {
      "text/html": [
       "<div>\n",
       "<style scoped>\n",
       "    .dataframe tbody tr th:only-of-type {\n",
       "        vertical-align: middle;\n",
       "    }\n",
       "\n",
       "    .dataframe tbody tr th {\n",
       "        vertical-align: top;\n",
       "    }\n",
       "\n",
       "    .dataframe thead th {\n",
       "        text-align: right;\n",
       "    }\n",
       "</style>\n",
       "<table border=\"1\" class=\"dataframe\">\n",
       "  <thead>\n",
       "    <tr style=\"text-align: right;\">\n",
       "      <th></th>\n",
       "      <th>wave</th>\n",
       "      <th>var_name</th>\n",
       "      <th>label</th>\n",
       "      <th>filename</th>\n",
       "    </tr>\n",
       "  </thead>\n",
       "  <tbody>\n",
       "    <tr>\n",
       "      <th>2276</th>\n",
       "      <td>1</td>\n",
       "      <td>mh003_</td>\n",
       "      <td>Hopes for the future</td>\n",
       "      <td>sharew1_rel8-0-0_mh.dta</td>\n",
       "    </tr>\n",
       "    <tr>\n",
       "      <th>3723</th>\n",
       "      <td>4</td>\n",
       "      <td>mh003_</td>\n",
       "      <td>Hopes for the future</td>\n",
       "      <td>sharew4_rel8-0-0_mh.dta</td>\n",
       "    </tr>\n",
       "    <tr>\n",
       "      <th>7715</th>\n",
       "      <td>5</td>\n",
       "      <td>mh003_</td>\n",
       "      <td>Hopes for the future</td>\n",
       "      <td>sharew5_rel8-0-0_mh.dta</td>\n",
       "    </tr>\n",
       "    <tr>\n",
       "      <th>19804</th>\n",
       "      <td>6</td>\n",
       "      <td>mh003_</td>\n",
       "      <td>Hopes for the future</td>\n",
       "      <td>sharew6_rel8-0-0_mh.dta</td>\n",
       "    </tr>\n",
       "    <tr>\n",
       "      <th>23179</th>\n",
       "      <td>8</td>\n",
       "      <td>mh003_</td>\n",
       "      <td>Hopes for the future</td>\n",
       "      <td>sharew8_rel8-0-0_mh.dta</td>\n",
       "    </tr>\n",
       "    <tr>\n",
       "      <th>32325</th>\n",
       "      <td>7</td>\n",
       "      <td>mh003_</td>\n",
       "      <td>Hopes for the future</td>\n",
       "      <td>sharew7_rel8-0-0_mh.dta</td>\n",
       "    </tr>\n",
       "    <tr>\n",
       "      <th>35884</th>\n",
       "      <td>2</td>\n",
       "      <td>mh003_</td>\n",
       "      <td>Hopes for the future</td>\n",
       "      <td>sharew2_rel8-0-0_mh.dta</td>\n",
       "    </tr>\n",
       "  </tbody>\n",
       "</table>\n",
       "</div>"
      ],
      "text/plain": [
       "       wave var_name                 label                 filename\n",
       "2276   1     mh003_   Hopes for the future  sharew1_rel8-0-0_mh.dta\n",
       "3723   4     mh003_   Hopes for the future  sharew4_rel8-0-0_mh.dta\n",
       "7715   5     mh003_   Hopes for the future  sharew5_rel8-0-0_mh.dta\n",
       "19804  6     mh003_   Hopes for the future  sharew6_rel8-0-0_mh.dta\n",
       "23179  8     mh003_   Hopes for the future  sharew8_rel8-0-0_mh.dta\n",
       "32325  7     mh003_   Hopes for the future  sharew7_rel8-0-0_mh.dta\n",
       "35884  2     mh003_   Hopes for the future  sharew2_rel8-0-0_mh.dta"
      ]
     },
     "execution_count": 21,
     "metadata": {},
     "output_type": "execute_result"
    }
   ],
   "source": [
    "pd.set_option('display.max_colwidth',-1)\n",
    "\n",
    "key_word= ['mh003_'] #ac029_\n",
    "result = search_for_key_word(key_word,'var_name',df_share)\n",
    "result"
   ]
  },
  {
   "cell_type": "markdown",
   "id": "814ded3d",
   "metadata": {},
   "source": [
    "### vars_can_be_formed"
   ]
  },
  {
   "cell_type": "markdown",
   "id": "a58167a9",
   "metadata": {},
   "source": [
    "#### SHARE"
   ]
  },
  {
   "cell_type": "code",
   "execution_count": 30,
   "id": "d889ec5a",
   "metadata": {},
   "outputs": [],
   "source": [
    "# varname in raw: 'topics that may fit'\n",
    "\n",
    "\n",
    "var_names_worth_looking_at = {'eg_G':['majestery?',[7,8]],\n",
    "                              'ac70':['personality traits, I see myself as...',[7,8]],\n",
    "                              'mh00':['negative feelings/constrains/hopelessness',[1,2,4,5,6,7,8]],\n",
    "                              'q3_':['hopelessness',[1,2,5,6,7,8]],\n",
    "                              'q2_':['majestery',[1]],\n",
    "                              'cc73':['family financial condition',[7]],\n",
    "                              'fahc':['food consumption at home (fahc is out home)',[7,8]]}\n"
   ]
  },
  {
   "cell_type": "code",
   "execution_count": null,
   "id": "885de504",
   "metadata": {},
   "outputs": [],
   "source": [
    "vars_can_be_formed={\n",
    "                   'Life Satisfaction':{'sharew1_rel8-0-0_dropoff.dta':['q1','q2_h','q2_i','q2_k'],\n",
    "                                         'sharew2_rel8-0-0_ac.dta':['ac012_'],\n",
    "                                         'sharew4_rel8-0-0_ac.dta':['ac012_'],\n",
    "                                         'sharew5_rel8-0-0_ac.dta':['ac012_'],\n",
    "                                         'sharew6_rel8-0-0_ac.dta':['ac012_'],\n",
    "                                         'sharew7_rel8-0-0_ac.dta':['ac012_'],\n",
    "                                         'sharew8_rel8-0-0_ac.dta':['ac012_'],\n",
    "                                         'Notes':{'q1':'How satisfied with life in general',\n",
    "                                                  'q2_h':'I feel that my life has a meaning',\n",
    "                                                  'q2_i':'On balance, I look back on my life with a sense of happiness',\n",
    "                                                  'q2_k':'I feel that life is full of opportunities',\n",
    "                                                  'ac012_':'How satisfied with life'}},\n",
    "                    \n",
    "                    'Religiousity':{'sharew1_rel8-0-0_dropoff.dta':['q34_re'],\n",
    "                                    'Notes':{'q34_re':'Religion belonging or feeling attached to mostly'}},\n",
    "                    \n",
    "                    'Perceived Constraints':{'sharew1_rel8-0-0_dropoff.dta':['q2_b','q2_c'],\n",
    "                                             'sharew2_rel8-0-0_ac.dta':['ac015_'],\n",
    "                                             'sharew4_rel8-0-0_ac.dta':['ac015_'],\n",
    "                                             'sharew5_rel8-0-0_ac.dta':['ac015_'],\n",
    "                                             'sharew6_rel8-0-0_ac.dta':['ac015_'],\n",
    "                                             'sharew7_rel8-0-0_ac.dta':['ac015_'],\n",
    "                                             'sharew8_rel8-0-0_ac.dta':['ac015_'],\n",
    "                                             'Notes':{'ac015_':'Out of control',\n",
    "                                                      'q2_b':'I feel that what happens to me is out of my control',\n",
    "                                                      'q2_c':'I feel left out of things'}},\n",
    "                    \n",
    "                    'Perceived Mastery':{'sharew1_rel8-0-0_dropoff.dta':['q2_d'],\n",
    "                                         'sharew2_rel8-0-0_ac.dta':['ac017_'],\n",
    "                                         'sharew4_rel8-0-0_ac.dta':['ac017_'],\n",
    "                                         'sharew5_rel8-0-0_ac.dta':['ac017_'],\n",
    "                                         'sharew6_rel8-0-0_ac.dta':['ac017_'],\n",
    "                                         'sharew7_rel8-0-0_ac.dta':['ac017_'],\n",
    "                                         'sharew8_rel8-0-0_ac.dta':['ac017_'],\n",
    "                                         'Notes':{'q2_d':'I can do the things I want to',\n",
    "                                                  'ac017_':'Do the things you want to do'}},\n",
    "                    \n",
    "                    'Trait Anxiety':{'sharew4_rel8-0-0_mh.dta':['mh023_','mh024_','mh025_','mh026_','mh027_'],\n",
    "                                     'sharew5_rel8-0-0_mh.dta':['mh023_','mh024_','mh025_','mh026_','mh027_'],\n",
    "                                     'Notes':{'mh023_':'Fear of the worst happening',\n",
    "                                              'mh024_':'Nervous',\n",
    "                                              'mh025_':'Hands trembling',\n",
    "                                              'mh026_':'Fear of dying',\n",
    "                                              'mh027_':'Felt faint'}},\n",
    "                    \n",
    "                    'Adult Psychosocial Adversity':{'sharew1_rel8-0-0_dropoff.dta':['ilq6','ilq15','ilq18','ilq21','ilq24','ilq37','ilq87','ilq96','ilq111'],\n",
    "                                                    'sharew2_rel8-0-0_dropoff.dta':['ilq6','ilq15','ilq18','ilq21','ilq24','ilq37','ilq87','ilq96','ilq111'],\n",
    "                                                    'Notes':{'ilq6':'Experienced the death of a (grand)child',\n",
    "                                                             'ilq15':'Experienced sexual assault (rape or harassment)',\n",
    "                                                             'ilq18':'Been victim of violence/abuse',\n",
    "                                                             'ilq21':'Been victim of crime (theft or fraud)',\n",
    "                                                             'ilq24':'Witnessed accident/violent act in which someone was killed/seriously injured',\n",
    "                                                             'ilq37':'During wwII, ever resided in country under nazi/pro-nazi regime',\n",
    "                                                             'ilq87':'Been wounded in war/military action',\n",
    "                                                             'ilq96':'Been wounded in a terrorist act (an attack by terrorists against civilians)',\n",
    "                                                             'ilq111':'Experienced the death of a spouse',\n",
    "                                                             'others':'add 1-> age, add 2-> effect on life'}},\n",
    "                    \n",
    "                    'Hopelessness':{'sharew1_rel8-0-0_mh.dta':['mh003_'],\n",
    "                                    'sharew2_rel8-0-0_mh.dta':['mh003_'],\n",
    "                                    'sharew4_rel8-0-0_mh.dta':['mh003_'],\n",
    "                                    'sharew5_rel8-0-0_mh.dta':['mh003_'],\n",
    "                                    'sharew6_rel8-0-0_mh.dta':['mh003_'],\n",
    "                                    'sharew7_rel8-0-0_mh.dta':['mh003_'],\n",
    "                                    'sharew8_rel8-0-0_mh.dta':['mh003_'],\n",
    "                                    'Notes':{'mh003_':'Hopes for the future'}},\n",
    "                    \n",
    "                    'Perceived Mastery':{'sharew8_rel8-0-0_dropoff.dta':['eg_G13'],\n",
    "                                         'Notes':{'eg_G13':'Keeping under control'}},\n",
    "                    \n",
    "                    'Loneliness':{'sharew4_rel8-0-0_dropoff.dta':['q5a','q5b','q5c','q5d'],\n",
    "                                  'sharew5_rel8-0-0_mh.dta':['mh034_','mh035_','mh036_','mh037_'],\n",
    "                                  'sharew6_rel8-0-0_mh.dta':['mh034_','mh035_','mh036_','mh037_'],\n",
    "                                  'sharew7_rel8-0-0_mh.dta':['mh034_','mh035_','mh036_','mh037_'],\n",
    "                                  'sharew8_rel8-0-0_mh.dta':['mh034_','mh035_','mh036_','mh037_'],\n",
    "                                  'Notes':{'q5a':'How much of time: feel you lack companionship',\n",
    "                                           'q5b':'How much of time: feel left out',\n",
    "                                           'q5c':'How much of time: feel isolated from others',\n",
    "                                           'q5d':'How much of time: feel lonely',\n",
    "                                           'mh034_':'Feels lack of companionship',\n",
    "                                           'mh035_':'Feels left out',\n",
    "                                           'mh036_':'Feels isolated from others',\n",
    "                                           'mh037_':'Feels lonely'}}, \n",
    "                    \n",
    "                    'Agreeableness':{'sharew7_rel8-0-0_ac.dta':['ac702_','ac711_'],  \n",
    "                                     'sharew8_rel8-0-0_ac.dta':['ac702_','ac711_'],\n",
    "                                     'Notes':{'ac702_':'general trusting',\n",
    "                                              'ac711_':'considerate and kind to almost everyone'}},\n",
    "                    \n",
    "                    'Extroversion':{'sharew7_rel8-0-0_ac.dta':['ac706_', 'ac711_'], \n",
    "                                    'sharew8_rel8-0-0_ac.dta':['ac706_', 'ac711_'],\n",
    "                                    'Notes':{'ac706_':'outgoing, sociable',\n",
    "                                             'ac711_':'considerate and kind to almost everyone'}},\n",
    "                    \n",
    "                    'Neuroticism':{'sharew7_rel8-0-0_ac.dta':['ac709_', 'ac704_'], \n",
    "                                   'sharew8_rel8-0-0_ac.dta':['ac709_', 'ac704_'],\n",
    "                                   'Notes':{'ac709_':'gets nervous easily',\n",
    "                                            'ac704_':'relaxed, handles stress well (reverse code)'}},\n",
    "                    \n",
    "                    'Openness':{'sharew8_rel8-0-0_ac.dta':['ac710_', 'ac705_'],\n",
    "                                'sharew7_rel8-0-0_ac.dta':['ac710_', 'ac705_'],\n",
    "                                'Notes':{'ac710_':'active imagination',\n",
    "                                         'ac705_':'few artistic interests (reverse code)'}},\n",
    "                    \n",
    "                    'Conscientiousness':{'sharew8_rel8-0-0_ac.dta':['ac708_'], \n",
    "                                         'sharew7_rel8-0-0_ac.dta':['ac708_'],\n",
    "                                         'Notes':{'ac708_':'does a thorough job'}},\n",
    "                    \n",
    "                    'Pessimism':{'sharew1_rel8-0-0_dropoff.dta':['q3_d','q3_f'],\n",
    "                                 'sharew2_rel8-0-0_dropoff.dta':['q3_d','q3_f'],\n",
    "                                 'Notes':{'q3_d':'I hardly ever expect things to go my way',\n",
    "                                          'q3_f':'I rarely count on good things happening to me'}},\n",
    "                    \n",
    "                    'Optimism':{'sharew1_rel8-0-0_dropoff.dta':['q3_a','q3_b','q3_c','q3_e','q3_g'],\n",
    "                                'sharew2_rel8-0-0_dropoff.dta':['q3_a','q3_b','q3_c','q3_e','q3_g'],\n",
    "                                'Notes':{'q3_a':'I pursue my goals with lots of energy',\n",
    "                                         'q3_b':'In uncertain times, I usually expect the best',\n",
    "                                         'q3_c':\"I'm always optimistic about my future \",\n",
    "                                         'q3_e':\"I still find ways to solve a problem if others have given up\",\n",
    "                                         'q3_g':'Given my previous experiences I feel well prepared for my future'}},\n",
    "                    \n",
    "                    'Negative Affect':{'sharew1_rel8-0-0_dropoff.dta':['q4_a', 'q4_b','q4_c','q4_e','q4_f','q4_h','q4_i','q4_j','q4_k','q4_m'],\n",
    "                                       'Notes':{'q4_a':'I felt depressed', \n",
    "                                                'q4_b':'I felt that everything I did was an effort',\n",
    "                                                'q4_c':'My sleep was restless',\n",
    "                                                'q4_e':'I felt lonely',\n",
    "                                                'q4_f':'I felt people were unfriendly',\n",
    "                                                'q4_h':'I felt sad',\n",
    "                                                'q4_i':'I felt that people disliked me',\n",
    "                                                'q4_j':'I could not get going',\n",
    "                                                'q4_k':'I did not feel like eating/my appetite was poor',\n",
    "                                                'q4_m':'I felt tired'}},\n",
    "                    \n",
    "                    'Positive Affect':{'sharew1_rel8-0-0_dropoff.dta':['q4_l', 'q4_g','q4_d'],\n",
    "                                       'Notes':{'q4_l':'I had a lot of energy', \n",
    "                                               'q4_g':'I enjoyed life',\n",
    "                                               'q4_d':'I was happy'}}} \n",
    "\n"
   ]
  },
  {
   "cell_type": "markdown",
   "id": "639ffa2f",
   "metadata": {},
   "source": [
    "### Save the `vars_found_in_raw`"
   ]
  },
  {
   "cell_type": "code",
   "execution_count": 29,
   "id": "93d8a875",
   "metadata": {},
   "outputs": [],
   "source": [
    "df_vars_found_in_raw = pd.DataFrame(columns=['varname','wave','file_name','var_set','Notes'])\n",
    "for var_key,val in vars_can_be_formed.items():\n",
    "    row={}\n",
    "    for file_name,var_set in val.items():\n",
    "        if not file_name=='Notes':\n",
    "            row['varname']=var_key\n",
    "            row['wave']=int(file_name[6])\n",
    "            row['file_name']=file_name\n",
    "            row['var_set']=var_set\n",
    "            row['Notes']={x:val['Notes'][x] for x in var_set}\n",
    "            df_vars_found_in_raw = df_vars_found_in_raw.append(row,ignore_index=True)\n",
    "\n",
    "# df_vars_found_in_raw.to_csv(Path.cwd()/'vars_found_in_raw'/'SHARE.csv',index=False)\n",
    "    \n",
    "    "
   ]
  },
  {
   "cell_type": "code",
   "execution_count": null,
   "id": "d7390d72",
   "metadata": {},
   "outputs": [],
   "source": []
  }
 ],
 "metadata": {
  "kernelspec": {
   "display_name": "Python 3 (ipykernel)",
   "language": "python",
   "name": "python3"
  },
  "language_info": {
   "codemirror_mode": {
    "name": "ipython",
    "version": 3
   },
   "file_extension": ".py",
   "mimetype": "text/x-python",
   "name": "python",
   "nbconvert_exporter": "python",
   "pygments_lexer": "ipython3",
   "version": "3.8.16"
  },
  "toc": {
   "base_numbering": 1,
   "nav_menu": {
    "height": "167px",
    "width": "628px"
   },
   "number_sections": true,
   "sideBar": true,
   "skip_h1_title": false,
   "title_cell": "Table of Contents",
   "title_sidebar": "Contents",
   "toc_cell": false,
   "toc_position": {},
   "toc_section_display": true,
   "toc_window_display": false
  },
  "varInspector": {
   "cols": {
    "lenName": 16,
    "lenType": 16,
    "lenVar": 40
   },
   "kernels_config": {
    "python": {
     "delete_cmd_postfix": "",
     "delete_cmd_prefix": "del ",
     "library": "var_list.py",
     "varRefreshCmd": "print(var_dic_list())"
    },
    "r": {
     "delete_cmd_postfix": ") ",
     "delete_cmd_prefix": "rm(",
     "library": "var_list.r",
     "varRefreshCmd": "cat(var_dic_list()) "
    }
   },
   "types_to_exclude": [
    "module",
    "function",
    "builtin_function_or_method",
    "instance",
    "_Feature"
   ],
   "window_display": false
  }
 },
 "nbformat": 4,
 "nbformat_minor": 5
}
