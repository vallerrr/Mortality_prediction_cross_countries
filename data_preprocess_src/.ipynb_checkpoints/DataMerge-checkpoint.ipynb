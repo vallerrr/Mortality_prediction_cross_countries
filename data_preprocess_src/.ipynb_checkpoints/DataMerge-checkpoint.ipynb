{
 "cells": [
  {
   "cell_type": "code",
   "execution_count": 1,
   "metadata": {
    "ExecuteTime": {
     "end_time": "2023-04-12T11:00:55.820601Z",
     "start_time": "2023-04-12T11:00:55.806029Z"
    }
   },
   "outputs": [
    {
     "data": {
      "text/plain": [
       "'/Users/valler/Python/OX_Thesis/OX_thesis'"
      ]
     },
     "execution_count": 1,
     "metadata": {},
     "output_type": "execute_result"
    }
   ],
   "source": [
    "import os\n",
    "from pathlib import Path\n",
    "\n",
    "os.chdir(Path.cwd().parent)\n",
    "os.getcwd()\n"
   ]
  },
  {
   "cell_type": "code",
   "execution_count": 2,
   "metadata": {
    "ExecuteTime": {
     "end_time": "2023-04-12T11:02:36.301136Z",
     "start_time": "2023-04-12T11:02:36.088117Z"
    }
   },
   "outputs": [],
   "source": [
    "from src import params\n",
    "df_HRS = params.data_reader(source='us',dataset='HRS',bio=False,platform='local')\n",
    "df_SHARE = params.data_reader(source='us',dataset='SHARE',bio=False,platform='local')\n",
    "\n",
    "# label data\n",
    "df_HRS['dataset']=0\n",
    "df_SHARE['dataset']=1"
   ]
  },
  {
   "cell_type": "code",
   "execution_count": 6,
   "metadata": {
    "ExecuteTime": {
     "end_time": "2023-04-12T11:03:08.888676Z",
     "start_time": "2023-04-12T11:03:08.881706Z"
    }
   },
   "outputs": [
    {
     "data": {
      "text/plain": [
       "count    2.167100e+04\n",
       "mean     2.362143e+05\n",
       "std      6.784992e+05\n",
       "min     -5.492232e+05\n",
       "25%      5.177303e+04\n",
       "50%      1.515098e+05\n",
       "75%      2.879482e+05\n",
       "max      7.030952e+07\n",
       "Name: ZwealthT, dtype: float64"
      ]
     },
     "execution_count": 6,
     "metadata": {},
     "output_type": "execute_result"
    }
   ],
   "source": [
    "df_SHARE['ZwealthT'].describe()"
   ]
  },
  {
   "cell_type": "code",
   "execution_count": 3,
   "metadata": {
    "ExecuteTime": {
     "end_time": "2023-04-11T00:54:58.363904Z",
     "start_time": "2023-04-11T00:54:58.358895Z"
    }
   },
   "outputs": [
    {
     "data": {
      "text/plain": [
       "count    2.167100e+04\n",
       "mean    -3.934527e-17\n",
       "std      1.000023e+00\n",
       "min     -1.157637e+00\n",
       "25%     -2.718434e-01\n",
       "50%     -1.248438e-01\n",
       "75%      7.624930e-02\n",
       "max      1.032793e+02\n",
       "Name: ZwealthT, dtype: float64"
      ]
     },
     "execution_count": 3,
     "metadata": {},
     "output_type": "execute_result"
    }
   ],
   "source": [
    "import numpy as np\n",
    "col='ZwealthT'\n",
    "df_SHARE[col]=df_SHARE[col]-np.mean(df_SHARE[col])\n",
    "df_SHARE[col]=df_SHARE[col]/np.std(df_SHARE[col])\n",
    "df_SHARE['ZwealthT'].describe()"
   ]
  },
  {
   "cell_type": "code",
   "execution_count": 20,
   "metadata": {
    "ExecuteTime": {
     "end_time": "2023-04-11T01:00:15.723116Z",
     "start_time": "2023-04-11T01:00:15.611983Z"
    }
   },
   "outputs": [],
   "source": [
    "import pandas as pd\n",
    "df=pd.merge(left=df_SHARE,right=df_HRS,how='outer')"
   ]
  },
  {
   "cell_type": "code",
   "execution_count": 4,
   "metadata": {},
   "outputs": [
    {
     "name": "stdout",
     "output_type": "stream",
     "text": [
      "count    21671.000000\n",
      "mean         0.052892\n",
      "std          0.325441\n",
      "min          0.000000\n",
      "25%          0.000000\n",
      "50%          0.000000\n",
      "75%          0.000000\n",
      "max          9.000000\n",
      "Name: sumadultAE, dtype: float64\n",
      "count    21671.000000\n",
      "mean         2.261491\n",
      "std          0.666926\n",
      "min          1.000000\n",
      "25%          2.000000\n",
      "50%          2.266667\n",
      "75%          2.666667\n",
      "max          4.000000\n",
      "Name: Zposaffect, dtype: float64\n",
      "count    21671.000000\n",
      "mean         1.618282\n",
      "std          0.460025\n",
      "min          1.000000\n",
      "25%          1.300000\n",
      "50%          1.500000\n",
      "75%          1.800000\n",
      "max          4.000000\n",
      "Name: Znegaffect, dtype: float64\n",
      "count    21671.000000\n",
      "mean         2.272736\n",
      "std          0.648164\n",
      "min          1.000000\n",
      "25%          1.960750\n",
      "50%          2.200000\n",
      "75%          2.600000\n",
      "max          5.000000\n",
      "Name: Zoptimism, dtype: float64\n",
      "count    21671.000000\n",
      "mean         2.791863\n",
      "std          0.901920\n",
      "min          1.000000\n",
      "25%          2.000000\n",
      "50%          3.000000\n",
      "75%          3.500000\n",
      "max          5.000000\n",
      "Name: Zpessimism, dtype: float64\n",
      "count    21671.000000\n",
      "mean        -0.746131\n",
      "std          0.664887\n",
      "min         -1.000000\n",
      "25%         -1.000000\n",
      "50%         -1.000000\n",
      "75%         -1.000000\n",
      "max          1.000000\n",
      "Name: Zhopelessness, dtype: float64\n",
      "count    21671.000000\n",
      "mean         1.948198\n",
      "std          0.767200\n",
      "min          1.000000\n",
      "25%          1.500000\n",
      "50%          2.000000\n",
      "75%          2.500000\n",
      "max          4.000000\n",
      "Name: Zperceivedconstraints, dtype: float64\n",
      "count    21671.000000\n",
      "mean        35.914113\n",
      "std         10.730134\n",
      "min          0.000000\n",
      "25%         29.000000\n",
      "50%         36.334000\n",
      "75%         43.000000\n",
      "max         85.000000\n",
      "Name: lencurmarridge, dtype: float64\n",
      "count    21671.000000\n",
      "mean         0.546122\n",
      "std          0.837725\n",
      "min         -1.000000\n",
      "25%          1.000000\n",
      "50%          1.000000\n",
      "75%          1.000000\n",
      "max          1.000000\n",
      "Name: currentpaternered, dtype: float64\n",
      "count    21671.000000\n",
      "mean         4.324484\n",
      "std          1.441396\n",
      "min          1.000000\n",
      "25%          4.000000\n",
      "50%          4.000000\n",
      "75%          6.000000\n",
      "max          6.000000\n",
      "Name: Zeduccat, dtype: float64\n",
      "count    21671.000000\n",
      "mean        -0.556813\n",
      "std          0.815396\n",
      "min         -1.000000\n",
      "25%         -1.000000\n",
      "50%         -1.000000\n",
      "75%         -1.000000\n",
      "max          1.000000\n",
      "Name: rural, dtype: float64\n",
      "count    21671.000000\n",
      "mean         0.964838\n",
      "std          0.262852\n",
      "min         -1.000000\n",
      "25%          1.000000\n",
      "50%          1.000000\n",
      "75%          1.000000\n",
      "max          1.000000\n",
      "Name: citizenship, dtype: float64\n",
      "count    21671.000000\n",
      "mean        -0.782382\n",
      "std          0.622813\n",
      "min         -1.000000\n",
      "25%         -1.000000\n",
      "50%         -1.000000\n",
      "75%         -1.000000\n",
      "max          1.000000\n",
      "Name: migrantYN, dtype: float64\n",
      "count    21671.000000\n",
      "mean        -0.102118\n",
      "std          0.994795\n",
      "min         -1.000000\n",
      "25%         -1.000000\n",
      "50%         -1.000000\n",
      "75%          1.000000\n",
      "max          1.000000\n",
      "Name: maleYN, dtype: float64\n",
      "count    21671.000000\n",
      "mean        -0.901527\n",
      "std          0.432732\n",
      "min         -1.000000\n",
      "25%         -1.000000\n",
      "50%         -1.000000\n",
      "75%         -1.000000\n",
      "max          1.000000\n",
      "Name: everunemployed, dtype: float64\n",
      "count    21671.000000\n",
      "mean        -0.051233\n",
      "std          0.998633\n",
      "min         -1.000000\n",
      "25%         -1.000000\n",
      "50%         -1.000000\n",
      "75%          1.000000\n",
      "max          1.000000\n",
      "Name: vigactivityYN, dtype: float64\n",
      "count    21671.000000\n",
      "mean        -0.692360\n",
      "std          0.721528\n",
      "min         -1.000000\n",
      "25%         -1.000000\n",
      "50%         -1.000000\n",
      "75%         -1.000000\n",
      "max          1.000000\n",
      "Name: modactivityYN, dtype: float64\n",
      "count    21671.000000\n",
      "mean         0.025333\n",
      "std          0.999702\n",
      "min         -1.000000\n",
      "25%         -1.000000\n",
      "50%          1.000000\n",
      "75%          1.000000\n",
      "max          1.000000\n",
      "Name: eversmokeYN, dtype: float64\n",
      "count    21671.000000\n",
      "mean        -0.031517\n",
      "std          0.999526\n",
      "min         -1.000000\n",
      "25%         -1.000000\n",
      "50%         -1.000000\n",
      "75%          1.000000\n",
      "max          1.000000\n",
      "Name: currsmokeYN, dtype: float64\n",
      "count    21671.000000\n",
      "mean         0.285133\n",
      "std          0.421837\n",
      "min          0.000000\n",
      "25%          0.000000\n",
      "50%          0.000000\n",
      "75%          0.420000\n",
      "max          4.000000\n",
      "Name: chilstrevents, dtype: float64\n",
      "count    21671.000000\n",
      "mean        -0.606017\n",
      "std          0.795470\n",
      "min         -1.000000\n",
      "25%         -1.000000\n",
      "50%         -1.000000\n",
      "75%         -1.000000\n",
      "max          1.000000\n",
      "Name: everrent, dtype: float64\n",
      "count    21671.000000\n",
      "mean        -0.385551\n",
      "std          0.922008\n",
      "min         -1.000000\n",
      "25%         -1.000000\n",
      "50%         -1.000000\n",
      "75%          1.000000\n",
      "max          1.000000\n",
      "Name: sleepYN, dtype: float64\n",
      "count    21671.000000\n",
      "mean        -0.867196\n",
      "std          0.497979\n",
      "min         -1.000000\n",
      "25%         -1.000000\n",
      "50%         -1.000000\n",
      "75%         -1.000000\n",
      "max          1.000000\n",
      "Name: everdivorced, dtype: float64\n",
      "count    21671.000000\n",
      "mean        -0.913248\n",
      "std          0.407413\n",
      "min         -1.000000\n",
      "25%         -1.000000\n",
      "50%         -1.000000\n",
      "75%         -1.000000\n",
      "max          1.000000\n",
      "Name: nevermarried, dtype: float64\n",
      "count    21671.000000\n",
      "mean         5.343272\n",
      "std          0.864897\n",
      "min          1.000000\n",
      "25%          5.000000\n",
      "50%          5.768000\n",
      "75%          5.970000\n",
      "max          6.000000\n",
      "Name: Zmotherseduc, dtype: float64\n",
      "count    21671.000000\n",
      "mean         4.915235\n",
      "std          1.115038\n",
      "min          1.000000\n",
      "25%          4.108000\n",
      "50%          5.138000\n",
      "75%          5.937000\n",
      "max          6.000000\n",
      "Name: Zfatherseduc, dtype: float64\n",
      "count    21671.000000\n",
      "mean         4.401735\n",
      "std          1.321919\n",
      "min          1.000000\n",
      "25%          3.550000\n",
      "50%          5.000000\n",
      "75%          5.080000\n",
      "max          6.000000\n",
      "Name: fathersocc, dtype: float64\n",
      "count    2.167100e+04\n",
      "mean    -3.934527e-17\n",
      "std      1.000023e+00\n",
      "min     -1.157637e+00\n",
      "25%     -2.718434e-01\n",
      "50%     -1.248438e-01\n",
      "75%      7.624930e-02\n",
      "max      1.032793e+02\n",
      "Name: ZwealthT, dtype: float64\n",
      "count    21671.000000\n",
      "mean         3.483982\n",
      "std          1.361407\n",
      "min          1.000000\n",
      "25%          2.362000\n",
      "50%          3.192000\n",
      "75%          4.458000\n",
      "max          6.000000\n",
      "Name: rocc, dtype: float64\n",
      "count            21671\n",
      "unique           21671\n",
      "top       AT-000327-01\n",
      "freq                 1\n",
      "Name: mergeid, dtype: object\n",
      "count     21671.000000\n",
      "mean     494060.183425\n",
      "std      287517.724308\n",
      "min          16.000000\n",
      "25%      245304.000000\n",
      "50%      491289.000000\n",
      "75%      740970.500000\n",
      "max      999995.000000\n",
      "Name: hhid, dtype: float64\n",
      "count    4379.000000\n",
      "mean     2012.633706\n",
      "std         4.404887\n",
      "min      2004.000000\n",
      "25%      2009.000000\n",
      "50%      2013.000000\n",
      "75%      2016.000000\n",
      "max      2021.000000\n",
      "Name: deathY, dtype: float64\n",
      "count    21671.000000\n",
      "mean         1.321120\n",
      "std          0.476505\n",
      "min          1.000000\n",
      "25%          1.000000\n",
      "50%          1.000000\n",
      "75%          2.000000\n",
      "max          5.000000\n",
      "Name: pn, dtype: float64\n",
      "count    21671.000000\n",
      "mean         0.202067\n",
      "std          0.401551\n",
      "min          0.000000\n",
      "25%          0.000000\n",
      "50%          0.000000\n",
      "75%          0.000000\n",
      "max          1.000000\n",
      "Name: death, dtype: float64\n",
      "count           21671\n",
      "unique             12\n",
      "top       056.Belgium\n",
      "freq             2905\n",
      "Name: isocountry, dtype: object\n",
      "count    20880.000000\n",
      "mean      3492.395001\n",
      "std       4002.571595\n",
      "min        109.177475\n",
      "25%        967.149975\n",
      "50%       1584.001300\n",
      "75%       5942.193750\n",
      "max      52171.406000\n",
      "Name: weights, dtype: float64\n",
      "count    21671.000000\n",
      "mean        63.205436\n",
      "std         10.075267\n",
      "min         25.000000\n",
      "25%         55.000000\n",
      "50%         62.000000\n",
      "75%         70.000000\n",
      "max         99.000000\n",
      "Name: age, dtype: float64\n",
      "count    21671.0\n",
      "mean         1.0\n",
      "std          0.0\n",
      "min          1.0\n",
      "25%          1.0\n",
      "50%          1.0\n",
      "75%          1.0\n",
      "max          1.0\n",
      "Name: dataset, dtype: float64\n"
     ]
    }
   ],
   "source": [
    "for col in df_SHARE.columns:\n",
    "    print( df_SHARE[col].describe())"
   ]
  },
  {
   "cell_type": "code",
   "execution_count": 25,
   "metadata": {
    "ExecuteTime": {
     "end_time": "2023-04-11T01:01:39.583604Z",
     "start_time": "2023-04-11T01:01:39.581278Z"
    }
   },
   "outputs": [],
   "source": [
    "domain_lst = list(set(df_HRS.columns).intersection(set(df_SHARE)))\n",
    "domain_lst.remove('death')"
   ]
  },
  {
   "cell_type": "code",
   "execution_count": 26,
   "metadata": {
    "ExecuteTime": {
     "end_time": "2023-04-11T01:01:43.663367Z",
     "start_time": "2023-04-11T01:01:41.572681Z"
    }
   },
   "outputs": [
    {
     "name": "stdout",
     "output_type": "stream",
     "text": [
      "today is 2023-04-11 01:01:41.565155\n",
      "\n",
      "xgb\n",
      "seed is 87785\n",
      "imv=0.09996658459178699,\n",
      "roc-auc=0.7963376540812322,\n",
      "pr-auc=0.5713663614083474,\n",
      "f1=0.4924224761016554,\n",
      "efron_r2=0.21324653870387322,\n",
      "ffc_r2=0.4806852074093836,\n",
      "IP=0.23747568093385213\n",
      "\n",
      "lgb\n",
      "seed is 87785\n",
      "imv=0.11746227143840406,\n",
      "roc-auc=0.8112501763274802,\n",
      "pr-auc=0.5966801027035116,\n",
      "f1=0.501067615658363,\n",
      "efron_r2=0.24665750566485056,\n",
      "ffc_r2=0.5027388877948598,\n",
      "IP=0.23747568093385213\n"
     ]
    }
   ],
   "source": [
    "from src import params\n",
    "from datetime import datetime\n",
    "from src import Evaluate\n",
    "from src import Models\n",
    "\n",
    "model_params = params.model_params\n",
    "# Model Performance Comparison\n",
    "\n",
    "print(f'today is {datetime.today()}')\n",
    "for model_selection in ['xgb', 'lgb']:\n",
    "    print(f'\\n{model_selection}')\n",
    "    model = Models.Model_fixed_test_size(data=df,\n",
    "                                         test_size=model_params['test_size'],\n",
    "                                         domain_list=domain_lst,\n",
    "                                         model=model_selection,\n",
    "                                         train_subset_size=1,\n",
    "                                         order=0,\n",
    "                                         y_colname=model_params['y_colname'],\n",
    "                                         random_state=model_params['random_state'])\n",
    "    evas = Evaluate.metric(model)\n",
    "    print(f'imv={evas.imv},\\nroc-auc={evas.auc_score},\\npr-auc={evas.pr_auc},\\nf1={evas.pr_f1},\\nefron_r2={evas.efron_rsquare},\\nffc_r2={evas.ffc_r2},\\nIP={evas.pr_no_skill}')\n",
    "\n",
    "\n",
    "\n"
   ]
  },
  {
   "cell_type": "code",
   "execution_count": 27,
   "metadata": {
    "ExecuteTime": {
     "end_time": "2023-04-11T01:01:58.686302Z",
     "start_time": "2023-04-11T01:01:58.683361Z"
    }
   },
   "outputs": [
    {
     "data": {
      "text/plain": [
       "(10574, 28)"
      ]
     },
     "execution_count": 27,
     "metadata": {},
     "output_type": "execute_result"
    }
   ],
   "source": [
    "model.X_test.shape\n"
   ]
  },
  {
   "cell_type": "code",
   "execution_count": null,
   "metadata": {},
   "outputs": [],
   "source": []
  }
 ],
 "metadata": {
  "kernelspec": {
   "display_name": "Python 3 (ipykernel)",
   "language": "python",
   "name": "python3"
  },
  "language_info": {
   "codemirror_mode": {
    "name": "ipython",
    "version": 3
   },
   "file_extension": ".py",
   "mimetype": "text/x-python",
   "name": "python",
   "nbconvert_exporter": "python",
   "pygments_lexer": "ipython3",
   "version": "3.8.6"
  },
  "toc": {
   "base_numbering": 1,
   "nav_menu": {},
   "number_sections": true,
   "sideBar": true,
   "skip_h1_title": false,
   "title_cell": "Table of Contents",
   "title_sidebar": "Contents",
   "toc_cell": false,
   "toc_position": {},
   "toc_section_display": true,
   "toc_window_display": false
  },
  "varInspector": {
   "cols": {
    "lenName": 16,
    "lenType": 16,
    "lenVar": 40
   },
   "kernels_config": {
    "python": {
     "delete_cmd_postfix": "",
     "delete_cmd_prefix": "del ",
     "library": "var_list.py",
     "varRefreshCmd": "print(var_dic_list())"
    },
    "r": {
     "delete_cmd_postfix": ") ",
     "delete_cmd_prefix": "rm(",
     "library": "var_list.r",
     "varRefreshCmd": "cat(var_dic_list()) "
    }
   },
   "types_to_exclude": [
    "module",
    "function",
    "builtin_function_or_method",
    "instance",
    "_Feature"
   ],
   "window_display": false
  }
 },
 "nbformat": 4,
 "nbformat_minor": 1
}
