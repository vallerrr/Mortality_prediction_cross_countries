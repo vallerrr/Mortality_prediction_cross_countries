{
 "cells": [
  {
   "cell_type": "code",
   "execution_count": 3,
   "metadata": {},
   "outputs": [],
   "source": [
    "import os\n",
    "from data_preprocess.Codes.Params import recode_var_dict,var_dict_1,var_dict_2,read_df,var_dict_0\n",
    "import numpy as np\n",
    "import pandas as pd\n",
    "import math\n",
    "df = read_df()"
   ]
  },
  {
   "cell_type": "markdown",
   "metadata": {},
   "source": [
    "# History_of_Medicaid"
   ]
  },
  {
   "cell_type": "markdown",
   "metadata": {},
   "source": [
    "df0 = pd.read_csv(\"/data_preprocess/Data/Variables/multi_original/10_History_of_Medicaid.csv\", index_col=0)\n",
    "df1 = pd.read_csv(\"/data_preprocess/Data/Variables/multi_original/10_History_of_Medicaid_92.csv\")\n",
    "df2 = pd.read_csv(\"/data_preprocess/Data/Variables/multi_original/10_History_of_Medicaid_94.csv\")\n",
    "\n",
    "temp = pd.merge(left=df0,right=df2, left_on=['HHID','PN'],right_on=['HHID','PN'])\n",
    "\n",
    "for index,row in df1.iterrows():\n",
    "    hhid = row['HHID']\n",
    "    if hhid in list(temp.HHID):\n",
    "        length=len(temp.loc[temp['HHID']==hhid,])\n",
    "        temp.loc[temp['HHID']==hhid,'V6604']= [row['V6604']]*length\n",
    "        \n",
    "\n",
    "temp.to_csv(\"/Users/valler/Python/OX_Thesis/OX_thesis/data_preprocess/Data/Variables/10_History_of_Medicaid.csv\")\n"
   ]
  },
  {
   "cell_type": "markdown",
   "metadata": {},
   "source": [
    "# Never Married\n",
    "draw information from the corss_wave"
   ]
  },
  {
   "cell_type": "markdown",
   "metadata": {},
   "source": [
    "\n",
    "df_marst = pd.read_csv(\"/data_preprocess/Data/Variables/multi_original/9_Never_Married.csv\")\n",
    "\n",
    "\n",
    "columns_to_check = ['V225_x', 'W200', 'E375', 'F1071','G1158', 'HMARITAL', 'JB063', 'KB063', 'LB063']\n",
    "for index,row in df_marst.iterrows():\n",
    "    never_married_num = row[columns_to_check].sum()\n",
    "    not_null_num = row[columns_to_check].notnull().sum()\n",
    "    if never_married_num==not_null_num:\n",
    "        df_marst.loc[index,'value']=1\n",
    "    else:\n",
    "        df_marst.loc[index,'value']=-1\n",
    "    if not_null_num ==0:\n",
    "        df_marst.loc[index, 'value'] = None\n",
    "\n",
    "df_marst['value'].isnull().sum()\n",
    "df_to_save = df_marst.loc[:,['HHID','PN','value']]\n",
    "df_to_save.to_csv(\"/Users/valler/Python/OX_Thesis/OX_thesis/data_preprocess/Data/Variables/9_Never_Married.csv\")\n"
   ]
  },
  {
   "cell_type": "markdown",
   "metadata": {},
   "source": [
    "#  family Income and wealth (rand)"
   ]
  },
  {
   "cell_type": "code",
   "execution_count": 2,
   "metadata": {},
   "outputs": [],
   "source": [
    "df_rand = pd.read_stata('/Users/valler/Python/OX_Thesis/OX_thesis/data_preprocess/Data/Rand/randhrs1992_2018v1.dta')"
   ]
  },
  {
   "cell_type": "code",
   "execution_count": null,
   "metadata": {},
   "outputs": [],
   "source": [
    "\n",
    "Income = df_rand.loc[:,['hhid','pn','h8itot','H9ITOT'.lower(),'H8ATOTW'.lower(),'H9ATOTW'.lower()]]\n",
    "\n",
    "# orginal file save\n",
    "# save Income\n",
    "Income.loc[:,['hhid','pn','h8itot']].to_csv(\"/Users/valler/Python/OX_Thesis/OX_thesis/data_preprocess/Data/Variables/non_standardized/43_Income_06.csv\")\n",
    "Income.loc[:,['hhid','pn','h9itot']].to_csv(\"/Users/valler/Python/OX_Thesis/OX_thesis/data_preprocess/Data/Variables/non_standardized/43_Income_08.csv\")\n",
    "\n",
    "# save wealth\n",
    "Income.loc[:,['hhid','pn','h8atotw']].to_csv(\"/Users/valler/Python/OX_Thesis/OX_thesis/data_preprocess/Data/Variables/non_standardized/44_Wealth_06.csv\")\n",
    "Income.loc[:,['hhid','pn','h9atotw']].to_csv(\"/Users/valler/Python/OX_Thesis/OX_thesis/data_preprocess/Data/Variables/non_standardized/44_Wealth_08.csv\")\n",
    "\n",
    "# standardise\n",
    "Income.replace({0:None},inplace=True)\n",
    "\n",
    "for column in Income.columns:\n",
    "    if (column != 'hhid') & (column != 'pn'):\n",
    "        Income[column]=np.log(Income.loc[:,column].astype('float'))\n",
    "\n",
    "        Income[column] -= np.mean(Income[column], axis=0)\n",
    "        Income[column] /= np.std(Income[column], axis=0)\n",
    "        Income[column] = -1 * (Income[column])\n",
    "\n",
    "# save Income\n",
    "Income.loc[:,['hhid','pn','h8itot']].to_csv(\"/Users/valler/Python/OX_Thesis/OX_thesis/data_preprocess/Data/Variables/43_Income_06_rev_stan.csv\")\n",
    "Income.loc[:,['hhid','pn','h9itot']].to_csv(\"/Users/valler/Python/OX_Thesis/OX_thesis/data_preprocess/Data/Variables/43_Income_08_rev_stan.csv\")\n",
    "\n",
    "# save wealth\n",
    "Income.loc[:,['hhid','pn','h8atotw']].to_csv(\"/Users/valler/Python/OX_Thesis/OX_thesis/data_preprocess/Data/Variables/44_Wealth_06_rev_stan.csv\")\n",
    "Income.loc[:,['hhid','pn','h9atotw']].to_csv(\"/Users/valler/Python/OX_Thesis/OX_thesis/data_preprocess/Data/Variables/44_Wealth_08_rev_stan.csv\")\n",
    "\n"
   ]
  },
  {
   "cell_type": "markdown",
   "metadata": {},
   "source": [
    "# Lower Occupation\n",
    "save to df here, rather than through the merge"
   ]
  },
  {
   "cell_type": "code",
   "execution_count": null,
   "metadata": {},
   "outputs": [],
   "source": [
    "Occupation = df_rand.loc[:,['hhid','pn', 's8jcoccb', 's9jcoccb','s7jcoccb','s6jcocc','s5jcocc','s4jcocc','s3jcocc','s2jcocc','s1jcocc']]\n",
    "\n",
    "replace_dict = {'18.office+admin support occups': '2', '01.management occupations': '1', '17.sales occups': '3', '09.education/training/library occs': '3', '24.transport/material moving occups': '6', '23.production occups': '6', '15.blding/grounds/clean/maint occups': '5', '20.construction trades': '6', '11.hlthcare practition/tech occs': '2', '16.personal care+service occups': '5', '22.install/maint/repair workrs': '5', '14.food prep+serving occs': '6', '07.community+social svcs occs': '5', '12.healthcare support occs': '5', '03.financial specialists': '2', '13.protective service occs': '4', '02.business oper-ns specialists': '1', '10.arts/design/entertnmt occs': '2', '05.architecture+engineering occs': '2', '04.computer+math occs': '2', '06.life/physical/socialsci occs': '2', '08.legal occups': '2', '19.farm/fish/forestry occups': '6', '21.extraction workers': '5', '25.military specific occups': '4', '02.prof specialty opr/tech sup': '2', '01.managerial specialty oper': '1', '04.clerical/admin supp': '3', '03.sales': '3', '09.personal svc': '5', '15.operators: transport, etc': '6', '14.operators: machine': '6', '10.farming/forestry/fishing': '5', '12.constr trade/extractors': '3', '11.mechanics/repair': '2', '16.operators: handlers, etc': '6', '13.precision production': '6', '07.svc:food prep': '5', '08.health svc': '5', '06.svc:protection': '4', '05.svc:prv hhld/clean/bldg svc': '5', '17.member of armed forces': '4'}\n",
    "#for value in list(Occupation.s6jcocc.value_counts().index):\n",
    "#    print(value)\n",
    "#    replace = input('Input the value to replace it')\n",
    "#    replace_dict[value]=replace\n",
    "#print(replace_dict)\n",
    "Occupation.replace(replace_dict,inplace=True)\n",
    "\n",
    "#reverse_coded\n",
    "reverse_dict = {6:1,5:2,4:3,3:4,2:5,1:6}\n",
    "Occupation.replace(reverse_dict,inplace=True)\n",
    "\n",
    "Occupation.columns\n",
    "# iterate through the 8 waves to get the most recent job occupation status\n",
    "\n",
    "for index, row in Occupation.iterrows():\n",
    "    column_num=1\n",
    "    while column_num <10:\n",
    "\n",
    "        column='s{}jcocc'.format(column_num) if column_num<7 else 's{}jcoccb'.format(column_num)\n",
    "        if ~np.isnan(float(row[column])):\n",
    "            Occupation.loc[index,'value']=row[column]\n",
    "        column_num+=1\n",
    "\n",
    "##NOTE!!!! OCCUPATION is not merged to df through the usual Merge process, it's all done here \n",
    "\n",
    "\n",
    "\n",
    "# standardise\n",
    "Occupation.loc[:,'value']=Occupation.loc[:,'value'].astype('float')\n",
    "Occupation.loc[:,'value'] -= np.mean(Occupation['value'], axis=0)\n",
    "Occupation.loc[:,'value'] /= np.std(Occupation['value'], axis=0)\n",
    "\n",
    "# match to the df (already delete years not interviewed in 2006/2008, sample size=19193)\n",
    "Occupation['hhidpn']=[str(x)+str(y) for x,y in zip(Occupation['hhid'],Occupation['pn'])]\n",
    "df['hhidpn']=[\"{:06d}\".format(int(x))+'{:03d}'.format(y) for x,y in zip(df['hhid'],df['pn'])]\n",
    "\n",
    "    \n",
    "count=0\n",
    "for index,row in df.iterrows():\n",
    "    hhidpn=row['hhidpn']\n",
    "    if hhidpn in list(Occupation.hhidpn):\n",
    "        value = Occupation.loc[Occupation['hhidpn']==hhidpn,'value'].values\n",
    "        df.loc[index,'rocc'] = value\n",
    "        # print(count,value)\n",
    "        count+=1\n"
   ]
  },
  {
   "cell_type": "code",
   "execution_count": null,
   "metadata": {},
   "outputs": [],
   "source": [
    "def save_df(df):\n",
    "    df.to_csv('/Users/valler/Python/OX_Thesis/OX_thesis/data_preprocess/Data/merge_data.csv',index=False)\n",
    "save_df(df)"
   ]
  },
  {
   "cell_type": "markdown",
   "metadata": {},
   "source": [
    "# lower father occupation\n",
    "df is generated in Variable_Acquire\n",
    "here we reverse code it\n",
    "save it first"
   ]
  },
  {
   "cell_type": "markdown",
   "metadata": {},
   "source": [
    "\n",
    "df.loc[:,['HHID','PN','KB024M']].to_csv(\"/Users/valler/Python/OX_Thesis/OX_thesis/data_preprocess/Data/Variables/non_standardized/42_Lower_Father_Occupational_Status_06_rev.csv\")\n",
    "df.loc[:,['HHID','PN','LB024M']].to_csv(\"/Users/valler/Python/OX_Thesis/OX_thesis/data_preprocess/Data/Variables/non_standardized/42_Lower_Father_Occupational_Status_08_rev.csv\")\n",
    "\n",
    "df.loc[:,['KB024M','LB024M']].replace(reverse_dict,inplace=True)\n",
    "#standardise\n",
    "df.loc[:,'KB024M']=df.loc[:,'KB024M'].astype('float')\n",
    "df.loc[:,'KB024M'] -= np.mean(df['KB024M'], axis=0)\n",
    "df.loc[:,'KB024M'] /= np.std(df['KB024M'], axis=0)\n",
    "\n",
    "df.loc[:,'LB024M']=df.loc[:,'LB024M'].astype('float')\n",
    "df.loc[:,'LB024M'] -= np.mean(df['LB024M'], axis=0)\n",
    "df.loc[:,'LB024M'] /= np.std(df['LB024M'], axis=0)\n",
    "\n",
    "#save after standardise\n",
    "df.loc[:,['HHID','PN','KB024M']].to_csv(\"/Users/valler/Python/OX_Thesis/OX_thesis/data_preprocess/Data/Variables/42_Lower_Father_Occupational_Status_06_rev_stan.csv\")\n",
    "df.loc[:,['HHID','PN','LB024M']].to_csv(\"/Users/valler/Python/OX_Thesis/OX_thesis/data_preprocess/Data/Variables/42_Lower_Father_Occupational_Status_08_rev_stan.csv\")\n",
    "\n"
   ]
  },
  {
   "cell_type": "markdown",
   "metadata": {},
   "source": [
    "#  Alcohol"
   ]
  },
  {
   "cell_type": "code",
   "execution_count": null,
   "metadata": {},
   "outputs": [],
   "source": [
    "Alcohol_cols = ['s8drink', 's9drink', 'r8drinkd', 'r9drinkd', 'r8drinkn', 'r9drinkn']\n",
    "\n",
    "Alcohol = df_rand.loc[:,['hhid','pn']+Alcohol_cols]\n",
    "\n",
    "\n",
    "Alcohol.replace({'0.0 or doesnt drink':0},inplace=True)\n",
    "Alcohol_drink_num = Alcohol.loc[:,['hhid','pn','r8drinkn','r9drinkn']]\n",
    "Alcohol_drink_num.replace({'0.0 or doesnt drink':0},inplace=True)\n",
    "\n",
    "# here we select the var [r8drinkn,r9drinkn]>=3 as the alcohol abuse\n",
    "Alcohol_drink_num.loc[:,'r9drinkn']=Alcohol_drink_num.loc[:,'r9drinkn'].astype('float')\n",
    "Alcohol_drink_num.loc[Alcohol_drink_num['r9drinkn']<3,'r9drinkn'] = -1\n",
    "Alcohol_drink_num.loc[Alcohol_drink_num['r9drinkn']>=3,'r9drinkn'] = 1\n",
    "\n",
    "Alcohol_drink_num.loc[:,'r8drinkn']=Alcohol_drink_num.loc[:,'r8drinkn'].astype('float')\n",
    "Alcohol_drink_num.loc[Alcohol_drink_num['r8drinkn']<3,'r8drinkn'] = -1\n",
    "Alcohol_drink_num.loc[Alcohol_drink_num['r8drinkn']>=3,'r8drinkn'] = 1\n",
    "\n",
    "\n",
    "Alcohol_drink_num['r8drinkn'].value_counts()\n",
    "Alcohol_drink_num['r9drinkn'].value_counts()\n",
    "\n",
    "# save\n",
    "df_to_save = Alcohol_drink_num.loc[:,['hhid','pn','r8drinkn']]\n",
    "df_to_save.rename(columns ={'hhid':'HHID','pn':'PN','r8drinkn':'value', 'r9drinkn':'value'},inplace=True)\n",
    "df_to_save.to_csv(\"/Users/valler/Python/OX_Thesis/OX_thesis/data_preprocess/Data/Variables/11_Alcohol_Abuse_06.csv\")\n",
    "\n",
    "df_to_save = Alcohol_drink_num.loc[:,['hhid','pn','r9drinkn']]\n",
    "df_to_save.rename(columns ={'hhid':'HHID','pn':'PN','s8jcoccb':'value', 'r9drinkn':'value'},inplace=True)\n",
    "df_to_save.to_csv(\"/Users/valler/Python/OX_Thesis/OX_thesis/data_preprocess/Data/Variables/11_Alcohol_Abuse_08.csv\")\n"
   ]
  },
  {
   "cell_type": "markdown",
   "metadata": {},
   "source": [
    "# history of smoking"
   ]
  },
  {
   "cell_type": "code",
   "execution_count": null,
   "metadata": {},
   "outputs": [],
   "source": [
    "Smoke = df_rand.loc[:,['hhid','pn','r8smokev','r9smokev']]\n",
    "Smoke.replace({'1.yes':1,'0.no':0},inplace=True)\n",
    "Smoke['r9smokev'].value_counts()\n",
    "\n",
    "# save\n",
    "df_to_save = Smoke.loc[:,['hhid','pn','r8smokev']]\n",
    "df_to_save.rename(columns ={'hhid':'HHID','pn':'PN','r8smokev':'value', 'r9smokev':'value'},inplace=True)\n",
    "df_to_save.to_csv(\"/Users/valler/Python/OX_Thesis/OX_thesis/data_preprocess/Data/Variables/13_History_of_Smoking_06.csv\")\n",
    "\n",
    "df_to_save = Smoke.loc[:,['hhid','pn','r9smokev']]\n",
    "df_to_save.rename(columns ={'hhid':'HHID','pn':'PN','r8smokev':'value', 'r9smokev':'value'},inplace=True)\n",
    "df_to_save.to_csv(\"/Users/valler/Python/OX_Thesis/OX_thesis/data_preprocess/Data/Variables/13_History_of_Smoking_08.csv\")\n"
   ]
  },
  {
   "cell_type": "markdown",
   "metadata": {},
   "source": [
    "# current smoker"
   ]
  },
  {
   "cell_type": "code",
   "execution_count": null,
   "metadata": {},
   "outputs": [],
   "source": [
    "smoke_now = df_rand.loc[:,['hhid','pn','r8smoken','r9smoken']]\n",
    "smoke_now.replace({'1.yes':1,'0.no':0},inplace=True)\n",
    "smoke_now['r9smoken'].value_counts()\n",
    "\n",
    "# save\n",
    "df_to_save = smoke_now.loc[:,['hhid','pn','r8smoken']]\n",
    "df_to_save.rename(columns ={'hhid':'HHID','pn':'PN','r8smoken':'value', 'r9smoken':'value'},inplace=True)\n",
    "df_to_save.to_csv(\"/Users/valler/Python/OX_Thesis/OX_thesis/data_preprocess/Data/Variables/12_Current_Smoker_06.csv\")\n",
    "\n",
    "df_to_save = smoke_now.loc[:,['hhid','pn','r9smoken']]\n",
    "df_to_save.rename(columns ={'hhid':'HHID','pn':'PN','r8smoken':'value', 'r9smoken':'value'},inplace=True)\n",
    "df_to_save.to_csv(\"/Users/valler/Python/OX_Thesis/OX_thesis/data_preprocess/Data/Variables/12_Current_Smoker_08.csv\")\n"
   ]
  }
 ],
 "metadata": {
  "kernelspec": {
   "display_name": "Python 3 (ipykernel)",
   "language": "python",
   "name": "python3"
  },
  "language_info": {
   "codemirror_mode": {
    "name": "ipython",
    "version": 3
   },
   "file_extension": ".py",
   "mimetype": "text/x-python",
   "name": "python",
   "nbconvert_exporter": "python",
   "pygments_lexer": "ipython3",
   "version": "3.7.11"
  },
  "toc": {
   "base_numbering": 1,
   "nav_menu": {},
   "number_sections": true,
   "sideBar": true,
   "skip_h1_title": false,
   "title_cell": "Table of Contents",
   "title_sidebar": "Contents",
   "toc_cell": false,
   "toc_position": {},
   "toc_section_display": true,
   "toc_window_display": false
  },
  "varInspector": {
   "cols": {
    "lenName": 16,
    "lenType": 16,
    "lenVar": 40
   },
   "kernels_config": {
    "python": {
     "delete_cmd_postfix": "",
     "delete_cmd_prefix": "del ",
     "library": "var_list.py",
     "varRefreshCmd": "print(var_dic_list())"
    },
    "r": {
     "delete_cmd_postfix": ") ",
     "delete_cmd_prefix": "rm(",
     "library": "var_list.r",
     "varRefreshCmd": "cat(var_dic_list()) "
    }
   },
   "types_to_exclude": [
    "module",
    "function",
    "builtin_function_or_method",
    "instance",
    "_Feature"
   ],
   "window_display": false
  }
 },
 "nbformat": 4,
 "nbformat_minor": 1
}
