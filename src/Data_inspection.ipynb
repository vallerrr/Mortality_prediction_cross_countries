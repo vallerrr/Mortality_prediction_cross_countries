{
 "cells": [
  {
   "cell_type": "markdown",
   "metadata": {},
   "source": [
    "# Package and Data Import"
   ]
  },
  {
   "cell_type": "code",
   "execution_count": 1,
   "metadata": {},
   "outputs": [
    {
     "data": {
      "text/plain": "'3.8.6 (v3.8.6:db455296be, Sep 23 2020, 13:31:39) \\n[Clang 6.0 (clang-600.0.57)]'"
     },
     "execution_count": 1,
     "metadata": {},
     "output_type": "execute_result"
    }
   ],
   "source": [
    "import sys \n",
    "sys.version"
   ]
  },
  {
   "cell_type": "code",
   "execution_count": 5,
   "metadata": {},
   "outputs": [],
   "source": [
    "import numpy as np\n",
    "from src import DataImport\n",
    "import matplotlib.pyplot as plt\n",
    "from src import Models\n",
    "import shap\n",
    "import pandas as pd \n",
    "import xgboost\n",
    "from pathlib import Path\n",
    "from sklearn.model_selection import StratifiedKFold, cross_val_score\n",
    "from src import Evaluate"
   ]
  },
  {
   "cell_type": "code",
   "execution_count": 6,
   "metadata": {},
   "outputs": [
    {
     "name": "stdout",
     "output_type": "stream",
     "text": [
      "Package                  Version\n",
      "------------------------ --------\n",
      "anyio                    3.6.2\n",
      "appnope                  0.1.3\n",
      "argon2-cffi              21.3.0\n",
      "argon2-cffi-bindings     21.2.0\n",
      "arrow                    1.2.3\n",
      "astor                    0.8.1\n",
      "asttokens                2.2.1\n",
      "attrs                    22.2.0\n",
      "autograd                 1.5\n",
      "autograd-gamma           0.5.0\n",
      "backcall                 0.2.0\n",
      "beautifulsoup4           4.11.2\n",
      "bleach                   6.0.0\n",
      "cffi                     1.15.1\n",
      "cloudpickle              2.2.1\n",
      "comm                     0.1.2\n",
      "contourpy                1.0.7\n",
      "cycler                   0.11.0\n",
      "debugpy                  1.6.6\n",
      "decorator                5.1.1\n",
      "defusedxml               0.7.1\n",
      "executing                1.2.0\n",
      "fastjsonschema           2.16.2\n",
      "fonttools                4.38.0\n",
      "formulaic                0.5.2\n",
      "fqdn                     1.5.1\n",
      "future                   0.18.3\n",
      "graphlib-backport        1.0.3\n",
      "idna                     3.4\n",
      "importlib-metadata       6.0.0\n",
      "importlib-resources      5.12.0\n",
      "interface-meta           1.3.0\n",
      "ipykernel                6.21.2\n",
      "ipython                  8.10.0\n",
      "ipython-genutils         0.2.0\n",
      "ipywidgets               8.0.4\n",
      "isoduration              20.11.0\n",
      "jedi                     0.18.2\n",
      "Jinja2                   3.1.2\n",
      "joblib                   1.2.0\n",
      "jsonpointer              2.3\n",
      "jsonschema               4.17.3\n",
      "jupyter                  1.0.0\n",
      "jupyter_client           8.0.3\n",
      "jupyter-console          6.6.1\n",
      "jupyter_core             5.2.0\n",
      "jupyter-events           0.6.3\n",
      "jupyter_server           2.3.0\n",
      "jupyter_server_terminals 0.4.4\n",
      "jupyterlab-pygments      0.2.2\n",
      "jupyterlab-widgets       3.0.5\n",
      "kiwisolver               1.4.4\n",
      "lifelines                0.27.4\n",
      "lightgbm                 3.3.5\n",
      "llvmlite                 0.39.1\n",
      "MarkupSafe               2.1.2\n",
      "matplotlib               3.7.0\n",
      "matplotlib-inline        0.1.6\n",
      "missingpy                0.2.0\n",
      "mistune                  2.0.5\n",
      "nbclassic                0.5.2\n",
      "nbclient                 0.7.2\n",
      "nbconvert                7.2.9\n",
      "nbformat                 5.7.3\n",
      "nest-asyncio             1.5.6\n",
      "notebook                 6.5.2\n",
      "notebook_shim            0.2.2\n",
      "numba                    0.56.4\n",
      "numpy                    1.23.5\n",
      "packaging                23.0\n",
      "pandas                   1.5.3\n",
      "pandocfilters            1.5.0\n",
      "parso                    0.8.3\n",
      "pexpect                  4.8.0\n",
      "pickleshare              0.7.5\n",
      "Pillow                   9.4.0\n",
      "pip                      21.3.1\n",
      "pkgutil_resolve_name     1.3.10\n",
      "platformdirs             3.0.0\n",
      "prometheus-client        0.16.0\n",
      "prompt-toolkit           3.0.37\n",
      "psutil                   5.9.4\n",
      "ptyprocess               0.7.0\n",
      "pure-eval                0.2.2\n",
      "pycparser                2.21\n",
      "Pygments                 2.14.0\n",
      "pyparsing                3.0.9\n",
      "pyrsistent               0.19.3\n",
      "python-dateutil          2.8.2\n",
      "python-json-logger       2.0.7\n",
      "pytz                     2022.7.1\n",
      "PyYAML                   6.0\n",
      "pyzmq                    25.0.0\n",
      "qtconsole                5.4.0\n",
      "QtPy                     2.3.0\n",
      "rfc3339-validator        0.1.4\n",
      "rfc3986-validator        0.1.1\n",
      "scikit-learn             1.2.1\n",
      "scipy                    1.10.1\n",
      "Send2Trash               1.8.0\n",
      "setuptools               60.2.0\n",
      "shap                     0.41.0\n",
      "six                      1.16.0\n",
      "slicer                   0.0.7\n",
      "sniffio                  1.3.0\n",
      "soupsieve                2.4\n",
      "stack-data               0.6.2\n",
      "terminado                0.17.1\n",
      "threadpoolctl            3.1.0\n",
      "tinycss2                 1.2.1\n",
      "tornado                  6.2\n",
      "tqdm                     4.64.1\n",
      "traitlets                5.9.0\n",
      "typing_extensions        4.5.0\n",
      "uri-template             1.2.0\n",
      "wcwidth                  0.2.6\n",
      "webcolors                1.12\n",
      "webencodings             0.5.1\n",
      "websocket-client         1.5.1\n",
      "wheel                    0.37.1\n",
      "widgetsnbextension       4.0.5\n",
      "wrapt                    1.14.1\n",
      "xgboost                  1.7.4\n",
      "zipp                     3.14.0\n",
      "\u001B[33mWARNING: You are using pip version 21.3.1; however, version 23.0.1 is available.\n",
      "You should consider upgrading via the '/Users/valler/Python/OX_Thesis/OX_thesis/venv/bin/python -m pip install --upgrade pip' command.\u001B[0m\n"
     ]
    }
   ],
   "source": [
    "! pip list"
   ]
  },
  {
   "cell_type": "markdown",
   "metadata": {},
   "source": [
    "# dfMort imputed on 22th Feb"
   ]
  },
  {
   "cell_type": "markdown",
   "metadata": {},
   "source": [
    "## Imputation"
   ]
  },
  {
   "cell_type": "code",
   "execution_count": null,
   "metadata": {},
   "outputs": [],
   "source": [
    "import pandas as pd\n",
    "import numpy as np\n",
    "from pathlib import Path\n",
    "import sys\n",
    "\n",
    "import sklearn.neighbors._base\n",
    "sys.modules['sklearn.neighbors.base'] = sklearn.neighbors._base\n",
    "from missingpy import MissForest\n",
    "\n",
    "df=pd.read_csv(Path.cwd().parent/'Data/HRS/data_preprocess/Data/merge_data_step_3.csv')\n",
    "df['death'] = [0 if np.isnan(x) else 1 for x in df['deathYear']]\n",
    "df=df.dropna(thresh=50)\n",
    "\n",
    "df_to_missing_forest=df.drop(columns=['death','deathYear','deathMonth','deathReason','year_check','hhidpn','hhid','pn'])\n",
    "\n"
   ]
  },
  {
   "cell_type": "code",
   "execution_count": null,
   "metadata": {},
   "outputs": [],
   "source": [
    "# missing forest\n",
    "df_to_missing_forest=df.drop(columns=['death','deathYear','deathMonth','deathReason','year_check','hhidpn','hhid','pn'])\n",
    "imputer = MissForest(n_estimators=500, max_iter=5)\n",
    "dfLBImp = imputer.fit_transform(df_to_missing_forest)\n"
   ]
  },
  {
   "cell_type": "code",
   "execution_count": null,
   "metadata": {},
   "outputs": [],
   "source": [
    "data_non_missing_version_2 = pd.DataFrame(columns=df_to_missing_forest.columns,data=dfLBImp)\n",
    "data_non_missing_version_2.loc[:,['death','deathYear','deathMonth','deathReason','year_check','hhidpn','hhid','pn']]=df.loc[:,['death','deathYear','deathMonth','deathReason','year_check','hhidpn','hhid','pn']]\n",
    "\n",
    "data_non_missing_version_2.to_csv(Path.cwd().parent/'Data/HRS/Bio_data/df_by_us_no_missing_based_on_merge_step_3',index=False)\n"
   ]
  },
  {
   "cell_type": "markdown",
   "metadata": {},
   "source": [
    "## Performance check"
   ]
  },
  {
   "cell_type": "code",
   "execution_count": null,
   "metadata": {},
   "outputs": [],
   "source": [
    "dfMort= pd.read_csv(Path.cwd()/'Data/HRS/Bio_data/df_by_us_no_missing_based_on_merge_step_3.csv')\n",
    "\n",
    "dfMort['eversmokeYN'] = dfMort['eversmokeYN']*-1\n",
    "binary_columns = [x for x in dfMort.columns if 'YN' in x]\n",
    "for column in binary_columns:\n",
    "    dfMort[column] = [1 if x >=0 else -1 for x in dfMort[column]]\n",
    "\n",
    "dfMort.rename(columns={'deathYear': 'death_year', 'deathMonth': 'death_month'}, inplace=True)\n",
    "dfMort['death'].replace({np.nan: 0}, inplace=True)\n",
    "dfMort['deathYR'] = dfMort['death_year'] + dfMort['death_month'] / 12\n",
    "dfMort = dfMort.loc[dfMort['age'] >= 52,]\n",
    "dfMort.shape\n",
    "for model_selection in ['xgb','lgb']:\n",
    "    print(f'\\n{model_selection}')\n",
    "    model = Models.Model_fixed_test_size(data=dfMort, test_size=0.3,domain_list=domains['all'], model=model_selection,train_subset_size=1, order=0, y_colname='death')\n",
    "    evas = Evaluate.metric(model)\n",
    "    print(f'imv={evas.imv},\\nroc-auc={evas.auc_score},\\npr-auc={evas.pr_auc},\\nf1={evas.pr_f1},\\nefron_r2={evas.efron_rsquare},\\nffc_r2={evas.ffc_r2},\\nIP={evas.pr_no_skill}')\n",
    "    "
   ]
  },
  {
   "cell_type": "code",
   "execution_count": null,
   "metadata": {},
   "outputs": [],
   "source": [
    "# check value_counts difference \n",
    "\n",
    "#column = 'Zanxiety'\n",
    "column = 'rocc'\n",
    "accumulated_counts = 0\n",
    "temp=df[column].value_counts().sort_values(ascending=False)\n",
    "print(f'in original dataset, value counts of var {column} is :\\n{df_with_missing[column].value_counts()}')\n",
    "print(f'in df, value counts of var {column} is :\\n{df[column].value_counts()}')\n",
    "cat_num=len(df_with_missing[column].value_counts())\n",
    "df_temp=recode_categorical_vars(column,cat_num,df).copy()\n",
    "print(df_temp[column].value_counts())"
   ]
  },
  {
   "cell_type": "code",
   "execution_count": null,
   "metadata": {},
   "outputs": [],
   "source": [
    "# check NANs \n",
    "\n",
    "for column in df_to_missing_forest.columns:\n",
    "    print(column,sum(df_to_missing_forest[column].isna()),df_to_missing_forest[column].dtype)"
   ]
  },
  {
   "cell_type": "code",
   "execution_count": null,
   "metadata": {},
   "outputs": [],
   "source": [
    "filenames= 'merge_data.csv,merge_data_non_standardise.csv,merge_data_non_standardise_before.csv,merge_data_selected_author_rows_no_missing.csv,merge_data_selected_author_rows_no_missing_versioin_1.csv,merge_data_selected_author_rows_no_missing_versioin_2.csv,merge_data_selected_author_rows_no_missing_versioin_3.csv,merge_data_selected_int_year.csv,merge_data_step_3.csv'.split(',')\n",
    "\n",
    "for filename in filenames:\n",
    "    print(filename)\n",
    "    df_with_missing=pd.read_csv(Path.cwd().parent/f'Data/HRS/data_preprocess/Data/{filename}')\n",
    "    print(df_with_missing.rocc.value_counts())"
   ]
  },
  {
   "cell_type": "markdown",
   "metadata": {},
   "source": [
    "# Functions "
   ]
  },
  {
   "cell_type": "code",
   "execution_count": null,
   "metadata": {},
   "outputs": [],
   "source": [
    "def recode_categorical_vars(column,cat_num,df):\n",
    "    \n",
    "    # pair of values and their number of observations \n",
    "    cat_val_count_lst=[]\n",
    "    count=0\n",
    "    for index,value in df[column].value_counts().items():\n",
    "        count +=1\n",
    "        if count>=cat_num+1:\n",
    "            break\n",
    "        else:\n",
    "            # print(index,value)\n",
    "            cat_val_count_lst.append([index,value])\n",
    "    # cut off calculation \n",
    "    cut_point={}\n",
    "    for index in range(0,cat_num-1):\n",
    "        cat_diff = cat_val_count_lst[index+1][0]-cat_val_count_lst[index][0]\n",
    "        gravity = cat_val_count_lst[index][1]/(cat_val_count_lst[index][1]+cat_val_count_lst[index+1][1])\n",
    "        cut_point[cat_val_count_lst[index][0]] = cat_val_count_lst[index][0]+gravity*cat_diff\n",
    "    # cut bins \n",
    "    df[column]=pd.cut(df[column],bins=[cats[0]-100]+cats+[cats[len(cats)-1]+100],labels=[x[0] for x in cat_val_count_lst])\n",
    "    return df\n"
   ]
  }
 ],
 "metadata": {
  "kernelspec": {
   "display_name": "Python 3 (ipykernel)",
   "language": "python",
   "name": "python3"
  },
  "language_info": {
   "codemirror_mode": {
    "name": "ipython",
    "version": 3
   },
   "file_extension": ".py",
   "mimetype": "text/x-python",
   "name": "python",
   "nbconvert_exporter": "python",
   "pygments_lexer": "ipython3",
   "version": "3.8.6"
  },
  "toc": {
   "base_numbering": 1,
   "nav_menu": {},
   "number_sections": true,
   "sideBar": true,
   "skip_h1_title": false,
   "title_cell": "Table of Contents",
   "title_sidebar": "Contents",
   "toc_cell": false,
   "toc_position": {},
   "toc_section_display": true,
   "toc_window_display": false
  },
  "varInspector": {
   "cols": {
    "lenName": 16,
    "lenType": 16,
    "lenVar": 40
   },
   "kernels_config": {
    "python": {
     "delete_cmd_postfix": "",
     "delete_cmd_prefix": "del ",
     "library": "var_list.py",
     "varRefreshCmd": "print(var_dic_list())"
    },
    "r": {
     "delete_cmd_postfix": ") ",
     "delete_cmd_prefix": "rm(",
     "library": "var_list.r",
     "varRefreshCmd": "cat(var_dic_list()) "
    }
   },
   "types_to_exclude": [
    "module",
    "function",
    "builtin_function_or_method",
    "instance",
    "_Feature"
   ],
   "window_display": false
  }
 },
 "nbformat": 4,
 "nbformat_minor": 1
}
